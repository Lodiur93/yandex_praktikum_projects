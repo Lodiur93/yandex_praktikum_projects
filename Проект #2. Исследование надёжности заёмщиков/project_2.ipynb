{
 "cells": [
  {
   "cell_type": "markdown",
   "id": "0d45802d",
   "metadata": {},
   "source": [
    "# Исследование надёжности заёмщиков"
   ]
  },
  {
   "cell_type": "markdown",
   "id": "95bfb528",
   "metadata": {},
   "source": [
    "<h1>Оглавление<span class=\"tocSkip\"></span></h1>\n",
    "<div class=\"toc\"><ul class=\"toc-item\"><li><span><a href=\"#Обзор-данных\" data-toc-modified-id=\"Обзор-данных-1\"><span class=\"toc-item-num\">1&nbsp;&nbsp;</span>Обзор данных</a></span></li><li><span><a href=\"#Предобработка-данных\" data-toc-modified-id=\"Предобработка-данных-2\"><span class=\"toc-item-num\">2&nbsp;&nbsp;</span>Предобработка данных</a></span><ul class=\"toc-item\"><li><span><a href=\"#Обработка-пропусков\" data-toc-modified-id=\"Обработка-пропусков-2.1\"><span class=\"toc-item-num\">2.1&nbsp;&nbsp;</span>Обработка пропусков</a></span></li><li><span><a href=\"#Обработка-ошибок-в-данных-и-дубликатов\" data-toc-modified-id=\"Обработка-ошибок-в-данных-и-дубликатов-2.2\"><span class=\"toc-item-num\">2.2&nbsp;&nbsp;</span>Обработка ошибок в данных и дубликатов</a></span></li><li><span><a href=\"#Замена-типа-данных\" data-toc-modified-id=\"Замена-типа-данных-2.3\"><span class=\"toc-item-num\">2.3&nbsp;&nbsp;</span>Замена типа данных</a></span></li><li><span><a href=\"#Лемматизация\" data-toc-modified-id=\"Лемматизация-2.4\"><span class=\"toc-item-num\">2.4&nbsp;&nbsp;</span>Лемматизация</a></span></li><li><span><a href=\"#Удаление-неинформативных-столбцов\" data-toc-modified-id=\"Удаление-неинформативных-столбцов-2.5\"><span class=\"toc-item-num\">2.5&nbsp;&nbsp;</span>Удаление неинформативных столбцов</a></span></li><li><span><a href=\"#Категоризация-данных\" data-toc-modified-id=\"Категоризация-данных-2.6\"><span class=\"toc-item-num\">2.6&nbsp;&nbsp;</span>Категоризация данных</a></span></li></ul></li><li><span><a href=\"#Ответьте-на-вопросы\" data-toc-modified-id=\"Ответьте-на-вопросы-3\"><span class=\"toc-item-num\">3&nbsp;&nbsp;</span>Ответы на вопросы</a></span></li><li><span><a href=\"#Общий-вывод\" data-toc-modified-id=\"Общий-вывод-4\"><span class=\"toc-item-num\">4&nbsp;&nbsp;</span>Общий вывод</a></span></li></ul></div>"
   ]
  },
  {
   "cell_type": "markdown",
   "id": "8339dab6",
   "metadata": {},
   "source": [
    "Заказчик — кредитный отдел банка. Нужно разобраться, влияет ли семейное положение и количество детей клиента на факт погашения кредита в срок. Результаты исследования будут учтены при построении модели **кредитного скоринга** — специальной системы, которая оценивает способность потенциального заёмщика вернуть кредит банку.\n",
    "\n",
    "**Цель исследования** - ответить на вопросы:\n",
    "\n",
    "1. Есть ли зависимость между наличием детей и возвратом кредита в срок?\n",
    "2. Есть ли зависимость между семейным положением и возвратом кредита в срок?\n",
    "3. Есть ли зависимость между уровнем дохода и возвратом кредита в срок?\n",
    "4. Как разные цели кредита влияют на его возврат в срок?\n",
    "\n",
    "**Ход исследования**\n",
    "\n",
    "1. Обзор данных. Данные о поведении пользователей мы получим из файла `/datasets/data.csv`. О качестве данных ничего не известно. Поэтому перед проверкой гипотез понадобится обзор данных.\n",
    "2. Предобработка данных. Мы проверим данные на ошибки и поищем возможность исправить самые критичные ошибки данных.\n",
    "3. Ответы на вопросы.\n",
    "\n",
    "**Описание данных**\n",
    "\n",
    "- `children` — количество детей в семье \n",
    "- `days_employed` — общий трудовой стаж в днях\n",
    "- `dob_years` — возраст клиента в годах\n",
    "- `education` — уровень образования клиента\n",
    "- `education_id` — идентификатор уровня образования\n",
    "- `family_status` — семейное положение\n",
    "- `family_status_id` — идентификатор семейного положения\n",
    "- `gender` — пол клиента\n",
    "- `income_type` — тип занятости\n",
    "- `debt` — имел ли задолженность по возврату кредитов\n",
    "- `total_income` — ежемесячный доход\n",
    "- `purpose` — цель получения кредита."
   ]
  },
  {
   "cell_type": "markdown",
   "id": "6b63e7a4",
   "metadata": {},
   "source": [
    "## Обзор данных"
   ]
  },
  {
   "cell_type": "code",
   "execution_count": 1,
   "id": "0e057140",
   "metadata": {},
   "outputs": [],
   "source": [
    "# Импортируем библиотеку pandas\n",
    "import pandas as pd"
   ]
  },
  {
   "cell_type": "code",
   "execution_count": 2,
   "id": "ac78e527",
   "metadata": {},
   "outputs": [
    {
     "name": "stdout",
     "output_type": "stream",
     "text": [
      "<class 'pandas.core.frame.DataFrame'>\n",
      "RangeIndex: 21525 entries, 0 to 21524\n",
      "Data columns (total 12 columns):\n",
      " #   Column            Non-Null Count  Dtype  \n",
      "---  ------            --------------  -----  \n",
      " 0   children          21525 non-null  int64  \n",
      " 1   days_employed     19351 non-null  float64\n",
      " 2   dob_years         21525 non-null  int64  \n",
      " 3   education         21525 non-null  object \n",
      " 4   education_id      21525 non-null  int64  \n",
      " 5   family_status     21525 non-null  object \n",
      " 6   family_status_id  21525 non-null  int64  \n",
      " 7   gender            21525 non-null  object \n",
      " 8   income_type       21525 non-null  object \n",
      " 9   debt              21525 non-null  int64  \n",
      " 10  total_income      19351 non-null  float64\n",
      " 11  purpose           21525 non-null  object \n",
      "dtypes: float64(2), int64(5), object(5)\n",
      "memory usage: 2.0+ MB\n"
     ]
    },
    {
     "data": {
      "text/html": [
       "<div>\n",
       "<style scoped>\n",
       "    .dataframe tbody tr th:only-of-type {\n",
       "        vertical-align: middle;\n",
       "    }\n",
       "\n",
       "    .dataframe tbody tr th {\n",
       "        vertical-align: top;\n",
       "    }\n",
       "\n",
       "    .dataframe thead th {\n",
       "        text-align: right;\n",
       "    }\n",
       "</style>\n",
       "<table border=\"1\" class=\"dataframe\">\n",
       "  <thead>\n",
       "    <tr style=\"text-align: right;\">\n",
       "      <th></th>\n",
       "      <th>children</th>\n",
       "      <th>days_employed</th>\n",
       "      <th>dob_years</th>\n",
       "      <th>education</th>\n",
       "      <th>education_id</th>\n",
       "      <th>family_status</th>\n",
       "      <th>family_status_id</th>\n",
       "      <th>gender</th>\n",
       "      <th>income_type</th>\n",
       "      <th>debt</th>\n",
       "      <th>total_income</th>\n",
       "      <th>purpose</th>\n",
       "    </tr>\n",
       "  </thead>\n",
       "  <tbody>\n",
       "    <tr>\n",
       "      <th>20721</th>\n",
       "      <td>0</td>\n",
       "      <td>-933.244403</td>\n",
       "      <td>23</td>\n",
       "      <td>среднее</td>\n",
       "      <td>1</td>\n",
       "      <td>женат / замужем</td>\n",
       "      <td>0</td>\n",
       "      <td>M</td>\n",
       "      <td>компаньон</td>\n",
       "      <td>0</td>\n",
       "      <td>164154.911697</td>\n",
       "      <td>строительство жилой недвижимости</td>\n",
       "    </tr>\n",
       "    <tr>\n",
       "      <th>15368</th>\n",
       "      <td>2</td>\n",
       "      <td>-243.007947</td>\n",
       "      <td>40</td>\n",
       "      <td>среднее</td>\n",
       "      <td>1</td>\n",
       "      <td>женат / замужем</td>\n",
       "      <td>0</td>\n",
       "      <td>M</td>\n",
       "      <td>компаньон</td>\n",
       "      <td>0</td>\n",
       "      <td>115102.509418</td>\n",
       "      <td>покупка жилой недвижимости</td>\n",
       "    </tr>\n",
       "    <tr>\n",
       "      <th>17427</th>\n",
       "      <td>0</td>\n",
       "      <td>-1407.728133</td>\n",
       "      <td>36</td>\n",
       "      <td>высшее</td>\n",
       "      <td>0</td>\n",
       "      <td>женат / замужем</td>\n",
       "      <td>0</td>\n",
       "      <td>F</td>\n",
       "      <td>компаньон</td>\n",
       "      <td>0</td>\n",
       "      <td>325390.989659</td>\n",
       "      <td>операции с недвижимостью</td>\n",
       "    </tr>\n",
       "    <tr>\n",
       "      <th>367</th>\n",
       "      <td>0</td>\n",
       "      <td>-683.274502</td>\n",
       "      <td>57</td>\n",
       "      <td>Среднее</td>\n",
       "      <td>1</td>\n",
       "      <td>вдовец / вдова</td>\n",
       "      <td>2</td>\n",
       "      <td>F</td>\n",
       "      <td>сотрудник</td>\n",
       "      <td>0</td>\n",
       "      <td>74253.433737</td>\n",
       "      <td>на покупку подержанного автомобиля</td>\n",
       "    </tr>\n",
       "    <tr>\n",
       "      <th>4580</th>\n",
       "      <td>0</td>\n",
       "      <td>364886.037535</td>\n",
       "      <td>62</td>\n",
       "      <td>среднее</td>\n",
       "      <td>1</td>\n",
       "      <td>женат / замужем</td>\n",
       "      <td>0</td>\n",
       "      <td>F</td>\n",
       "      <td>пенсионер</td>\n",
       "      <td>0</td>\n",
       "      <td>70934.571734</td>\n",
       "      <td>заняться образованием</td>\n",
       "    </tr>\n",
       "  </tbody>\n",
       "</table>\n",
       "</div>"
      ],
      "text/plain": [
       "       children  days_employed  dob_years education  education_id  \\\n",
       "20721         0    -933.244403         23   среднее             1   \n",
       "15368         2    -243.007947         40   среднее             1   \n",
       "17427         0   -1407.728133         36    высшее             0   \n",
       "367           0    -683.274502         57   Среднее             1   \n",
       "4580          0  364886.037535         62   среднее             1   \n",
       "\n",
       "         family_status  family_status_id gender income_type  debt  \\\n",
       "20721  женат / замужем                 0      M   компаньон     0   \n",
       "15368  женат / замужем                 0      M   компаньон     0   \n",
       "17427  женат / замужем                 0      F   компаньон     0   \n",
       "367     вдовец / вдова                 2      F   сотрудник     0   \n",
       "4580   женат / замужем                 0      F   пенсионер     0   \n",
       "\n",
       "        total_income                             purpose  \n",
       "20721  164154.911697    строительство жилой недвижимости  \n",
       "15368  115102.509418          покупка жилой недвижимости  \n",
       "17427  325390.989659            операции с недвижимостью  \n",
       "367     74253.433737  на покупку подержанного автомобиля  \n",
       "4580    70934.571734               заняться образованием  "
      ]
     },
     "execution_count": 2,
     "metadata": {},
     "output_type": "execute_result"
    }
   ],
   "source": [
    "# Сохраним в переменную data таблицу data.csv\n",
    "data = pd.read_csv('/datasets/data.csv')\n",
    "# Получим общую информацию о data\n",
    "data.info()\n",
    "data.sample(5)"
   ]
  },
  {
   "cell_type": "code",
   "execution_count": 3,
   "id": "174a8e9b",
   "metadata": {},
   "outputs": [
    {
     "data": {
      "text/html": [
       "<div>\n",
       "<style scoped>\n",
       "    .dataframe tbody tr th:only-of-type {\n",
       "        vertical-align: middle;\n",
       "    }\n",
       "\n",
       "    .dataframe tbody tr th {\n",
       "        vertical-align: top;\n",
       "    }\n",
       "\n",
       "    .dataframe thead th {\n",
       "        text-align: right;\n",
       "    }\n",
       "</style>\n",
       "<table border=\"1\" class=\"dataframe\">\n",
       "  <thead>\n",
       "    <tr style=\"text-align: right;\">\n",
       "      <th></th>\n",
       "      <th>children</th>\n",
       "      <th>days_employed</th>\n",
       "      <th>dob_years</th>\n",
       "      <th>education_id</th>\n",
       "      <th>family_status_id</th>\n",
       "      <th>debt</th>\n",
       "      <th>total_income</th>\n",
       "    </tr>\n",
       "  </thead>\n",
       "  <tbody>\n",
       "    <tr>\n",
       "      <th>count</th>\n",
       "      <td>21525.000000</td>\n",
       "      <td>19351.000000</td>\n",
       "      <td>21525.000000</td>\n",
       "      <td>21525.000000</td>\n",
       "      <td>21525.000000</td>\n",
       "      <td>21525.000000</td>\n",
       "      <td>1.935100e+04</td>\n",
       "    </tr>\n",
       "    <tr>\n",
       "      <th>mean</th>\n",
       "      <td>0.538908</td>\n",
       "      <td>63046.497661</td>\n",
       "      <td>43.293380</td>\n",
       "      <td>0.817236</td>\n",
       "      <td>0.972544</td>\n",
       "      <td>0.080883</td>\n",
       "      <td>1.674223e+05</td>\n",
       "    </tr>\n",
       "    <tr>\n",
       "      <th>std</th>\n",
       "      <td>1.381587</td>\n",
       "      <td>140827.311974</td>\n",
       "      <td>12.574584</td>\n",
       "      <td>0.548138</td>\n",
       "      <td>1.420324</td>\n",
       "      <td>0.272661</td>\n",
       "      <td>1.029716e+05</td>\n",
       "    </tr>\n",
       "    <tr>\n",
       "      <th>min</th>\n",
       "      <td>-1.000000</td>\n",
       "      <td>-18388.949901</td>\n",
       "      <td>0.000000</td>\n",
       "      <td>0.000000</td>\n",
       "      <td>0.000000</td>\n",
       "      <td>0.000000</td>\n",
       "      <td>2.066726e+04</td>\n",
       "    </tr>\n",
       "    <tr>\n",
       "      <th>25%</th>\n",
       "      <td>0.000000</td>\n",
       "      <td>-2747.423625</td>\n",
       "      <td>33.000000</td>\n",
       "      <td>1.000000</td>\n",
       "      <td>0.000000</td>\n",
       "      <td>0.000000</td>\n",
       "      <td>1.030532e+05</td>\n",
       "    </tr>\n",
       "    <tr>\n",
       "      <th>50%</th>\n",
       "      <td>0.000000</td>\n",
       "      <td>-1203.369529</td>\n",
       "      <td>42.000000</td>\n",
       "      <td>1.000000</td>\n",
       "      <td>0.000000</td>\n",
       "      <td>0.000000</td>\n",
       "      <td>1.450179e+05</td>\n",
       "    </tr>\n",
       "    <tr>\n",
       "      <th>75%</th>\n",
       "      <td>1.000000</td>\n",
       "      <td>-291.095954</td>\n",
       "      <td>53.000000</td>\n",
       "      <td>1.000000</td>\n",
       "      <td>1.000000</td>\n",
       "      <td>0.000000</td>\n",
       "      <td>2.034351e+05</td>\n",
       "    </tr>\n",
       "    <tr>\n",
       "      <th>max</th>\n",
       "      <td>20.000000</td>\n",
       "      <td>401755.400475</td>\n",
       "      <td>75.000000</td>\n",
       "      <td>4.000000</td>\n",
       "      <td>4.000000</td>\n",
       "      <td>1.000000</td>\n",
       "      <td>2.265604e+06</td>\n",
       "    </tr>\n",
       "  </tbody>\n",
       "</table>\n",
       "</div>"
      ],
      "text/plain": [
       "           children  days_employed     dob_years  education_id  \\\n",
       "count  21525.000000   19351.000000  21525.000000  21525.000000   \n",
       "mean       0.538908   63046.497661     43.293380      0.817236   \n",
       "std        1.381587  140827.311974     12.574584      0.548138   \n",
       "min       -1.000000  -18388.949901      0.000000      0.000000   \n",
       "25%        0.000000   -2747.423625     33.000000      1.000000   \n",
       "50%        0.000000   -1203.369529     42.000000      1.000000   \n",
       "75%        1.000000    -291.095954     53.000000      1.000000   \n",
       "max       20.000000  401755.400475     75.000000      4.000000   \n",
       "\n",
       "       family_status_id          debt  total_income  \n",
       "count      21525.000000  21525.000000  1.935100e+04  \n",
       "mean           0.972544      0.080883  1.674223e+05  \n",
       "std            1.420324      0.272661  1.029716e+05  \n",
       "min            0.000000      0.000000  2.066726e+04  \n",
       "25%            0.000000      0.000000  1.030532e+05  \n",
       "50%            0.000000      0.000000  1.450179e+05  \n",
       "75%            1.000000      0.000000  2.034351e+05  \n",
       "max            4.000000      1.000000  2.265604e+06  "
      ]
     },
     "execution_count": 3,
     "metadata": {},
     "output_type": "execute_result"
    }
   ],
   "source": [
    "# Получим более подробную информацию о data\n",
    "data.describe()"
   ]
  },
  {
   "cell_type": "markdown",
   "id": "f6430da9",
   "metadata": {},
   "source": [
    "**Вывод**"
   ]
  },
  {
   "cell_type": "markdown",
   "id": "5731c7bd",
   "metadata": {},
   "source": [
    "После открытия и сохранения данных в переменной `data`, можно сделать следующие выводы:\n",
    "1. Размеры таблицы - 12 колонок и 21525 строк. Наименование столбцов соответствует змеиному регистру.\n",
    "2. Столбцы `days_employed` и `total_income` имеют только по 19351 значений. Остальные значения утеряны или не указаны.\n",
    "3. Столбецы `children`, `days_employed`, `dob_years` имеют аномальные значения.\n",
    "4. Столбецы `children`, `days_employed` имеют отрицательные значения, что неверно."
   ]
  },
  {
   "cell_type": "markdown",
   "id": "8912513d",
   "metadata": {},
   "source": [
    "## Предобработка данных"
   ]
  },
  {
   "cell_type": "markdown",
   "id": "b279fc2c",
   "metadata": {},
   "source": [
    "### Обработка пропусков"
   ]
  },
  {
   "cell_type": "markdown",
   "id": "85747114",
   "metadata": {},
   "source": [
    "На этапе обзора таблицы мы увидели, что столбцы `days_employed` и `total_income` имеют пропущенные значения. Определим количество пропущенных значений и наличие взаимосвязи со значениями в других столбцах, после чего примем решение по обработке пропуском."
   ]
  },
  {
   "cell_type": "markdown",
   "id": "e05d1a7f",
   "metadata": {},
   "source": [
    "Проверим связаны ли отсутствующие значения в столбцах `days_employed` и `total_income`."
   ]
  },
  {
   "cell_type": "code",
   "execution_count": 4,
   "id": "1feb8d38",
   "metadata": {},
   "outputs": [
    {
     "name": "stdout",
     "output_type": "stream",
     "text": [
      "Количество отсутствующих значений в столбце days_employed = 2174 или 10.10% данных.\n",
      "Количество отсутствующих значений в столбце total_income = 2174 или 10.10% данных.\n"
     ]
    },
    {
     "data": {
      "text/plain": [
       "Series([], Name: total_income, dtype: int64)"
      ]
     },
     "execution_count": 4,
     "metadata": {},
     "output_type": "execute_result"
    }
   ],
   "source": [
    "print(f'Количество отсутствующих значений в столбце days_employed = {data[\"days_employed\"].isna().sum()} или {data[\"days_employed\"].isna().sum()/len(data):.2%} данных.')\n",
    "print(f'Количество отсутствующих значений в столбце total_income = {data[\"total_income\"].isna().sum()} или {data[\"total_income\"].isna().sum()/len(data):.2%} данных.')\n",
    "data[data['days_employed'].isna()]['total_income'].value_counts()"
   ]
  },
  {
   "cell_type": "markdown",
   "id": "071cb44b",
   "metadata": {},
   "source": [
    "Пропуски в данных встречаются одновременно в двух столбцах. При этом потеряно 10.10% данных, что много. Проверим на наличие взаимосвязи между отсутствующими данными и значениями в других столбцах."
   ]
  },
  {
   "cell_type": "code",
   "execution_count": 5,
   "id": "69f4b7c1",
   "metadata": {},
   "outputs": [],
   "source": [
    "# Создадим функцию для упрощения анализа\n",
    "def nan_analysis(column):\n",
    "    print(f'Распределение {column} среди отсутствующих значений:')\n",
    "    display(data[data['days_employed'].isna()][column].value_counts())"
   ]
  },
  {
   "cell_type": "code",
   "execution_count": 6,
   "id": "18aeaedb",
   "metadata": {},
   "outputs": [
    {
     "name": "stdout",
     "output_type": "stream",
     "text": [
      "Распределение children среди отсутствующих значений:\n"
     ]
    },
    {
     "data": {
      "text/plain": [
       " 0     1439\n",
       " 1      475\n",
       " 2      204\n",
       " 3       36\n",
       " 20       9\n",
       " 4        7\n",
       "-1        3\n",
       " 5        1\n",
       "Name: children, dtype: int64"
      ]
     },
     "metadata": {},
     "output_type": "display_data"
    }
   ],
   "source": [
    "nan_analysis('children')"
   ]
  },
  {
   "cell_type": "markdown",
   "id": "d159d117",
   "metadata": {},
   "source": [
    "Закономерности со столбцом `children нет`. Однако в столбце children есть значения (-1, 20), которые скорее всего неверные. Обработкой этих значений займемся позже."
   ]
  },
  {
   "cell_type": "code",
   "execution_count": 7,
   "id": "2b68dd77",
   "metadata": {},
   "outputs": [
    {
     "name": "stdout",
     "output_type": "stream",
     "text": [
      "Распределение dob_years среди отсутствующих значений:\n"
     ]
    },
    {
     "data": {
      "text/plain": [
       "34    69\n",
       "40    66\n",
       "31    65\n",
       "42    65\n",
       "35    64\n",
       "36    63\n",
       "47    59\n",
       "41    59\n",
       "30    58\n",
       "28    57\n",
       "57    56\n",
       "58    56\n",
       "54    55\n",
       "38    54\n",
       "56    54\n",
       "37    53\n",
       "52    53\n",
       "39    51\n",
       "33    51\n",
       "50    51\n",
       "51    50\n",
       "45    50\n",
       "49    50\n",
       "29    50\n",
       "43    50\n",
       "46    48\n",
       "55    48\n",
       "48    46\n",
       "53    44\n",
       "44    44\n",
       "60    39\n",
       "61    38\n",
       "62    38\n",
       "64    37\n",
       "32    37\n",
       "27    36\n",
       "23    36\n",
       "26    35\n",
       "59    34\n",
       "63    29\n",
       "25    23\n",
       "24    21\n",
       "66    20\n",
       "65    20\n",
       "21    18\n",
       "22    17\n",
       "67    16\n",
       "0     10\n",
       "68     9\n",
       "69     5\n",
       "20     5\n",
       "71     5\n",
       "70     3\n",
       "72     2\n",
       "19     1\n",
       "73     1\n",
       "Name: dob_years, dtype: int64"
      ]
     },
     "metadata": {},
     "output_type": "display_data"
    }
   ],
   "source": [
    "nan_analysis('dob_years')"
   ]
  },
  {
   "cell_type": "markdown",
   "id": "4a683c13",
   "metadata": {},
   "source": [
    "В 10 значениях возраст клиентов равен 0. Обработкой этих значений займемся позже."
   ]
  },
  {
   "cell_type": "code",
   "execution_count": 8,
   "id": "9375a8fb",
   "metadata": {},
   "outputs": [
    {
     "name": "stdout",
     "output_type": "stream",
     "text": [
      "Распределение education среди отсутствующих значений:\n"
     ]
    },
    {
     "data": {
      "text/plain": [
       "среднее                1408\n",
       "высшее                  496\n",
       "СРЕДНЕЕ                  67\n",
       "Среднее                  65\n",
       "неоконченное высшее      55\n",
       "Высшее                   25\n",
       "ВЫСШЕЕ                   23\n",
       "начальное                19\n",
       "Неоконченное высшее       7\n",
       "НЕОКОНЧЕННОЕ ВЫСШЕЕ       7\n",
       "Начальное                 1\n",
       "НАЧАЛЬНОЕ                 1\n",
       "Name: education, dtype: int64"
      ]
     },
     "metadata": {},
     "output_type": "display_data"
    }
   ],
   "source": [
    "nan_analysis('education')"
   ]
  },
  {
   "cell_type": "markdown",
   "id": "94461d65",
   "metadata": {},
   "source": [
    "Мы видим большое количество дубликатов. Приведем все значения к нижнему регистру и проверим распределение снова."
   ]
  },
  {
   "cell_type": "code",
   "execution_count": 9,
   "id": "9f8faaa8",
   "metadata": {},
   "outputs": [],
   "source": [
    "data['education'] = data['education'].str.lower()"
   ]
  },
  {
   "cell_type": "code",
   "execution_count": 10,
   "id": "b018563d",
   "metadata": {},
   "outputs": [
    {
     "name": "stdout",
     "output_type": "stream",
     "text": [
      "Распределение education среди отсутствующих значений:\n"
     ]
    },
    {
     "data": {
      "text/plain": [
       "среднее                1540\n",
       "высшее                  544\n",
       "неоконченное высшее      69\n",
       "начальное                21\n",
       "Name: education, dtype: int64"
      ]
     },
     "metadata": {},
     "output_type": "display_data"
    }
   ],
   "source": [
    "nan_analysis('education')"
   ]
  },
  {
   "cell_type": "markdown",
   "id": "9fe6c3b0",
   "metadata": {},
   "source": [
    "Закономерности со столбцом `education` нет. "
   ]
  },
  {
   "cell_type": "code",
   "execution_count": 11,
   "id": "bb0129ce",
   "metadata": {},
   "outputs": [
    {
     "name": "stdout",
     "output_type": "stream",
     "text": [
      "Распределение education_id среди отсутствующих значений:\n"
     ]
    },
    {
     "data": {
      "text/plain": [
       "1    1540\n",
       "0     544\n",
       "2      69\n",
       "3      21\n",
       "Name: education_id, dtype: int64"
      ]
     },
     "metadata": {},
     "output_type": "display_data"
    }
   ],
   "source": [
    "nan_analysis('education_id')"
   ]
  },
  {
   "cell_type": "markdown",
   "id": "943b79b7",
   "metadata": {},
   "source": [
    "Распределение в столбцах `education` и `education_id` одинаковое. Проверим распределение на всех данные позже. Закономерности со столбцом `education_id` нет. "
   ]
  },
  {
   "cell_type": "code",
   "execution_count": 12,
   "id": "81c0e875",
   "metadata": {},
   "outputs": [
    {
     "name": "stdout",
     "output_type": "stream",
     "text": [
      "Распределение family_status среди отсутствующих значений:\n"
     ]
    },
    {
     "data": {
      "text/plain": [
       "женат / замужем          1237\n",
       "гражданский брак          442\n",
       "Не женат / не замужем     288\n",
       "в разводе                 112\n",
       "вдовец / вдова             95\n",
       "Name: family_status, dtype: int64"
      ]
     },
     "metadata": {},
     "output_type": "display_data"
    }
   ],
   "source": [
    "nan_analysis('family_status')"
   ]
  },
  {
   "cell_type": "markdown",
   "id": "9e9eab18",
   "metadata": {},
   "source": [
    "Наведем порядок в данных и приведем все значения к нижнему регистру."
   ]
  },
  {
   "cell_type": "code",
   "execution_count": 13,
   "id": "4448be83",
   "metadata": {},
   "outputs": [],
   "source": [
    "data['family_status'] = data['family_status'].str.lower()"
   ]
  },
  {
   "cell_type": "code",
   "execution_count": 14,
   "id": "d3f448fb",
   "metadata": {},
   "outputs": [
    {
     "name": "stdout",
     "output_type": "stream",
     "text": [
      "Распределение family_status среди отсутствующих значений:\n"
     ]
    },
    {
     "data": {
      "text/plain": [
       "женат / замужем          1237\n",
       "гражданский брак          442\n",
       "не женат / не замужем     288\n",
       "в разводе                 112\n",
       "вдовец / вдова             95\n",
       "Name: family_status, dtype: int64"
      ]
     },
     "metadata": {},
     "output_type": "display_data"
    }
   ],
   "source": [
    "nan_analysis('family_status')"
   ]
  },
  {
   "cell_type": "markdown",
   "id": "7d5aac26",
   "metadata": {},
   "source": [
    "Теперь все в порядке. Закономерности со столбцом `family_status` нет."
   ]
  },
  {
   "cell_type": "code",
   "execution_count": 15,
   "id": "e65d7701",
   "metadata": {},
   "outputs": [
    {
     "name": "stdout",
     "output_type": "stream",
     "text": [
      "Распределение family_status_id среди отсутствующих значений:\n"
     ]
    },
    {
     "data": {
      "text/plain": [
       "0    1237\n",
       "1     442\n",
       "4     288\n",
       "3     112\n",
       "2      95\n",
       "Name: family_status_id, dtype: int64"
      ]
     },
     "metadata": {},
     "output_type": "display_data"
    }
   ],
   "source": [
    "nan_analysis('family_status_id')"
   ]
  },
  {
   "cell_type": "markdown",
   "id": "a54ad309",
   "metadata": {},
   "source": [
    "Распределение в столбцах `family_status` и `family_status_id` одинаковое. Проверим распределение на всех данные позже. Закономерности со столбцом `family_status_id` нет."
   ]
  },
  {
   "cell_type": "code",
   "execution_count": 16,
   "id": "d5e46377",
   "metadata": {},
   "outputs": [
    {
     "name": "stdout",
     "output_type": "stream",
     "text": [
      "Распределение gender среди отсутствующих значений:\n"
     ]
    },
    {
     "data": {
      "text/plain": [
       "F    1484\n",
       "M     690\n",
       "Name: gender, dtype: int64"
      ]
     },
     "metadata": {},
     "output_type": "display_data"
    }
   ],
   "source": [
    "nan_analysis('gender')"
   ]
  },
  {
   "cell_type": "markdown",
   "id": "90661bd9",
   "metadata": {},
   "source": [
    "Закономерности со столбцом `gender` нет."
   ]
  },
  {
   "cell_type": "code",
   "execution_count": 17,
   "id": "1d6e81a2",
   "metadata": {},
   "outputs": [
    {
     "name": "stdout",
     "output_type": "stream",
     "text": [
      "Распределение income_type среди отсутствующих значений:\n"
     ]
    },
    {
     "data": {
      "text/plain": [
       "сотрудник          1105\n",
       "компаньон           508\n",
       "пенсионер           413\n",
       "госслужащий         147\n",
       "предприниматель       1\n",
       "Name: income_type, dtype: int64"
      ]
     },
     "metadata": {},
     "output_type": "display_data"
    }
   ],
   "source": [
    "nan_analysis('income_type')"
   ]
  },
  {
   "cell_type": "markdown",
   "id": "aca25c25",
   "metadata": {},
   "source": [
    "Закономерности со столбцом `income_type` нет."
   ]
  },
  {
   "cell_type": "code",
   "execution_count": 18,
   "id": "a3e31a4a",
   "metadata": {},
   "outputs": [
    {
     "name": "stdout",
     "output_type": "stream",
     "text": [
      "Распределение debt среди отсутствующих значений:\n"
     ]
    },
    {
     "data": {
      "text/plain": [
       "0    2004\n",
       "1     170\n",
       "Name: debt, dtype: int64"
      ]
     },
     "metadata": {},
     "output_type": "display_data"
    }
   ],
   "source": [
    "nan_analysis('debt')"
   ]
  },
  {
   "cell_type": "markdown",
   "id": "80e0c879",
   "metadata": {},
   "source": [
    "Закономерности со столбцом `debt` нет. Более 92% клиентов не имели задолженностей по кредитам."
   ]
  },
  {
   "cell_type": "code",
   "execution_count": 19,
   "id": "7a2de7e9",
   "metadata": {},
   "outputs": [
    {
     "name": "stdout",
     "output_type": "stream",
     "text": [
      "Распределение purpose среди отсутствующих значений:\n"
     ]
    },
    {
     "data": {
      "text/plain": [
       "на проведение свадьбы                     92\n",
       "сыграть свадьбу                           81\n",
       "свадьба                                   76\n",
       "строительство собственной недвижимости    75\n",
       "операции с жильем                         74\n",
       "покупка недвижимости                      72\n",
       "операции со своей недвижимостью           71\n",
       "покупка жилья для семьи                   71\n",
       "ремонт жилью                              70\n",
       "операции с коммерческой недвижимостью     70\n",
       "покупка коммерческой недвижимости         67\n",
       "покупка жилья для сдачи                   65\n",
       "недвижимость                              62\n",
       "операции с недвижимостью                  61\n",
       "покупка жилой недвижимости                61\n",
       "жилье                                     60\n",
       "строительство недвижимости                59\n",
       "автомобили                                57\n",
       "заняться высшим образованием              56\n",
       "заняться образованием                     55\n",
       "сделка с подержанным автомобилем          54\n",
       "на покупку своего автомобиля              53\n",
       "покупка жилья                             52\n",
       "свой автомобиль                           52\n",
       "получение дополнительного образования     51\n",
       "получение образования                     50\n",
       "дополнительное образование                48\n",
       "профильное образование                    47\n",
       "покупка своего жилья                      46\n",
       "строительство жилой недвижимости          46\n",
       "сделка с автомобилем                      46\n",
       "приобретение автомобиля                   43\n",
       "образование                               42\n",
       "на покупку подержанного автомобиля        42\n",
       "автомобиль                                41\n",
       "высшее образование                        40\n",
       "получение высшего образования             36\n",
       "на покупку автомобиля                     30\n",
       "Name: purpose, dtype: int64"
      ]
     },
     "metadata": {},
     "output_type": "display_data"
    }
   ],
   "source": [
    "nan_analysis('purpose')"
   ]
  },
  {
   "cell_type": "markdown",
   "id": "d7686c50",
   "metadata": {},
   "source": [
    "Закономерности со столбцом purpose нет. Однако в столбце purpose имеются дубликаты (различные формулировки одной и той же цели кредита), которые мы позже обработаем."
   ]
  },
  {
   "cell_type": "code",
   "execution_count": 20,
   "id": "f053fb1f",
   "metadata": {},
   "outputs": [
    {
     "name": "stdout",
     "output_type": "stream",
     "text": [
      "Количество отрицательных значений в столбце days_employed = 15906 или 73.90% данных.\n"
     ]
    }
   ],
   "source": [
    "# Определим количество отрицательных значений в столбце days_employed\n",
    "print(f'Количество отрицательных значений в столбце days_employed = {data[data[\"days_employed\"] < 0][\"days_employed\"].count()} или {data[data[\"days_employed\"] < 0][\"days_employed\"].count()/len(data):.2%} данных.')"
   ]
  },
  {
   "cell_type": "markdown",
   "id": "f7d51ecd",
   "metadata": {},
   "source": [
    "Перед анализом распределений значений в столбцах `total_income`, `days_employed` произведем замену отрицательных значений столбца `days_employed` на положительные с помощью `abs()`."
   ]
  },
  {
   "cell_type": "code",
   "execution_count": 21,
   "id": "88089604",
   "metadata": {},
   "outputs": [],
   "source": [
    "# Заменим отрицательные значения на положительные\n",
    "data['days_employed'] = abs(data['days_employed'])"
   ]
  },
  {
   "cell_type": "code",
   "execution_count": 22,
   "id": "a4f39721",
   "metadata": {},
   "outputs": [
    {
     "data": {
      "text/html": [
       "<div>\n",
       "<style scoped>\n",
       "    .dataframe tbody tr th:only-of-type {\n",
       "        vertical-align: middle;\n",
       "    }\n",
       "\n",
       "    .dataframe tbody tr th {\n",
       "        vertical-align: top;\n",
       "    }\n",
       "\n",
       "    .dataframe thead th {\n",
       "        text-align: right;\n",
       "    }\n",
       "</style>\n",
       "<table border=\"1\" class=\"dataframe\">\n",
       "  <thead>\n",
       "    <tr style=\"text-align: right;\">\n",
       "      <th></th>\n",
       "      <th>total_income</th>\n",
       "      <th>days_employed</th>\n",
       "    </tr>\n",
       "  </thead>\n",
       "  <tbody>\n",
       "    <tr>\n",
       "      <th>count</th>\n",
       "      <td>1.935100e+04</td>\n",
       "      <td>19351.000000</td>\n",
       "    </tr>\n",
       "    <tr>\n",
       "      <th>mean</th>\n",
       "      <td>1.674223e+05</td>\n",
       "      <td>66914.728907</td>\n",
       "    </tr>\n",
       "    <tr>\n",
       "      <th>std</th>\n",
       "      <td>1.029716e+05</td>\n",
       "      <td>139030.880527</td>\n",
       "    </tr>\n",
       "    <tr>\n",
       "      <th>min</th>\n",
       "      <td>2.066726e+04</td>\n",
       "      <td>24.141633</td>\n",
       "    </tr>\n",
       "    <tr>\n",
       "      <th>25%</th>\n",
       "      <td>1.030532e+05</td>\n",
       "      <td>927.009265</td>\n",
       "    </tr>\n",
       "    <tr>\n",
       "      <th>50%</th>\n",
       "      <td>1.450179e+05</td>\n",
       "      <td>2194.220567</td>\n",
       "    </tr>\n",
       "    <tr>\n",
       "      <th>75%</th>\n",
       "      <td>2.034351e+05</td>\n",
       "      <td>5537.882441</td>\n",
       "    </tr>\n",
       "    <tr>\n",
       "      <th>max</th>\n",
       "      <td>2.265604e+06</td>\n",
       "      <td>401755.400475</td>\n",
       "    </tr>\n",
       "  </tbody>\n",
       "</table>\n",
       "</div>"
      ],
      "text/plain": [
       "       total_income  days_employed\n",
       "count  1.935100e+04   19351.000000\n",
       "mean   1.674223e+05   66914.728907\n",
       "std    1.029716e+05  139030.880527\n",
       "min    2.066726e+04      24.141633\n",
       "25%    1.030532e+05     927.009265\n",
       "50%    1.450179e+05    2194.220567\n",
       "75%    2.034351e+05    5537.882441\n",
       "max    2.265604e+06  401755.400475"
      ]
     },
     "execution_count": 22,
     "metadata": {},
     "output_type": "execute_result"
    }
   ],
   "source": [
    "# Посмотрим на распределение значений в столбцах с отсутствующими значениями\n",
    "data[['total_income', 'days_employed']].describe()"
   ]
  },
  {
   "cell_type": "markdown",
   "id": "c75e8fa8",
   "metadata": {},
   "source": [
    "В столбах `total_income` и `days_employed` имеется большое количество выбросов с большими значениями. Об этом говорят медианные и средние значения столбцов."
   ]
  },
  {
   "cell_type": "markdown",
   "id": "a872d72f",
   "metadata": {},
   "source": [
    "Взаимосвязи с содержимым других столбцов нет, поэтому можно сделать вывод, что произошел системный сбой при заполнении данных о работе, или клиенты не хотели указывать данные о работе.\n",
    "\n",
    "Для столбца `total_income`, который необходим для анализа и ответа на вопросы, произведем замену отсутствующих значений на медианное значение в зависимости от типа занятости."
   ]
  },
  {
   "cell_type": "code",
   "execution_count": 23,
   "id": "25a22631",
   "metadata": {},
   "outputs": [],
   "source": [
    "# Создадим функцию для замены отсутствующих значений total_income\n",
    "def total_income_median(row): \n",
    "    median_value = data[data['income_type'] == row['income_type']]['total_income'].median()\n",
    "    return median_value"
   ]
  },
  {
   "cell_type": "code",
   "execution_count": 24,
   "id": "e35d6bd1",
   "metadata": {},
   "outputs": [],
   "source": [
    "# Применим функцию\n",
    "data.loc[data['total_income'].isna(), 'total_income'] = data[data['total_income'].isna()].apply(total_income_median, axis=1)"
   ]
  },
  {
   "cell_type": "code",
   "execution_count": 25,
   "id": "e03cb99b",
   "metadata": {},
   "outputs": [
    {
     "data": {
      "text/html": [
       "<div>\n",
       "<style scoped>\n",
       "    .dataframe tbody tr th:only-of-type {\n",
       "        vertical-align: middle;\n",
       "    }\n",
       "\n",
       "    .dataframe tbody tr th {\n",
       "        vertical-align: top;\n",
       "    }\n",
       "\n",
       "    .dataframe thead th {\n",
       "        text-align: right;\n",
       "    }\n",
       "</style>\n",
       "<table border=\"1\" class=\"dataframe\">\n",
       "  <thead>\n",
       "    <tr style=\"text-align: right;\">\n",
       "      <th></th>\n",
       "      <th>children</th>\n",
       "      <th>days_employed</th>\n",
       "      <th>dob_years</th>\n",
       "      <th>education</th>\n",
       "      <th>education_id</th>\n",
       "      <th>family_status</th>\n",
       "      <th>family_status_id</th>\n",
       "      <th>gender</th>\n",
       "      <th>income_type</th>\n",
       "      <th>debt</th>\n",
       "      <th>total_income</th>\n",
       "      <th>purpose</th>\n",
       "    </tr>\n",
       "  </thead>\n",
       "  <tbody>\n",
       "  </tbody>\n",
       "</table>\n",
       "</div>"
      ],
      "text/plain": [
       "Empty DataFrame\n",
       "Columns: [children, days_employed, dob_years, education, education_id, family_status, family_status_id, gender, income_type, debt, total_income, purpose]\n",
       "Index: []"
      ]
     },
     "execution_count": 25,
     "metadata": {},
     "output_type": "execute_result"
    }
   ],
   "source": [
    "# Проверим результат замены\n",
    "data[data['total_income'].isna()]"
   ]
  },
  {
   "cell_type": "markdown",
   "id": "53f0d8d2",
   "metadata": {},
   "source": [
    "Для столбца `days_employed`, который не учавствует в анализе и ответе на поставленные вопросы, произведем замену отсутствующих значений на медианное значение (условие задания) по возрасту. Если медианное значение более 50 лет (18250 дней), то поделим его на 24, т.к. есть гипотеза, что большие значения получились из-за того, что данные указаны в часах."
   ]
  },
  {
   "cell_type": "code",
   "execution_count": 26,
   "id": "87dc2c93",
   "metadata": {},
   "outputs": [],
   "source": [
    "# Создадим функцию для замены отсутствующих значений days_employed\n",
    "def days_employed_median(row): \n",
    "    median_value = data[data['dob_years'] == row['dob_years']]['days_employed'].median()\n",
    "    if median_value > 18250:\n",
    "        median_value = median_value / 24\n",
    "    return median_value"
   ]
  },
  {
   "cell_type": "code",
   "execution_count": 27,
   "id": "237f80fb",
   "metadata": {},
   "outputs": [],
   "source": [
    "# Применим функцию\n",
    "data.loc[data['days_employed'].isna(), 'days_employed'] = data[data['days_employed'].isna()].apply(days_employed_median, axis=1)"
   ]
  },
  {
   "cell_type": "code",
   "execution_count": 28,
   "id": "00529c8d",
   "metadata": {},
   "outputs": [
    {
     "data": {
      "text/html": [
       "<div>\n",
       "<style scoped>\n",
       "    .dataframe tbody tr th:only-of-type {\n",
       "        vertical-align: middle;\n",
       "    }\n",
       "\n",
       "    .dataframe tbody tr th {\n",
       "        vertical-align: top;\n",
       "    }\n",
       "\n",
       "    .dataframe thead th {\n",
       "        text-align: right;\n",
       "    }\n",
       "</style>\n",
       "<table border=\"1\" class=\"dataframe\">\n",
       "  <thead>\n",
       "    <tr style=\"text-align: right;\">\n",
       "      <th></th>\n",
       "      <th>children</th>\n",
       "      <th>days_employed</th>\n",
       "      <th>dob_years</th>\n",
       "      <th>education</th>\n",
       "      <th>education_id</th>\n",
       "      <th>family_status</th>\n",
       "      <th>family_status_id</th>\n",
       "      <th>gender</th>\n",
       "      <th>income_type</th>\n",
       "      <th>debt</th>\n",
       "      <th>total_income</th>\n",
       "      <th>purpose</th>\n",
       "    </tr>\n",
       "  </thead>\n",
       "  <tbody>\n",
       "  </tbody>\n",
       "</table>\n",
       "</div>"
      ],
      "text/plain": [
       "Empty DataFrame\n",
       "Columns: [children, days_employed, dob_years, education, education_id, family_status, family_status_id, gender, income_type, debt, total_income, purpose]\n",
       "Index: []"
      ]
     },
     "execution_count": 28,
     "metadata": {},
     "output_type": "execute_result"
    }
   ],
   "source": [
    "# Проверим результат замены\n",
    "data[data['days_employed'].isna()]"
   ]
  },
  {
   "cell_type": "code",
   "execution_count": 29,
   "id": "dfeb1e58",
   "metadata": {},
   "outputs": [
    {
     "data": {
      "text/html": [
       "<div>\n",
       "<style scoped>\n",
       "    .dataframe tbody tr th:only-of-type {\n",
       "        vertical-align: middle;\n",
       "    }\n",
       "\n",
       "    .dataframe tbody tr th {\n",
       "        vertical-align: top;\n",
       "    }\n",
       "\n",
       "    .dataframe thead th {\n",
       "        text-align: right;\n",
       "    }\n",
       "</style>\n",
       "<table border=\"1\" class=\"dataframe\">\n",
       "  <thead>\n",
       "    <tr style=\"text-align: right;\">\n",
       "      <th></th>\n",
       "      <th>total_income</th>\n",
       "      <th>days_employed</th>\n",
       "    </tr>\n",
       "  </thead>\n",
       "  <tbody>\n",
       "    <tr>\n",
       "      <th>count</th>\n",
       "      <td>2.152500e+04</td>\n",
       "      <td>21525.000000</td>\n",
       "    </tr>\n",
       "    <tr>\n",
       "      <th>mean</th>\n",
       "      <td>1.652253e+05</td>\n",
       "      <td>60613.246473</td>\n",
       "    </tr>\n",
       "    <tr>\n",
       "      <th>std</th>\n",
       "      <td>9.804367e+04</td>\n",
       "      <td>133165.975701</td>\n",
       "    </tr>\n",
       "    <tr>\n",
       "      <th>min</th>\n",
       "      <td>2.066726e+04</td>\n",
       "      <td>24.141633</td>\n",
       "    </tr>\n",
       "    <tr>\n",
       "      <th>25%</th>\n",
       "      <td>1.077982e+05</td>\n",
       "      <td>1007.368820</td>\n",
       "    </tr>\n",
       "    <tr>\n",
       "      <th>50%</th>\n",
       "      <td>1.425944e+05</td>\n",
       "      <td>2170.569747</td>\n",
       "    </tr>\n",
       "    <tr>\n",
       "      <th>75%</th>\n",
       "      <td>1.955499e+05</td>\n",
       "      <td>5489.396756</td>\n",
       "    </tr>\n",
       "    <tr>\n",
       "      <th>max</th>\n",
       "      <td>2.265604e+06</td>\n",
       "      <td>401755.400475</td>\n",
       "    </tr>\n",
       "  </tbody>\n",
       "</table>\n",
       "</div>"
      ],
      "text/plain": [
       "       total_income  days_employed\n",
       "count  2.152500e+04   21525.000000\n",
       "mean   1.652253e+05   60613.246473\n",
       "std    9.804367e+04  133165.975701\n",
       "min    2.066726e+04      24.141633\n",
       "25%    1.077982e+05    1007.368820\n",
       "50%    1.425944e+05    2170.569747\n",
       "75%    1.955499e+05    5489.396756\n",
       "max    2.265604e+06  401755.400475"
      ]
     },
     "execution_count": 29,
     "metadata": {},
     "output_type": "execute_result"
    }
   ],
   "source": [
    "# Посмотрим на распределение после замены\n",
    "data[['total_income', 'days_employed']].describe()"
   ]
  },
  {
   "cell_type": "markdown",
   "id": "26459b48",
   "metadata": {},
   "source": [
    "В столбце `days_employed` все еще остались слишком большие значения, которые необходимо обработать. Анализ показал, что аномальные значения скорее всего связаны с указанием данных в часах . Будем обрабатывать строки в которых days_employed > (dob_years - 16)* 365 (работать можно с 16 лет). Значения в данных строках разделим на 24."
   ]
  },
  {
   "cell_type": "code",
   "execution_count": 30,
   "id": "716916bd",
   "metadata": {},
   "outputs": [
    {
     "name": "stdout",
     "output_type": "stream",
     "text": [
      "Заменено 3618 значений или 16.81% данных.\n"
     ]
    }
   ],
   "source": [
    "# Создадим счетчик\n",
    "count = 0\n",
    "# Заменим аномальные значения\n",
    "for i in data.index:\n",
    "    if data.loc[i, 'days_employed'] > (data.loc[i, 'dob_years'] - 16) * 365:\n",
    "        data.loc[i, 'days_employed'] = data.loc[i, 'days_employed'] / 24\n",
    "        count += 1\n",
    "print(f'Заменено {count} значений или {count/len(data):.2%} данных.')"
   ]
  },
  {
   "cell_type": "code",
   "execution_count": 31,
   "id": "6ee128c4",
   "metadata": {},
   "outputs": [
    {
     "data": {
      "text/html": [
       "<div>\n",
       "<style scoped>\n",
       "    .dataframe tbody tr th:only-of-type {\n",
       "        vertical-align: middle;\n",
       "    }\n",
       "\n",
       "    .dataframe tbody tr th {\n",
       "        vertical-align: top;\n",
       "    }\n",
       "\n",
       "    .dataframe thead th {\n",
       "        text-align: right;\n",
       "    }\n",
       "</style>\n",
       "<table border=\"1\" class=\"dataframe\">\n",
       "  <thead>\n",
       "    <tr style=\"text-align: right;\">\n",
       "      <th></th>\n",
       "      <th>days_employed</th>\n",
       "    </tr>\n",
       "  </thead>\n",
       "  <tbody>\n",
       "    <tr>\n",
       "      <th>count</th>\n",
       "      <td>21525.000000</td>\n",
       "    </tr>\n",
       "    <tr>\n",
       "      <th>mean</th>\n",
       "      <td>4585.562124</td>\n",
       "    </tr>\n",
       "    <tr>\n",
       "      <th>std</th>\n",
       "      <td>5313.905911</td>\n",
       "    </tr>\n",
       "    <tr>\n",
       "      <th>min</th>\n",
       "      <td>4.540293</td>\n",
       "    </tr>\n",
       "    <tr>\n",
       "      <th>25%</th>\n",
       "      <td>976.884186</td>\n",
       "    </tr>\n",
       "    <tr>\n",
       "      <th>50%</th>\n",
       "      <td>2127.664054</td>\n",
       "    </tr>\n",
       "    <tr>\n",
       "      <th>75%</th>\n",
       "      <td>5369.839985</td>\n",
       "    </tr>\n",
       "    <tr>\n",
       "      <th>max</th>\n",
       "      <td>16739.808353</td>\n",
       "    </tr>\n",
       "  </tbody>\n",
       "</table>\n",
       "</div>"
      ],
      "text/plain": [
       "       days_employed\n",
       "count   21525.000000\n",
       "mean     4585.562124\n",
       "std      5313.905911\n",
       "min         4.540293\n",
       "25%       976.884186\n",
       "50%      2127.664054\n",
       "75%      5369.839985\n",
       "max     16739.808353"
      ]
     },
     "execution_count": 31,
     "metadata": {},
     "output_type": "execute_result"
    }
   ],
   "source": [
    "# Посмотрим на распределение после обработки\n",
    "data[['days_employed']].describe()"
   ]
  },
  {
   "cell_type": "markdown",
   "id": "b842050f",
   "metadata": {},
   "source": [
    "Теперь данные выгледят корректно."
   ]
  },
  {
   "cell_type": "markdown",
   "id": "43993739",
   "metadata": {},
   "source": [
    "**Вывод**"
   ]
  },
  {
   "cell_type": "markdown",
   "id": "8d207a38",
   "metadata": {},
   "source": [
    "В столбцах `days_employed` и `total_income` имеется около 10.10 % потерянных данных, которые были обработаны следующим образом:\n",
    "\n",
    "- для столбца days_employed, который не учавствует в  ответе на поставленные вопросы, мы произвели замену отрицательных значений на положительные, т.к. трудовой стаж не может быть отрицательным. Для отсутствующих значений произвели замену на медианные значения по возрасту. Слишком большие значения, которые не могут быть реальными, были разделены на 24 (гипотеза - указан стаж в часах).\n",
    "- для столбца `total_income`, который необходим для ответа на вопросы, мы заменили отсутствующие значения на медианные значения в зависимости от типа занятости.\n",
    "\n",
    "Данные были заменены медианными значениями из-за наличия выбросов, которые оказывают влияние среднее значение.\n",
    "\n",
    "Точную причину отсутствия данных в столбцах `days_employed` и `total_income` установить невозможно, но среди возможных причин следующие:\n",
    "\n",
    "- системный сбой - неверные действия при сборе данных, создании или обработке таблиц;\n",
    "- нежелание клиентов заполнять данные о трудовом стаже и доходе.\n",
    "\n",
    "В остальных столбцах таблицы есть \"недочеты\", которые будут устранены в следующих шагах."
   ]
  },
  {
   "cell_type": "markdown",
   "id": "519692e4",
   "metadata": {},
   "source": [
    "### Обработка ошибок в данных и дубликатов"
   ]
  },
  {
   "cell_type": "markdown",
   "id": "4f710dae",
   "metadata": {},
   "source": [
    "Как мы выяснили в пункт 2.1 некоторые столбцы таблицы data имеют дубликаты и ошибки. Самое время их устранить."
   ]
  },
  {
   "cell_type": "code",
   "execution_count": 32,
   "id": "b684b303",
   "metadata": {},
   "outputs": [],
   "source": [
    "# Создадим функцию для упрощения анализа столбцов\n",
    "def column_analysis(column):\n",
    "    print(f'Распределение значений в столбце {column}:')\n",
    "    display(data[column].value_counts())"
   ]
  },
  {
   "cell_type": "code",
   "execution_count": 33,
   "id": "7b21a525",
   "metadata": {},
   "outputs": [
    {
     "name": "stdout",
     "output_type": "stream",
     "text": [
      "Распределение значений в столбце children:\n"
     ]
    },
    {
     "data": {
      "text/plain": [
       " 0     14149\n",
       " 1      4818\n",
       " 2      2055\n",
       " 3       330\n",
       " 20       76\n",
       "-1        47\n",
       " 4        41\n",
       " 5         9\n",
       "Name: children, dtype: int64"
      ]
     },
     "metadata": {},
     "output_type": "display_data"
    }
   ],
   "source": [
    "column_analysis('children')"
   ]
  },
  {
   "cell_type": "markdown",
   "id": "442f2c25",
   "metadata": {},
   "source": [
    "Количество детей не может быть отрицательным. Значение -1 заменим на 1. 20 детей тоже \"аномальное\" число для этого столба, возможно имеет место опечатка. Заменим значение 20 на 2."
   ]
  },
  {
   "cell_type": "code",
   "execution_count": 34,
   "id": "03a212dc",
   "metadata": {},
   "outputs": [],
   "source": [
    "# Замена значений\n",
    "data.loc[data['children'] == -1, 'children'] = 1\n",
    "data.loc[data['children'] == 20, 'children'] = 2"
   ]
  },
  {
   "cell_type": "code",
   "execution_count": 35,
   "id": "5d6d0117",
   "metadata": {},
   "outputs": [
    {
     "name": "stdout",
     "output_type": "stream",
     "text": [
      "Распределение значений в столбце children:\n"
     ]
    },
    {
     "data": {
      "text/plain": [
       "0    14149\n",
       "1     4865\n",
       "2     2131\n",
       "3      330\n",
       "4       41\n",
       "5        9\n",
       "Name: children, dtype: int64"
      ]
     },
     "metadata": {},
     "output_type": "display_data"
    }
   ],
   "source": [
    "# Проверим результат замены\n",
    "column_analysis('children')"
   ]
  },
  {
   "cell_type": "markdown",
   "id": "2d8fb53f",
   "metadata": {},
   "source": [
    "Замена произведена верно."
   ]
  },
  {
   "cell_type": "code",
   "execution_count": 36,
   "id": "dba0decc",
   "metadata": {},
   "outputs": [
    {
     "name": "stdout",
     "output_type": "stream",
     "text": [
      "Распределение значений в столбце dob_years:\n"
     ]
    },
    {
     "data": {
      "text/plain": [
       "35    617\n",
       "40    609\n",
       "41    607\n",
       "34    603\n",
       "38    598\n",
       "42    597\n",
       "33    581\n",
       "39    573\n",
       "31    560\n",
       "36    555\n",
       "44    547\n",
       "29    545\n",
       "30    540\n",
       "48    538\n",
       "37    537\n",
       "50    514\n",
       "43    513\n",
       "32    510\n",
       "49    508\n",
       "28    503\n",
       "45    497\n",
       "27    493\n",
       "56    487\n",
       "52    484\n",
       "47    480\n",
       "54    479\n",
       "46    475\n",
       "58    461\n",
       "57    460\n",
       "53    459\n",
       "51    448\n",
       "59    444\n",
       "55    443\n",
       "26    408\n",
       "60    377\n",
       "25    357\n",
       "61    355\n",
       "62    352\n",
       "63    269\n",
       "64    265\n",
       "24    264\n",
       "23    254\n",
       "65    194\n",
       "66    183\n",
       "22    183\n",
       "67    167\n",
       "21    111\n",
       "0     101\n",
       "68     99\n",
       "69     85\n",
       "70     65\n",
       "71     58\n",
       "20     51\n",
       "72     33\n",
       "19     14\n",
       "73      8\n",
       "74      6\n",
       "75      1\n",
       "Name: dob_years, dtype: int64"
      ]
     },
     "metadata": {},
     "output_type": "display_data"
    }
   ],
   "source": [
    "column_analysis('dob_years')"
   ]
  },
  {
   "cell_type": "markdown",
   "id": "fd19a9eb",
   "metadata": {},
   "source": [
    "Имеется 101 нулевое значение. Проверим на наличие взаимосвязи со значениями в других столбцах."
   ]
  },
  {
   "cell_type": "code",
   "execution_count": 37,
   "id": "a52c86a0",
   "metadata": {},
   "outputs": [
    {
     "data": {
      "text/plain": [
       "0    69\n",
       "1    16\n",
       "2    14\n",
       "3     2\n",
       "Name: children, dtype: int64"
      ]
     },
     "execution_count": 37,
     "metadata": {},
     "output_type": "execute_result"
    }
   ],
   "source": [
    "data[data['dob_years'] == 0]['children'].value_counts()"
   ]
  },
  {
   "cell_type": "code",
   "execution_count": 38,
   "id": "da795487",
   "metadata": {},
   "outputs": [
    {
     "data": {
      "text/plain": [
       "73.293251     11\n",
       "58.729174      1\n",
       "178.696434     1\n",
       "28.412807      1\n",
       "334.811970     1\n",
       "              ..\n",
       "51.902427      1\n",
       "42.438553      1\n",
       "133.697197     1\n",
       "42.308144      1\n",
       "247.686118     1\n",
       "Name: days_employed, Length: 91, dtype: int64"
      ]
     },
     "execution_count": 38,
     "metadata": {},
     "output_type": "execute_result"
    }
   ],
   "source": [
    "data[data['dob_years'] == 0]['days_employed'].value_counts()"
   ]
  },
  {
   "cell_type": "code",
   "execution_count": 39,
   "id": "5a232cb9",
   "metadata": {},
   "outputs": [
    {
     "data": {
      "text/plain": [
       "среднее                64\n",
       "высшее                 35\n",
       "неоконченное высшее     2\n",
       "Name: education, dtype: int64"
      ]
     },
     "execution_count": 39,
     "metadata": {},
     "output_type": "execute_result"
    }
   ],
   "source": [
    "data[data['dob_years'] == 0]['education'].value_counts()"
   ]
  },
  {
   "cell_type": "code",
   "execution_count": 40,
   "id": "24f48ebe",
   "metadata": {},
   "outputs": [
    {
     "data": {
      "text/plain": [
       "женат / замужем          49\n",
       "гражданский брак         21\n",
       "не женат / не замужем    16\n",
       "в разводе                10\n",
       "вдовец / вдова            5\n",
       "Name: family_status, dtype: int64"
      ]
     },
     "execution_count": 40,
     "metadata": {},
     "output_type": "execute_result"
    }
   ],
   "source": [
    "data[data['dob_years'] == 0]['family_status'].value_counts()"
   ]
  },
  {
   "cell_type": "code",
   "execution_count": 41,
   "id": "8aa01630",
   "metadata": {},
   "outputs": [
    {
     "data": {
      "text/plain": [
       "F    72\n",
       "M    29\n",
       "Name: gender, dtype: int64"
      ]
     },
     "execution_count": 41,
     "metadata": {},
     "output_type": "execute_result"
    }
   ],
   "source": [
    "data[data['dob_years'] == 0]['gender'].value_counts()"
   ]
  },
  {
   "cell_type": "code",
   "execution_count": 42,
   "id": "2df9409a",
   "metadata": {},
   "outputs": [
    {
     "data": {
      "text/plain": [
       "сотрудник      55\n",
       "компаньон      20\n",
       "пенсионер      20\n",
       "госслужащий     6\n",
       "Name: income_type, dtype: int64"
      ]
     },
     "execution_count": 42,
     "metadata": {},
     "output_type": "execute_result"
    }
   ],
   "source": [
    "data[data['dob_years'] == 0]['income_type'].value_counts()"
   ]
  },
  {
   "cell_type": "code",
   "execution_count": 43,
   "id": "829b8f5a",
   "metadata": {},
   "outputs": [
    {
     "data": {
      "text/plain": [
       "0    93\n",
       "1     8\n",
       "Name: debt, dtype: int64"
      ]
     },
     "execution_count": 43,
     "metadata": {},
     "output_type": "execute_result"
    }
   ],
   "source": [
    "data[data['dob_years'] == 0]['debt'].value_counts()"
   ]
  },
  {
   "cell_type": "code",
   "execution_count": 44,
   "id": "ceadba9c",
   "metadata": {},
   "outputs": [
    {
     "name": "stdout",
     "output_type": "stream",
     "text": [
      "Минимальное значение: 34974.45036571415\n",
      "Максимальное значение: 386373.63695802353\n"
     ]
    },
    {
     "data": {
      "text/plain": [
       "142594.396847    5\n",
       "118514.486412    3\n",
       "172357.950966    2\n",
       "263121.074528    1\n",
       "71291.522491     1\n",
       "                ..\n",
       "386373.636958    1\n",
       "287328.538328    1\n",
       "181510.868867    1\n",
       "313949.845188    1\n",
       "287173.027278    1\n",
       "Name: total_income, Length: 94, dtype: int64"
      ]
     },
     "execution_count": 44,
     "metadata": {},
     "output_type": "execute_result"
    }
   ],
   "source": [
    "print('Минимальное значение:', data[data['dob_years'] == 0]['total_income'].min())\n",
    "print('Максимальное значение:', data[data['dob_years'] == 0]['total_income'].max())\n",
    "data[data['dob_years'] == 0]['total_income'].value_counts()"
   ]
  },
  {
   "cell_type": "code",
   "execution_count": 45,
   "id": "7fe01f7a",
   "metadata": {},
   "outputs": [
    {
     "data": {
      "text/plain": [
       "покупка жилья                             6\n",
       "операции с жильем                         6\n",
       "жилье                                     6\n",
       "свадьба                                   5\n",
       "на покупку автомобиля                     5\n",
       "сыграть свадьбу                           5\n",
       "на проведение свадьбы                     4\n",
       "недвижимость                              4\n",
       "автомобиль                                4\n",
       "покупка недвижимости                      3\n",
       "заняться высшим образованием              3\n",
       "строительство жилой недвижимости          3\n",
       "на покупку своего автомобиля              3\n",
       "свой автомобиль                           3\n",
       "образование                               3\n",
       "покупка жилой недвижимости                3\n",
       "покупка коммерческой недвижимости         3\n",
       "высшее образование                        3\n",
       "операции с недвижимостью                  3\n",
       "получение дополнительного образования     2\n",
       "ремонт жилью                              2\n",
       "автомобили                                2\n",
       "покупка жилья для сдачи                   2\n",
       "операции с коммерческой недвижимостью     2\n",
       "строительство собственной недвижимости    2\n",
       "сделка с подержанным автомобилем          2\n",
       "приобретение автомобиля                   2\n",
       "получение высшего образования             2\n",
       "дополнительное образование                2\n",
       "покупка жилья для семьи                   1\n",
       "сделка с автомобилем                      1\n",
       "покупка своего жилья                      1\n",
       "заняться образованием                     1\n",
       "получение образования                     1\n",
       "профильное образование                    1\n",
       "Name: purpose, dtype: int64"
      ]
     },
     "execution_count": 45,
     "metadata": {},
     "output_type": "execute_result"
    }
   ],
   "source": [
    "data[data['dob_years'] == 0]['purpose'].value_counts()"
   ]
  },
  {
   "cell_type": "markdown",
   "id": "394a0689",
   "metadata": {},
   "source": [
    "Взаимосвязи с другими столбцами нет, поэтому восстановить данные не получится. Этот столбец не нужен для ответа на вопросы, поэтому оставим нулевые значения без изменений. Это позволит определить проблемные данные в будущем."
   ]
  },
  {
   "cell_type": "code",
   "execution_count": 46,
   "id": "25b071aa",
   "metadata": {},
   "outputs": [
    {
     "name": "stdout",
     "output_type": "stream",
     "text": [
      "Распределение значений в столбце education:\n"
     ]
    },
    {
     "data": {
      "text/plain": [
       "среднее                15233\n",
       "высшее                  5260\n",
       "неоконченное высшее      744\n",
       "начальное                282\n",
       "ученая степень             6\n",
       "Name: education, dtype: int64"
      ]
     },
     "metadata": {},
     "output_type": "display_data"
    }
   ],
   "source": [
    "column_analysis('education')"
   ]
  },
  {
   "cell_type": "markdown",
   "id": "0434894f",
   "metadata": {},
   "source": [
    "Значения в данном столбце мы уже ранее привели к нижнему регистру. Дополнительные действия не требуются."
   ]
  },
  {
   "cell_type": "code",
   "execution_count": 47,
   "id": "28debc64",
   "metadata": {},
   "outputs": [
    {
     "name": "stdout",
     "output_type": "stream",
     "text": [
      "Распределение значений в столбце education_id:\n"
     ]
    },
    {
     "data": {
      "text/plain": [
       "1    15233\n",
       "0     5260\n",
       "2      744\n",
       "3      282\n",
       "4        6\n",
       "Name: education_id, dtype: int64"
      ]
     },
     "metadata": {},
     "output_type": "display_data"
    }
   ],
   "source": [
    "column_analysis('education_id')"
   ]
  },
  {
   "cell_type": "markdown",
   "id": "4c9010ea",
   "metadata": {},
   "source": [
    "Значения полностью сопоставимы со значениями в столбце `education`. Необходимости в обоих столбцах нет, так как они дублируют друг друга. Один из них мы позже удалим."
   ]
  },
  {
   "cell_type": "code",
   "execution_count": 48,
   "id": "a3017db9",
   "metadata": {},
   "outputs": [
    {
     "name": "stdout",
     "output_type": "stream",
     "text": [
      "Распределение значений в столбце family_status:\n"
     ]
    },
    {
     "data": {
      "text/plain": [
       "женат / замужем          12380\n",
       "гражданский брак          4177\n",
       "не женат / не замужем     2813\n",
       "в разводе                 1195\n",
       "вдовец / вдова             960\n",
       "Name: family_status, dtype: int64"
      ]
     },
     "metadata": {},
     "output_type": "display_data"
    }
   ],
   "source": [
    "column_analysis('family_status')"
   ]
  },
  {
   "cell_type": "markdown",
   "id": "fbb756c6",
   "metadata": {},
   "source": [
    "Значения в данном столбце мы уже ранее привели к нижнему регистру. Дополнительные действия не требуются."
   ]
  },
  {
   "cell_type": "code",
   "execution_count": 49,
   "id": "802921bf",
   "metadata": {},
   "outputs": [
    {
     "name": "stdout",
     "output_type": "stream",
     "text": [
      "Распределение значений в столбце family_status_id:\n"
     ]
    },
    {
     "data": {
      "text/plain": [
       "0    12380\n",
       "1     4177\n",
       "4     2813\n",
       "3     1195\n",
       "2      960\n",
       "Name: family_status_id, dtype: int64"
      ]
     },
     "metadata": {},
     "output_type": "display_data"
    }
   ],
   "source": [
    "column_analysis('family_status_id')"
   ]
  },
  {
   "cell_type": "markdown",
   "id": "4fb0aa41",
   "metadata": {},
   "source": [
    "Значения полностью сопоставимы со значениями в столбце `family_status`. Необходимости в обоих столбцах нет, так как они дублируют друг друга. Один из них мы позже удалим."
   ]
  },
  {
   "cell_type": "code",
   "execution_count": 50,
   "id": "4ba1f135",
   "metadata": {},
   "outputs": [
    {
     "name": "stdout",
     "output_type": "stream",
     "text": [
      "Распределение значений в столбце gender:\n"
     ]
    },
    {
     "data": {
      "text/plain": [
       "F      14236\n",
       "M       7288\n",
       "XNA        1\n",
       "Name: gender, dtype: int64"
      ]
     },
     "metadata": {},
     "output_type": "display_data"
    }
   ],
   "source": [
    "column_analysis('gender')"
   ]
  },
  {
   "cell_type": "markdown",
   "id": "385bc070",
   "metadata": {},
   "source": [
    "В столбце gender имеется одно значение XNA. Его удаление никак не повлияет на результаты. Удалим его."
   ]
  },
  {
   "cell_type": "code",
   "execution_count": 51,
   "id": "0ff7a6a5",
   "metadata": {},
   "outputs": [],
   "source": [
    "# Удалим значение\n",
    "for i in data[data['gender'] == 'XNA'].index:\n",
    "    data.drop(labels = [i],axis = 0, inplace = True)\n",
    "# Обнулим индексы\n",
    "data = data.reset_index(drop=True)"
   ]
  },
  {
   "cell_type": "code",
   "execution_count": 52,
   "id": "61170465",
   "metadata": {},
   "outputs": [
    {
     "name": "stdout",
     "output_type": "stream",
     "text": [
      "Распределение значений в столбце gender:\n"
     ]
    },
    {
     "data": {
      "text/plain": [
       "F    14236\n",
       "M     7288\n",
       "Name: gender, dtype: int64"
      ]
     },
     "metadata": {},
     "output_type": "display_data"
    }
   ],
   "source": [
    "# Посмотрим на результат\n",
    "column_analysis('gender')"
   ]
  },
  {
   "cell_type": "markdown",
   "id": "06b978f2",
   "metadata": {},
   "source": [
    "Строка удалена корректно. В датафрейме женщин в 2 раза больше, чем мужчин."
   ]
  },
  {
   "cell_type": "code",
   "execution_count": 53,
   "id": "c815b7cb",
   "metadata": {},
   "outputs": [
    {
     "name": "stdout",
     "output_type": "stream",
     "text": [
      "Распределение значений в столбце income_type:\n"
     ]
    },
    {
     "data": {
      "text/plain": [
       "сотрудник          11119\n",
       "компаньон           5084\n",
       "пенсионер           3856\n",
       "госслужащий         1459\n",
       "безработный            2\n",
       "предприниматель        2\n",
       "в декрете              1\n",
       "студент                1\n",
       "Name: income_type, dtype: int64"
      ]
     },
     "metadata": {},
     "output_type": "display_data"
    }
   ],
   "source": [
    "column_analysis('income_type')"
   ]
  },
  {
   "cell_type": "markdown",
   "id": "4e0bbe93",
   "metadata": {},
   "source": [
    "Данные корректны."
   ]
  },
  {
   "cell_type": "code",
   "execution_count": 54,
   "id": "021e61b8",
   "metadata": {},
   "outputs": [
    {
     "name": "stdout",
     "output_type": "stream",
     "text": [
      "Распределение значений в столбце debt:\n"
     ]
    },
    {
     "data": {
      "text/plain": [
       "0    19783\n",
       "1     1741\n",
       "Name: debt, dtype: int64"
      ]
     },
     "metadata": {},
     "output_type": "display_data"
    }
   ],
   "source": [
    "column_analysis('debt')"
   ]
  },
  {
   "cell_type": "markdown",
   "id": "1c6ca1a4",
   "metadata": {},
   "source": [
    "Данные корректны. Более 91% клиентов не имели задолженностей по кредитам."
   ]
  },
  {
   "cell_type": "code",
   "execution_count": 55,
   "id": "9ab43aa2",
   "metadata": {},
   "outputs": [
    {
     "data": {
      "text/html": [
       "<div>\n",
       "<style scoped>\n",
       "    .dataframe tbody tr th:only-of-type {\n",
       "        vertical-align: middle;\n",
       "    }\n",
       "\n",
       "    .dataframe tbody tr th {\n",
       "        vertical-align: top;\n",
       "    }\n",
       "\n",
       "    .dataframe thead th {\n",
       "        text-align: right;\n",
       "    }\n",
       "</style>\n",
       "<table border=\"1\" class=\"dataframe\">\n",
       "  <thead>\n",
       "    <tr style=\"text-align: right;\">\n",
       "      <th></th>\n",
       "      <th>total_income</th>\n",
       "    </tr>\n",
       "  </thead>\n",
       "  <tbody>\n",
       "    <tr>\n",
       "      <th>count</th>\n",
       "      <td>2.152400e+04</td>\n",
       "    </tr>\n",
       "    <tr>\n",
       "      <th>mean</th>\n",
       "      <td>1.652235e+05</td>\n",
       "    </tr>\n",
       "    <tr>\n",
       "      <th>std</th>\n",
       "      <td>9.804559e+04</td>\n",
       "    </tr>\n",
       "    <tr>\n",
       "      <th>min</th>\n",
       "      <td>2.066726e+04</td>\n",
       "    </tr>\n",
       "    <tr>\n",
       "      <th>25%</th>\n",
       "      <td>1.077960e+05</td>\n",
       "    </tr>\n",
       "    <tr>\n",
       "      <th>50%</th>\n",
       "      <td>1.425944e+05</td>\n",
       "    </tr>\n",
       "    <tr>\n",
       "      <th>75%</th>\n",
       "      <td>1.955452e+05</td>\n",
       "    </tr>\n",
       "    <tr>\n",
       "      <th>max</th>\n",
       "      <td>2.265604e+06</td>\n",
       "    </tr>\n",
       "  </tbody>\n",
       "</table>\n",
       "</div>"
      ],
      "text/plain": [
       "       total_income\n",
       "count  2.152400e+04\n",
       "mean   1.652235e+05\n",
       "std    9.804559e+04\n",
       "min    2.066726e+04\n",
       "25%    1.077960e+05\n",
       "50%    1.425944e+05\n",
       "75%    1.955452e+05\n",
       "max    2.265604e+06"
      ]
     },
     "execution_count": 55,
     "metadata": {},
     "output_type": "execute_result"
    }
   ],
   "source": [
    "data[['total_income']].describe()"
   ]
  },
  {
   "cell_type": "markdown",
   "id": "a5e9ba4a",
   "metadata": {},
   "source": [
    "По уровню доходов видно социальное неравенство. Большая часть клиентов получают меньше среднего (различие между средним и медианным значениями)."
   ]
  },
  {
   "cell_type": "code",
   "execution_count": 56,
   "id": "2880eae9",
   "metadata": {},
   "outputs": [
    {
     "name": "stdout",
     "output_type": "stream",
     "text": [
      "Распределение значений в столбце purpose:\n"
     ]
    },
    {
     "data": {
      "text/plain": [
       "свадьба                                   797\n",
       "на проведение свадьбы                     777\n",
       "сыграть свадьбу                           774\n",
       "операции с недвижимостью                  676\n",
       "покупка коммерческой недвижимости         664\n",
       "операции с жильем                         653\n",
       "покупка жилья для сдачи                   653\n",
       "операции с коммерческой недвижимостью     651\n",
       "жилье                                     647\n",
       "покупка жилья                             647\n",
       "покупка жилья для семьи                   641\n",
       "строительство собственной недвижимости    635\n",
       "недвижимость                              634\n",
       "операции со своей недвижимостью           630\n",
       "строительство жилой недвижимости          626\n",
       "покупка недвижимости                      623\n",
       "строительство недвижимости                620\n",
       "покупка своего жилья                      620\n",
       "ремонт жилью                              612\n",
       "покупка жилой недвижимости                607\n",
       "на покупку своего автомобиля              505\n",
       "заняться высшим образованием              496\n",
       "автомобиль                                495\n",
       "сделка с подержанным автомобилем          489\n",
       "свой автомобиль                           480\n",
       "на покупку подержанного автомобиля        479\n",
       "автомобили                                478\n",
       "на покупку автомобиля                     472\n",
       "дополнительное образование                462\n",
       "приобретение автомобиля                   462\n",
       "сделка с автомобилем                      455\n",
       "высшее образование                        453\n",
       "образование                               447\n",
       "получение дополнительного образования     447\n",
       "получение образования                     443\n",
       "профильное образование                    436\n",
       "получение высшего образования             426\n",
       "заняться образованием                     412\n",
       "Name: purpose, dtype: int64"
      ]
     },
     "metadata": {},
     "output_type": "display_data"
    }
   ],
   "source": [
    "column_analysis('purpose')"
   ]
  },
  {
   "cell_type": "markdown",
   "id": "2e2a706f",
   "metadata": {},
   "source": [
    "Сразу видно большое количество похожих целей для получения кредита. Обработать эти дубликаты можно только с помощью лемматизации, что мы и сделаем позже."
   ]
  },
  {
   "cell_type": "markdown",
   "id": "7aaf96da",
   "metadata": {},
   "source": [
    "Найдем и удалим все явные дубликаты."
   ]
  },
  {
   "cell_type": "code",
   "execution_count": 57,
   "id": "f3fede67",
   "metadata": {},
   "outputs": [
    {
     "name": "stdout",
     "output_type": "stream",
     "text": [
      "Всего имеется 71 дубликатов.\n"
     ]
    },
    {
     "data": {
      "text/html": [
       "<div>\n",
       "<style scoped>\n",
       "    .dataframe tbody tr th:only-of-type {\n",
       "        vertical-align: middle;\n",
       "    }\n",
       "\n",
       "    .dataframe tbody tr th {\n",
       "        vertical-align: top;\n",
       "    }\n",
       "\n",
       "    .dataframe thead th {\n",
       "        text-align: right;\n",
       "    }\n",
       "</style>\n",
       "<table border=\"1\" class=\"dataframe\">\n",
       "  <thead>\n",
       "    <tr style=\"text-align: right;\">\n",
       "      <th></th>\n",
       "      <th>children</th>\n",
       "      <th>days_employed</th>\n",
       "      <th>dob_years</th>\n",
       "      <th>education</th>\n",
       "      <th>education_id</th>\n",
       "      <th>family_status</th>\n",
       "      <th>family_status_id</th>\n",
       "      <th>gender</th>\n",
       "      <th>income_type</th>\n",
       "      <th>debt</th>\n",
       "      <th>total_income</th>\n",
       "      <th>purpose</th>\n",
       "    </tr>\n",
       "  </thead>\n",
       "  <tbody>\n",
       "    <tr>\n",
       "      <th>2849</th>\n",
       "      <td>0</td>\n",
       "      <td>1864.657692</td>\n",
       "      <td>41</td>\n",
       "      <td>среднее</td>\n",
       "      <td>1</td>\n",
       "      <td>женат / замужем</td>\n",
       "      <td>0</td>\n",
       "      <td>F</td>\n",
       "      <td>сотрудник</td>\n",
       "      <td>0</td>\n",
       "      <td>142594.396847</td>\n",
       "      <td>покупка жилья для семьи</td>\n",
       "    </tr>\n",
       "    <tr>\n",
       "      <th>3290</th>\n",
       "      <td>0</td>\n",
       "      <td>13801.915694</td>\n",
       "      <td>58</td>\n",
       "      <td>среднее</td>\n",
       "      <td>1</td>\n",
       "      <td>гражданский брак</td>\n",
       "      <td>1</td>\n",
       "      <td>F</td>\n",
       "      <td>пенсионер</td>\n",
       "      <td>0</td>\n",
       "      <td>118514.486412</td>\n",
       "      <td>сыграть свадьбу</td>\n",
       "    </tr>\n",
       "    <tr>\n",
       "      <th>4182</th>\n",
       "      <td>1</td>\n",
       "      <td>1615.910188</td>\n",
       "      <td>34</td>\n",
       "      <td>высшее</td>\n",
       "      <td>0</td>\n",
       "      <td>гражданский брак</td>\n",
       "      <td>1</td>\n",
       "      <td>F</td>\n",
       "      <td>сотрудник</td>\n",
       "      <td>0</td>\n",
       "      <td>142594.396847</td>\n",
       "      <td>свадьба</td>\n",
       "    </tr>\n",
       "    <tr>\n",
       "      <th>4851</th>\n",
       "      <td>0</td>\n",
       "      <td>14558.939054</td>\n",
       "      <td>60</td>\n",
       "      <td>среднее</td>\n",
       "      <td>1</td>\n",
       "      <td>гражданский брак</td>\n",
       "      <td>1</td>\n",
       "      <td>F</td>\n",
       "      <td>пенсионер</td>\n",
       "      <td>0</td>\n",
       "      <td>118514.486412</td>\n",
       "      <td>свадьба</td>\n",
       "    </tr>\n",
       "    <tr>\n",
       "      <th>5557</th>\n",
       "      <td>0</td>\n",
       "      <td>13801.915694</td>\n",
       "      <td>58</td>\n",
       "      <td>среднее</td>\n",
       "      <td>1</td>\n",
       "      <td>гражданский брак</td>\n",
       "      <td>1</td>\n",
       "      <td>F</td>\n",
       "      <td>пенсионер</td>\n",
       "      <td>0</td>\n",
       "      <td>118514.486412</td>\n",
       "      <td>сыграть свадьбу</td>\n",
       "    </tr>\n",
       "    <tr>\n",
       "      <th>...</th>\n",
       "      <td>...</td>\n",
       "      <td>...</td>\n",
       "      <td>...</td>\n",
       "      <td>...</td>\n",
       "      <td>...</td>\n",
       "      <td>...</td>\n",
       "      <td>...</td>\n",
       "      <td>...</td>\n",
       "      <td>...</td>\n",
       "      <td>...</td>\n",
       "      <td>...</td>\n",
       "      <td>...</td>\n",
       "    </tr>\n",
       "    <tr>\n",
       "      <th>20701</th>\n",
       "      <td>0</td>\n",
       "      <td>14824.231775</td>\n",
       "      <td>64</td>\n",
       "      <td>среднее</td>\n",
       "      <td>1</td>\n",
       "      <td>женат / замужем</td>\n",
       "      <td>0</td>\n",
       "      <td>F</td>\n",
       "      <td>пенсионер</td>\n",
       "      <td>0</td>\n",
       "      <td>118514.486412</td>\n",
       "      <td>дополнительное образование</td>\n",
       "    </tr>\n",
       "    <tr>\n",
       "      <th>21031</th>\n",
       "      <td>0</td>\n",
       "      <td>14558.939054</td>\n",
       "      <td>60</td>\n",
       "      <td>среднее</td>\n",
       "      <td>1</td>\n",
       "      <td>женат / замужем</td>\n",
       "      <td>0</td>\n",
       "      <td>F</td>\n",
       "      <td>пенсионер</td>\n",
       "      <td>0</td>\n",
       "      <td>118514.486412</td>\n",
       "      <td>заняться образованием</td>\n",
       "    </tr>\n",
       "    <tr>\n",
       "      <th>21131</th>\n",
       "      <td>0</td>\n",
       "      <td>2203.078545</td>\n",
       "      <td>47</td>\n",
       "      <td>среднее</td>\n",
       "      <td>1</td>\n",
       "      <td>женат / замужем</td>\n",
       "      <td>0</td>\n",
       "      <td>F</td>\n",
       "      <td>сотрудник</td>\n",
       "      <td>0</td>\n",
       "      <td>142594.396847</td>\n",
       "      <td>ремонт жилью</td>\n",
       "    </tr>\n",
       "    <tr>\n",
       "      <th>21280</th>\n",
       "      <td>1</td>\n",
       "      <td>1420.586863</td>\n",
       "      <td>30</td>\n",
       "      <td>высшее</td>\n",
       "      <td>0</td>\n",
       "      <td>женат / замужем</td>\n",
       "      <td>0</td>\n",
       "      <td>F</td>\n",
       "      <td>сотрудник</td>\n",
       "      <td>0</td>\n",
       "      <td>142594.396847</td>\n",
       "      <td>покупка коммерческой недвижимости</td>\n",
       "    </tr>\n",
       "    <tr>\n",
       "      <th>21414</th>\n",
       "      <td>0</td>\n",
       "      <td>4026.541145</td>\n",
       "      <td>54</td>\n",
       "      <td>среднее</td>\n",
       "      <td>1</td>\n",
       "      <td>женат / замужем</td>\n",
       "      <td>0</td>\n",
       "      <td>F</td>\n",
       "      <td>пенсионер</td>\n",
       "      <td>0</td>\n",
       "      <td>118514.486412</td>\n",
       "      <td>операции с жильем</td>\n",
       "    </tr>\n",
       "  </tbody>\n",
       "</table>\n",
       "<p>71 rows × 12 columns</p>\n",
       "</div>"
      ],
      "text/plain": [
       "       children  days_employed  dob_years education  education_id  \\\n",
       "2849          0    1864.657692         41   среднее             1   \n",
       "3290          0   13801.915694         58   среднее             1   \n",
       "4182          1    1615.910188         34    высшее             0   \n",
       "4851          0   14558.939054         60   среднее             1   \n",
       "5557          0   13801.915694         58   среднее             1   \n",
       "...         ...            ...        ...       ...           ...   \n",
       "20701         0   14824.231775         64   среднее             1   \n",
       "21031         0   14558.939054         60   среднее             1   \n",
       "21131         0    2203.078545         47   среднее             1   \n",
       "21280         1    1420.586863         30    высшее             0   \n",
       "21414         0    4026.541145         54   среднее             1   \n",
       "\n",
       "          family_status  family_status_id gender income_type  debt  \\\n",
       "2849    женат / замужем                 0      F   сотрудник     0   \n",
       "3290   гражданский брак                 1      F   пенсионер     0   \n",
       "4182   гражданский брак                 1      F   сотрудник     0   \n",
       "4851   гражданский брак                 1      F   пенсионер     0   \n",
       "5557   гражданский брак                 1      F   пенсионер     0   \n",
       "...                 ...               ...    ...         ...   ...   \n",
       "20701   женат / замужем                 0      F   пенсионер     0   \n",
       "21031   женат / замужем                 0      F   пенсионер     0   \n",
       "21131   женат / замужем                 0      F   сотрудник     0   \n",
       "21280   женат / замужем                 0      F   сотрудник     0   \n",
       "21414   женат / замужем                 0      F   пенсионер     0   \n",
       "\n",
       "        total_income                            purpose  \n",
       "2849   142594.396847            покупка жилья для семьи  \n",
       "3290   118514.486412                    сыграть свадьбу  \n",
       "4182   142594.396847                            свадьба  \n",
       "4851   118514.486412                            свадьба  \n",
       "5557   118514.486412                    сыграть свадьбу  \n",
       "...              ...                                ...  \n",
       "20701  118514.486412         дополнительное образование  \n",
       "21031  118514.486412              заняться образованием  \n",
       "21131  142594.396847                       ремонт жилью  \n",
       "21280  142594.396847  покупка коммерческой недвижимости  \n",
       "21414  118514.486412                  операции с жильем  \n",
       "\n",
       "[71 rows x 12 columns]"
      ]
     },
     "execution_count": 57,
     "metadata": {},
     "output_type": "execute_result"
    }
   ],
   "source": [
    "# Попробуем найти явные дубликаты в таблице\n",
    "print(f'Всего имеется {data.duplicated().sum()} дубликатов.')\n",
    "# Выведем на экран \n",
    "data[data.duplicated()]"
   ]
  },
  {
   "cell_type": "code",
   "execution_count": 58,
   "id": "720425c0",
   "metadata": {},
   "outputs": [
    {
     "name": "stdout",
     "output_type": "stream",
     "text": [
      "Размер до удаления: (21524, 12)\n",
      "Размер после удаления: (21453, 12)\n"
     ]
    }
   ],
   "source": [
    "print('Размер до удаления:', data.shape)\n",
    "# Удалим дубликаты и обнулим индексы\n",
    "data = data.drop_duplicates().reset_index(drop=True)\n",
    "print('Размер после удаления:', data.shape)"
   ]
  },
  {
   "cell_type": "markdown",
   "id": "de8747ab",
   "metadata": {},
   "source": [
    "**Вывод**"
   ]
  },
  {
   "cell_type": "markdown",
   "id": "ede41609",
   "metadata": {},
   "source": [
    "На данном этапе мы:\n",
    "- произвели анализ столбцов;\n",
    "- в столбце `children` заменили строки со значением -1 на 1, 20 на 2 ;\n",
    "- определили, что в столбце `dob_year` есть 100 нулевых значений, которые никак не повлияют на ответы на вопросы;\n",
    "- привели все значения столбцов `education` и `family_status` к нижнему регистру;\n",
    "- проверили количественное соответствие в столбцах `education` и `family_status` столбцам `education_id` и `family_status_id`;\n",
    "- удалили строку с единственным значением (XNA) столбца `gender`;\n",
    "- нашли большое количесво похожих целей кредитов в столбце `purpose`, которые далее устраним с помощью лемматизации;\n",
    "- удалили явные дубликаты."
   ]
  },
  {
   "cell_type": "markdown",
   "id": "8f489fce",
   "metadata": {},
   "source": [
    "### Замена типа данных"
   ]
  },
  {
   "cell_type": "code",
   "execution_count": 59,
   "id": "271b88ea",
   "metadata": {},
   "outputs": [
    {
     "name": "stdout",
     "output_type": "stream",
     "text": [
      "<class 'pandas.core.frame.DataFrame'>\n",
      "RangeIndex: 21453 entries, 0 to 21452\n",
      "Data columns (total 12 columns):\n",
      " #   Column            Non-Null Count  Dtype  \n",
      "---  ------            --------------  -----  \n",
      " 0   children          21453 non-null  int64  \n",
      " 1   days_employed     21453 non-null  float64\n",
      " 2   dob_years         21453 non-null  int64  \n",
      " 3   education         21453 non-null  object \n",
      " 4   education_id      21453 non-null  int64  \n",
      " 5   family_status     21453 non-null  object \n",
      " 6   family_status_id  21453 non-null  int64  \n",
      " 7   gender            21453 non-null  object \n",
      " 8   income_type       21453 non-null  object \n",
      " 9   debt              21453 non-null  int64  \n",
      " 10  total_income      21453 non-null  float64\n",
      " 11  purpose           21453 non-null  object \n",
      "dtypes: float64(2), int64(5), object(5)\n",
      "memory usage: 2.0+ MB\n"
     ]
    }
   ],
   "source": [
    "# Посмотрим на данные до замены типов\n",
    "data.info()"
   ]
  },
  {
   "cell_type": "markdown",
   "id": "85a5d4fa",
   "metadata": {},
   "source": [
    "Таблица data имеет:\n",
    "- 2 столбца типа float64;\n",
    "- 5 столбцов типа int64;\n",
    "- 5 столбцов типа object.\n",
    "\n",
    "Для упрощения работы с данными изменим тип данных в столбцах `days_employed` и `total_income`(условие задания)."
   ]
  },
  {
   "cell_type": "code",
   "execution_count": 60,
   "id": "9b68d108",
   "metadata": {},
   "outputs": [],
   "source": [
    "# Изменим тип на int64\n",
    "data['days_employed'] = data['days_employed'].astype('int')\n",
    "data['total_income'] = data['total_income'].astype('int')"
   ]
  },
  {
   "cell_type": "code",
   "execution_count": 61,
   "id": "afdbe5d6",
   "metadata": {},
   "outputs": [
    {
     "name": "stdout",
     "output_type": "stream",
     "text": [
      "<class 'pandas.core.frame.DataFrame'>\n",
      "RangeIndex: 21453 entries, 0 to 21452\n",
      "Data columns (total 12 columns):\n",
      " #   Column            Non-Null Count  Dtype \n",
      "---  ------            --------------  ----- \n",
      " 0   children          21453 non-null  int64 \n",
      " 1   days_employed     21453 non-null  int64 \n",
      " 2   dob_years         21453 non-null  int64 \n",
      " 3   education         21453 non-null  object\n",
      " 4   education_id      21453 non-null  int64 \n",
      " 5   family_status     21453 non-null  object\n",
      " 6   family_status_id  21453 non-null  int64 \n",
      " 7   gender            21453 non-null  object\n",
      " 8   income_type       21453 non-null  object\n",
      " 9   debt              21453 non-null  int64 \n",
      " 10  total_income      21453 non-null  int64 \n",
      " 11  purpose           21453 non-null  object\n",
      "dtypes: int64(7), object(5)\n",
      "memory usage: 2.0+ MB\n"
     ]
    },
    {
     "data": {
      "text/html": [
       "<div>\n",
       "<style scoped>\n",
       "    .dataframe tbody tr th:only-of-type {\n",
       "        vertical-align: middle;\n",
       "    }\n",
       "\n",
       "    .dataframe tbody tr th {\n",
       "        vertical-align: top;\n",
       "    }\n",
       "\n",
       "    .dataframe thead th {\n",
       "        text-align: right;\n",
       "    }\n",
       "</style>\n",
       "<table border=\"1\" class=\"dataframe\">\n",
       "  <thead>\n",
       "    <tr style=\"text-align: right;\">\n",
       "      <th></th>\n",
       "      <th>children</th>\n",
       "      <th>days_employed</th>\n",
       "      <th>dob_years</th>\n",
       "      <th>education</th>\n",
       "      <th>education_id</th>\n",
       "      <th>family_status</th>\n",
       "      <th>family_status_id</th>\n",
       "      <th>gender</th>\n",
       "      <th>income_type</th>\n",
       "      <th>debt</th>\n",
       "      <th>total_income</th>\n",
       "      <th>purpose</th>\n",
       "    </tr>\n",
       "  </thead>\n",
       "  <tbody>\n",
       "    <tr>\n",
       "      <th>6735</th>\n",
       "      <td>1</td>\n",
       "      <td>1593</td>\n",
       "      <td>41</td>\n",
       "      <td>среднее</td>\n",
       "      <td>1</td>\n",
       "      <td>женат / замужем</td>\n",
       "      <td>0</td>\n",
       "      <td>F</td>\n",
       "      <td>компаньон</td>\n",
       "      <td>1</td>\n",
       "      <td>115195</td>\n",
       "      <td>покупка жилья для сдачи</td>\n",
       "    </tr>\n",
       "    <tr>\n",
       "      <th>20744</th>\n",
       "      <td>0</td>\n",
       "      <td>4330</td>\n",
       "      <td>38</td>\n",
       "      <td>среднее</td>\n",
       "      <td>1</td>\n",
       "      <td>женат / замужем</td>\n",
       "      <td>0</td>\n",
       "      <td>F</td>\n",
       "      <td>компаньон</td>\n",
       "      <td>0</td>\n",
       "      <td>103146</td>\n",
       "      <td>строительство недвижимости</td>\n",
       "    </tr>\n",
       "    <tr>\n",
       "      <th>8306</th>\n",
       "      <td>0</td>\n",
       "      <td>958</td>\n",
       "      <td>24</td>\n",
       "      <td>среднее</td>\n",
       "      <td>1</td>\n",
       "      <td>женат / замужем</td>\n",
       "      <td>0</td>\n",
       "      <td>F</td>\n",
       "      <td>сотрудник</td>\n",
       "      <td>0</td>\n",
       "      <td>78408</td>\n",
       "      <td>свой автомобиль</td>\n",
       "    </tr>\n",
       "    <tr>\n",
       "      <th>12978</th>\n",
       "      <td>0</td>\n",
       "      <td>1232</td>\n",
       "      <td>43</td>\n",
       "      <td>среднее</td>\n",
       "      <td>1</td>\n",
       "      <td>гражданский брак</td>\n",
       "      <td>1</td>\n",
       "      <td>F</td>\n",
       "      <td>компаньон</td>\n",
       "      <td>0</td>\n",
       "      <td>217868</td>\n",
       "      <td>сыграть свадьбу</td>\n",
       "    </tr>\n",
       "    <tr>\n",
       "      <th>9419</th>\n",
       "      <td>0</td>\n",
       "      <td>1336</td>\n",
       "      <td>57</td>\n",
       "      <td>среднее</td>\n",
       "      <td>1</td>\n",
       "      <td>женат / замужем</td>\n",
       "      <td>0</td>\n",
       "      <td>F</td>\n",
       "      <td>компаньон</td>\n",
       "      <td>0</td>\n",
       "      <td>166681</td>\n",
       "      <td>строительство жилой недвижимости</td>\n",
       "    </tr>\n",
       "  </tbody>\n",
       "</table>\n",
       "</div>"
      ],
      "text/plain": [
       "       children  days_employed  dob_years education  education_id  \\\n",
       "6735          1           1593         41   среднее             1   \n",
       "20744         0           4330         38   среднее             1   \n",
       "8306          0            958         24   среднее             1   \n",
       "12978         0           1232         43   среднее             1   \n",
       "9419          0           1336         57   среднее             1   \n",
       "\n",
       "          family_status  family_status_id gender income_type  debt  \\\n",
       "6735    женат / замужем                 0      F   компаньон     1   \n",
       "20744   женат / замужем                 0      F   компаньон     0   \n",
       "8306    женат / замужем                 0      F   сотрудник     0   \n",
       "12978  гражданский брак                 1      F   компаньон     0   \n",
       "9419    женат / замужем                 0      F   компаньон     0   \n",
       "\n",
       "       total_income                           purpose  \n",
       "6735         115195           покупка жилья для сдачи  \n",
       "20744        103146        строительство недвижимости  \n",
       "8306          78408                   свой автомобиль  \n",
       "12978        217868                   сыграть свадьбу  \n",
       "9419         166681  строительство жилой недвижимости  "
      ]
     },
     "execution_count": 61,
     "metadata": {},
     "output_type": "execute_result"
    }
   ],
   "source": [
    "# Проверяем результат\n",
    "data.info()\n",
    "data.sample(5)"
   ]
  },
  {
   "cell_type": "markdown",
   "id": "670f7e4f",
   "metadata": {},
   "source": [
    "**Вывод**"
   ]
  },
  {
   "cell_type": "markdown",
   "id": "9818de89",
   "metadata": {},
   "source": [
    "После изменения типов данных в  столбцах `days_employed` и `total_income` таблица data имеет только 2 типа данных - int64 и object."
   ]
  },
  {
   "cell_type": "markdown",
   "id": "4825b2c9",
   "metadata": {},
   "source": [
    "### Лемматизация"
   ]
  },
  {
   "cell_type": "markdown",
   "id": "c7c36daf",
   "metadata": {},
   "source": [
    "С помощью лемматизации произведем оценку причин кредитования и их частоты. Создадим столбец `purpose_category`, в котором будем хранить категории кредитования."
   ]
  },
  {
   "cell_type": "code",
   "execution_count": 62,
   "id": "29f8f73d",
   "metadata": {},
   "outputs": [
    {
     "name": "stdout",
     "output_type": "stream",
     "text": [
      "Counter({'автомобиль': 972, 'свадьба': 791, 'на проведение свадьба': 768, 'сыграть свадьба': 765, 'операция с недвижимость': 675, 'покупка коммерческий недвижимость': 661, 'операция с жилье': 652, 'покупка жилье для сдача': 651, 'операция с коммерческий недвижимость': 650, 'покупка жилье': 646, 'жилье': 646, 'покупка жилье для семья': 638, 'строительство собственный недвижимость': 635, 'недвижимость': 633, 'операция со свой недвижимость': 627, 'строительство жилой недвижимость': 624, 'покупка недвижимость': 620, 'покупка свой жилье': 620, 'строительство недвижимость': 619, 'ремонт жилье': 607, 'покупка жилой недвижимость': 606, 'на покупка свой автомобиль': 505, 'заниматься высокий образование': 496, 'сделка с подержанный автомобиль': 486, 'на покупка подержать автомобиль': 478, 'свой автомобиль': 478, 'на покупка автомобиль': 471, 'приобретение автомобиль': 461, 'дополнительный образование': 460, 'сделка с автомобиль': 455, 'высокий образование': 452, 'образование': 447, 'получение дополнительный образование': 446, 'получение образование': 442, 'профильный образование': 436, 'получение высокий образование': 426, 'заниматься образование': 408})\n"
     ]
    }
   ],
   "source": [
    "# Импортируем библиотеку для лемматизации\n",
    "from pymystem3 import Mystem\n",
    "# Создадим список лемм для столбца purpose\n",
    "lemmas_list = []\n",
    "m = Mystem()\n",
    "from collections import Counter\n",
    "for purpose in data['purpose']:\n",
    "# С помощью функций .join и .strip() склеим леммы и избавимся от пробелов и символов \n",
    "    lemmas = ''.join(m.lemmatize(purpose)).strip()\n",
    "    lemmas_list.append(lemmas)\n",
    "print(Counter(lemmas_list))"
   ]
  },
  {
   "cell_type": "markdown",
   "id": "52f332b1",
   "metadata": {},
   "source": [
    "Самыми частовстречающимися леммами являются: свадьба, недвижимость, жильё, автомобиль, образование. Недвижимость и  жильё отнесем к одной категории недвижимость.\n",
    "\n",
    "Создадим функцию для лемматизации. На вход подается строка, а на выход категория."
   ]
  },
  {
   "cell_type": "code",
   "execution_count": 63,
   "id": "9b905118",
   "metadata": {},
   "outputs": [
    {
     "data": {
      "text/html": [
       "<div>\n",
       "<style scoped>\n",
       "    .dataframe tbody tr th:only-of-type {\n",
       "        vertical-align: middle;\n",
       "    }\n",
       "\n",
       "    .dataframe tbody tr th {\n",
       "        vertical-align: top;\n",
       "    }\n",
       "\n",
       "    .dataframe thead th {\n",
       "        text-align: right;\n",
       "    }\n",
       "</style>\n",
       "<table border=\"1\" class=\"dataframe\">\n",
       "  <thead>\n",
       "    <tr style=\"text-align: right;\">\n",
       "      <th></th>\n",
       "      <th>children</th>\n",
       "      <th>days_employed</th>\n",
       "      <th>dob_years</th>\n",
       "      <th>education</th>\n",
       "      <th>education_id</th>\n",
       "      <th>family_status</th>\n",
       "      <th>family_status_id</th>\n",
       "      <th>gender</th>\n",
       "      <th>income_type</th>\n",
       "      <th>debt</th>\n",
       "      <th>total_income</th>\n",
       "      <th>purpose</th>\n",
       "      <th>purpose_category</th>\n",
       "    </tr>\n",
       "  </thead>\n",
       "  <tbody>\n",
       "    <tr>\n",
       "      <th>914</th>\n",
       "      <td>0</td>\n",
       "      <td>16672</td>\n",
       "      <td>62</td>\n",
       "      <td>среднее</td>\n",
       "      <td>1</td>\n",
       "      <td>женат / замужем</td>\n",
       "      <td>0</td>\n",
       "      <td>F</td>\n",
       "      <td>пенсионер</td>\n",
       "      <td>0</td>\n",
       "      <td>115140</td>\n",
       "      <td>покупка своего жилья</td>\n",
       "      <td>операции с недвижимостью</td>\n",
       "    </tr>\n",
       "    <tr>\n",
       "      <th>12672</th>\n",
       "      <td>1</td>\n",
       "      <td>14632</td>\n",
       "      <td>57</td>\n",
       "      <td>высшее</td>\n",
       "      <td>0</td>\n",
       "      <td>в разводе</td>\n",
       "      <td>3</td>\n",
       "      <td>F</td>\n",
       "      <td>пенсионер</td>\n",
       "      <td>0</td>\n",
       "      <td>67346</td>\n",
       "      <td>на покупку подержанного автомобиля</td>\n",
       "      <td>операции с автомобилем</td>\n",
       "    </tr>\n",
       "    <tr>\n",
       "      <th>15711</th>\n",
       "      <td>0</td>\n",
       "      <td>2254</td>\n",
       "      <td>45</td>\n",
       "      <td>среднее</td>\n",
       "      <td>1</td>\n",
       "      <td>женат / замужем</td>\n",
       "      <td>0</td>\n",
       "      <td>F</td>\n",
       "      <td>компаньон</td>\n",
       "      <td>0</td>\n",
       "      <td>172357</td>\n",
       "      <td>заняться образованием</td>\n",
       "      <td>получение образования</td>\n",
       "    </tr>\n",
       "    <tr>\n",
       "      <th>21278</th>\n",
       "      <td>0</td>\n",
       "      <td>8255</td>\n",
       "      <td>52</td>\n",
       "      <td>среднее</td>\n",
       "      <td>1</td>\n",
       "      <td>вдовец / вдова</td>\n",
       "      <td>2</td>\n",
       "      <td>F</td>\n",
       "      <td>госслужащий</td>\n",
       "      <td>0</td>\n",
       "      <td>81624</td>\n",
       "      <td>покупка жилья</td>\n",
       "      <td>операции с недвижимостью</td>\n",
       "    </tr>\n",
       "    <tr>\n",
       "      <th>18841</th>\n",
       "      <td>1</td>\n",
       "      <td>2468</td>\n",
       "      <td>34</td>\n",
       "      <td>высшее</td>\n",
       "      <td>0</td>\n",
       "      <td>гражданский брак</td>\n",
       "      <td>1</td>\n",
       "      <td>F</td>\n",
       "      <td>компаньон</td>\n",
       "      <td>0</td>\n",
       "      <td>267887</td>\n",
       "      <td>операции с недвижимостью</td>\n",
       "      <td>операции с недвижимостью</td>\n",
       "    </tr>\n",
       "  </tbody>\n",
       "</table>\n",
       "</div>"
      ],
      "text/plain": [
       "       children  days_employed  dob_years education  education_id  \\\n",
       "914           0          16672         62   среднее             1   \n",
       "12672         1          14632         57    высшее             0   \n",
       "15711         0           2254         45   среднее             1   \n",
       "21278         0           8255         52   среднее             1   \n",
       "18841         1           2468         34    высшее             0   \n",
       "\n",
       "          family_status  family_status_id gender  income_type  debt  \\\n",
       "914     женат / замужем                 0      F    пенсионер     0   \n",
       "12672         в разводе                 3      F    пенсионер     0   \n",
       "15711   женат / замужем                 0      F    компаньон     0   \n",
       "21278    вдовец / вдова                 2      F  госслужащий     0   \n",
       "18841  гражданский брак                 1      F    компаньон     0   \n",
       "\n",
       "       total_income                             purpose  \\\n",
       "914          115140                покупка своего жилья   \n",
       "12672         67346  на покупку подержанного автомобиля   \n",
       "15711        172357               заняться образованием   \n",
       "21278         81624                       покупка жилья   \n",
       "18841        267887            операции с недвижимостью   \n",
       "\n",
       "               purpose_category  \n",
       "914    операции с недвижимостью  \n",
       "12672    операции с автомобилем  \n",
       "15711     получение образования  \n",
       "21278  операции с недвижимостью  \n",
       "18841  операции с недвижимостью  "
      ]
     },
     "execution_count": 63,
     "metadata": {},
     "output_type": "execute_result"
    }
   ],
   "source": [
    "# Создадим функцию для лемматизации\n",
    "def purpose_lemma(row):\n",
    "    lem_purpose = m.lemmatize(row['purpose'])\n",
    "    try:\n",
    "        if 'автомобиль' in lem_purpose:\n",
    "            return 'операции с автомобилем'\n",
    "        elif 'свадьба' in lem_purpose:\n",
    "            return 'проведение свадьбы'\n",
    "        elif ('недвижимость' in lem_purpose) or ('жилье' in lem_purpose):\n",
    "            return 'операции с недвижимостью'\n",
    "        elif 'образование' in lem_purpose:\n",
    "            return 'получение образования'   \n",
    "    except:\n",
    "        return 'unknown'\n",
    "# Создадим новый столбец с категорией\n",
    "data['purpose_category'] = data.apply(purpose_lemma, axis=1) \n",
    "# Проверим результат\n",
    "data.sample(5)"
   ]
  },
  {
   "cell_type": "markdown",
   "id": "8e41661a",
   "metadata": {},
   "source": [
    "С помощью лемматизации мы определили самые частые причины кредитования и создали столбец `purpose_category` с 4 категориями кредитования: свадьба, недвижимость, автомобиль, образование. В дальнейшем это упростит нам работу в ответе на вопрос про влияние цели кредита на его возврат.\n",
    "\n"
   ]
  },
  {
   "cell_type": "markdown",
   "id": "8972eaf9",
   "metadata": {},
   "source": [
    "### Удаление неинформативных столбцов"
   ]
  },
  {
   "cell_type": "markdown",
   "id": "cce3def8",
   "metadata": {},
   "source": [
    "Удалим дублирующие столбцы `education_id`, `family_status_id`, `purpose`."
   ]
  },
  {
   "cell_type": "code",
   "execution_count": 64,
   "id": "786dc2d8",
   "metadata": {},
   "outputs": [],
   "source": [
    "drop_columns = ['education_id', 'family_status_id', 'purpose']\n",
    "for i in drop_columns:\n",
    "    data = data.drop([i], axis=1)"
   ]
  },
  {
   "cell_type": "code",
   "execution_count": 65,
   "id": "e64fe61e",
   "metadata": {},
   "outputs": [
    {
     "data": {
      "text/html": [
       "<div>\n",
       "<style scoped>\n",
       "    .dataframe tbody tr th:only-of-type {\n",
       "        vertical-align: middle;\n",
       "    }\n",
       "\n",
       "    .dataframe tbody tr th {\n",
       "        vertical-align: top;\n",
       "    }\n",
       "\n",
       "    .dataframe thead th {\n",
       "        text-align: right;\n",
       "    }\n",
       "</style>\n",
       "<table border=\"1\" class=\"dataframe\">\n",
       "  <thead>\n",
       "    <tr style=\"text-align: right;\">\n",
       "      <th></th>\n",
       "      <th>children</th>\n",
       "      <th>days_employed</th>\n",
       "      <th>dob_years</th>\n",
       "      <th>education</th>\n",
       "      <th>family_status</th>\n",
       "      <th>gender</th>\n",
       "      <th>income_type</th>\n",
       "      <th>debt</th>\n",
       "      <th>total_income</th>\n",
       "      <th>purpose_category</th>\n",
       "    </tr>\n",
       "  </thead>\n",
       "  <tbody>\n",
       "    <tr>\n",
       "      <th>18074</th>\n",
       "      <td>0</td>\n",
       "      <td>3566</td>\n",
       "      <td>33</td>\n",
       "      <td>высшее</td>\n",
       "      <td>не женат / не замужем</td>\n",
       "      <td>F</td>\n",
       "      <td>сотрудник</td>\n",
       "      <td>0</td>\n",
       "      <td>78796</td>\n",
       "      <td>операции с недвижимостью</td>\n",
       "    </tr>\n",
       "    <tr>\n",
       "      <th>17364</th>\n",
       "      <td>0</td>\n",
       "      <td>15377</td>\n",
       "      <td>65</td>\n",
       "      <td>среднее</td>\n",
       "      <td>гражданский брак</td>\n",
       "      <td>M</td>\n",
       "      <td>пенсионер</td>\n",
       "      <td>0</td>\n",
       "      <td>81710</td>\n",
       "      <td>операции с недвижимостью</td>\n",
       "    </tr>\n",
       "    <tr>\n",
       "      <th>5132</th>\n",
       "      <td>2</td>\n",
       "      <td>4488</td>\n",
       "      <td>35</td>\n",
       "      <td>высшее</td>\n",
       "      <td>женат / замужем</td>\n",
       "      <td>F</td>\n",
       "      <td>компаньон</td>\n",
       "      <td>0</td>\n",
       "      <td>259131</td>\n",
       "      <td>операции с недвижимостью</td>\n",
       "    </tr>\n",
       "    <tr>\n",
       "      <th>6429</th>\n",
       "      <td>0</td>\n",
       "      <td>14981</td>\n",
       "      <td>54</td>\n",
       "      <td>среднее</td>\n",
       "      <td>женат / замужем</td>\n",
       "      <td>F</td>\n",
       "      <td>пенсионер</td>\n",
       "      <td>0</td>\n",
       "      <td>97721</td>\n",
       "      <td>операции с недвижимостью</td>\n",
       "    </tr>\n",
       "    <tr>\n",
       "      <th>17361</th>\n",
       "      <td>0</td>\n",
       "      <td>1024</td>\n",
       "      <td>55</td>\n",
       "      <td>среднее</td>\n",
       "      <td>не женат / не замужем</td>\n",
       "      <td>M</td>\n",
       "      <td>сотрудник</td>\n",
       "      <td>0</td>\n",
       "      <td>151164</td>\n",
       "      <td>операции с недвижимостью</td>\n",
       "    </tr>\n",
       "  </tbody>\n",
       "</table>\n",
       "</div>"
      ],
      "text/plain": [
       "       children  days_employed  dob_years education          family_status  \\\n",
       "18074         0           3566         33    высшее  не женат / не замужем   \n",
       "17364         0          15377         65   среднее       гражданский брак   \n",
       "5132          2           4488         35    высшее        женат / замужем   \n",
       "6429          0          14981         54   среднее        женат / замужем   \n",
       "17361         0           1024         55   среднее  не женат / не замужем   \n",
       "\n",
       "      gender income_type  debt  total_income          purpose_category  \n",
       "18074      F   сотрудник     0         78796  операции с недвижимостью  \n",
       "17364      M   пенсионер     0         81710  операции с недвижимостью  \n",
       "5132       F   компаньон     0        259131  операции с недвижимостью  \n",
       "6429       F   пенсионер     0         97721  операции с недвижимостью  \n",
       "17361      M   сотрудник     0        151164  операции с недвижимостью  "
      ]
     },
     "execution_count": 65,
     "metadata": {},
     "output_type": "execute_result"
    }
   ],
   "source": [
    "# Посмотрим на результат\n",
    "data.sample(5)"
   ]
  },
  {
   "cell_type": "markdown",
   "id": "191be31a",
   "metadata": {},
   "source": [
    "### Категоризация данных"
   ]
  },
  {
   "cell_type": "markdown",
   "id": "2cf2fa1d",
   "metadata": {},
   "source": [
    "Для ответа на вопросы нам нужны значения столбцов: `children`, `family_status`, `debt`, `total_income`, `purpose`.\n",
    "Для упрощения анализа и ответа на вопросы произведем категоризацию значений столбцов: `children`, `total_income`. "
   ]
  },
  {
   "cell_type": "code",
   "execution_count": 66,
   "id": "c7b8d98e",
   "metadata": {},
   "outputs": [
    {
     "data": {
      "text/plain": [
       "0    14090\n",
       "1     4855\n",
       "2     2128\n",
       "3      330\n",
       "4       41\n",
       "5        9\n",
       "Name: children, dtype: int64"
      ]
     },
     "metadata": {},
     "output_type": "display_data"
    }
   ],
   "source": [
    "display(data['children'].value_counts())"
   ]
  },
  {
   "cell_type": "markdown",
   "id": "cefd660e",
   "metadata": {},
   "source": [
    "Столбец `children` категоризируем по следующему принципу:\n",
    "\n",
    "- 0 - детей нет;\n",
    "- 1 и более - дети есть."
   ]
  },
  {
   "cell_type": "code",
   "execution_count": 67,
   "id": "c3e0e71a",
   "metadata": {},
   "outputs": [
    {
     "data": {
      "text/html": [
       "<div>\n",
       "<style scoped>\n",
       "    .dataframe tbody tr th:only-of-type {\n",
       "        vertical-align: middle;\n",
       "    }\n",
       "\n",
       "    .dataframe tbody tr th {\n",
       "        vertical-align: top;\n",
       "    }\n",
       "\n",
       "    .dataframe thead th {\n",
       "        text-align: right;\n",
       "    }\n",
       "</style>\n",
       "<table border=\"1\" class=\"dataframe\">\n",
       "  <thead>\n",
       "    <tr style=\"text-align: right;\">\n",
       "      <th></th>\n",
       "      <th>children</th>\n",
       "      <th>days_employed</th>\n",
       "      <th>dob_years</th>\n",
       "      <th>education</th>\n",
       "      <th>family_status</th>\n",
       "      <th>gender</th>\n",
       "      <th>income_type</th>\n",
       "      <th>debt</th>\n",
       "      <th>total_income</th>\n",
       "      <th>purpose_category</th>\n",
       "      <th>children_category</th>\n",
       "    </tr>\n",
       "  </thead>\n",
       "  <tbody>\n",
       "    <tr>\n",
       "      <th>14017</th>\n",
       "      <td>1</td>\n",
       "      <td>1827</td>\n",
       "      <td>46</td>\n",
       "      <td>среднее</td>\n",
       "      <td>женат / замужем</td>\n",
       "      <td>M</td>\n",
       "      <td>компаньон</td>\n",
       "      <td>0</td>\n",
       "      <td>130966</td>\n",
       "      <td>операции с автомобилем</td>\n",
       "      <td>дети есть</td>\n",
       "    </tr>\n",
       "    <tr>\n",
       "      <th>3712</th>\n",
       "      <td>0</td>\n",
       "      <td>6521</td>\n",
       "      <td>41</td>\n",
       "      <td>среднее</td>\n",
       "      <td>женат / замужем</td>\n",
       "      <td>F</td>\n",
       "      <td>сотрудник</td>\n",
       "      <td>0</td>\n",
       "      <td>101613</td>\n",
       "      <td>операции с автомобилем</td>\n",
       "      <td>детей нет</td>\n",
       "    </tr>\n",
       "    <tr>\n",
       "      <th>2998</th>\n",
       "      <td>0</td>\n",
       "      <td>1315</td>\n",
       "      <td>29</td>\n",
       "      <td>среднее</td>\n",
       "      <td>женат / замужем</td>\n",
       "      <td>F</td>\n",
       "      <td>сотрудник</td>\n",
       "      <td>0</td>\n",
       "      <td>142594</td>\n",
       "      <td>операции с автомобилем</td>\n",
       "      <td>детей нет</td>\n",
       "    </tr>\n",
       "    <tr>\n",
       "      <th>10610</th>\n",
       "      <td>0</td>\n",
       "      <td>14186</td>\n",
       "      <td>71</td>\n",
       "      <td>среднее</td>\n",
       "      <td>вдовец / вдова</td>\n",
       "      <td>F</td>\n",
       "      <td>пенсионер</td>\n",
       "      <td>0</td>\n",
       "      <td>43508</td>\n",
       "      <td>получение образования</td>\n",
       "      <td>детей нет</td>\n",
       "    </tr>\n",
       "    <tr>\n",
       "      <th>6800</th>\n",
       "      <td>0</td>\n",
       "      <td>8636</td>\n",
       "      <td>56</td>\n",
       "      <td>среднее</td>\n",
       "      <td>женат / замужем</td>\n",
       "      <td>F</td>\n",
       "      <td>компаньон</td>\n",
       "      <td>0</td>\n",
       "      <td>221809</td>\n",
       "      <td>операции с недвижимостью</td>\n",
       "      <td>детей нет</td>\n",
       "    </tr>\n",
       "  </tbody>\n",
       "</table>\n",
       "</div>"
      ],
      "text/plain": [
       "       children  days_employed  dob_years education    family_status gender  \\\n",
       "14017         1           1827         46   среднее  женат / замужем      M   \n",
       "3712          0           6521         41   среднее  женат / замужем      F   \n",
       "2998          0           1315         29   среднее  женат / замужем      F   \n",
       "10610         0          14186         71   среднее   вдовец / вдова      F   \n",
       "6800          0           8636         56   среднее  женат / замужем      F   \n",
       "\n",
       "      income_type  debt  total_income          purpose_category  \\\n",
       "14017   компаньон     0        130966    операции с автомобилем   \n",
       "3712    сотрудник     0        101613    операции с автомобилем   \n",
       "2998    сотрудник     0        142594    операции с автомобилем   \n",
       "10610   пенсионер     0         43508     получение образования   \n",
       "6800    компаньон     0        221809  операции с недвижимостью   \n",
       "\n",
       "      children_category  \n",
       "14017         дети есть  \n",
       "3712          детей нет  \n",
       "2998          детей нет  \n",
       "10610         детей нет  \n",
       "6800          детей нет  "
      ]
     },
     "metadata": {},
     "output_type": "display_data"
    }
   ],
   "source": [
    "# Создадим функцию для категоризации детей\n",
    "def children_categorization(row):\n",
    "    count = row['children']\n",
    "    try:\n",
    "        if count == 0:\n",
    "            return 'детей нет'\n",
    "        elif 0 < count:\n",
    "            return 'дети есть'\n",
    "    except:\n",
    "        return 'Такого не может быть. Проверь данные в столбце children.'\n",
    "# Создадим новый столбец с категорией\n",
    "data['children_category'] = data.apply(children_categorization, axis=1) \n",
    "# Проверим результат\n",
    "display(data.sample(5))"
   ]
  },
  {
   "cell_type": "markdown",
   "id": "c01297fb",
   "metadata": {},
   "source": [
    "Столбец total_income категоризируем по следующему принципу:\n",
    "\n",
    "- 0–30000 — 'E';\n",
    "- 30001–50000 — 'D';\n",
    "- 50001–200000 — 'C';\n",
    "- 200001–1000000 — 'B';\n",
    "- 1000001 и выше — 'A'."
   ]
  },
  {
   "cell_type": "code",
   "execution_count": 68,
   "id": "507fb243",
   "metadata": {},
   "outputs": [
    {
     "data": {
      "text/html": [
       "<div>\n",
       "<style scoped>\n",
       "    .dataframe tbody tr th:only-of-type {\n",
       "        vertical-align: middle;\n",
       "    }\n",
       "\n",
       "    .dataframe tbody tr th {\n",
       "        vertical-align: top;\n",
       "    }\n",
       "\n",
       "    .dataframe thead th {\n",
       "        text-align: right;\n",
       "    }\n",
       "</style>\n",
       "<table border=\"1\" class=\"dataframe\">\n",
       "  <thead>\n",
       "    <tr style=\"text-align: right;\">\n",
       "      <th></th>\n",
       "      <th>children</th>\n",
       "      <th>days_employed</th>\n",
       "      <th>dob_years</th>\n",
       "      <th>education</th>\n",
       "      <th>family_status</th>\n",
       "      <th>gender</th>\n",
       "      <th>income_type</th>\n",
       "      <th>debt</th>\n",
       "      <th>total_income</th>\n",
       "      <th>purpose_category</th>\n",
       "      <th>children_category</th>\n",
       "      <th>total_income_category</th>\n",
       "    </tr>\n",
       "  </thead>\n",
       "  <tbody>\n",
       "    <tr>\n",
       "      <th>17904</th>\n",
       "      <td>0</td>\n",
       "      <td>289</td>\n",
       "      <td>22</td>\n",
       "      <td>высшее</td>\n",
       "      <td>гражданский брак</td>\n",
       "      <td>F</td>\n",
       "      <td>компаньон</td>\n",
       "      <td>0</td>\n",
       "      <td>277479</td>\n",
       "      <td>получение образования</td>\n",
       "      <td>детей нет</td>\n",
       "      <td>B</td>\n",
       "    </tr>\n",
       "    <tr>\n",
       "      <th>12915</th>\n",
       "      <td>1</td>\n",
       "      <td>435</td>\n",
       "      <td>22</td>\n",
       "      <td>среднее</td>\n",
       "      <td>женат / замужем</td>\n",
       "      <td>F</td>\n",
       "      <td>сотрудник</td>\n",
       "      <td>0</td>\n",
       "      <td>90522</td>\n",
       "      <td>операции с недвижимостью</td>\n",
       "      <td>дети есть</td>\n",
       "      <td>C</td>\n",
       "    </tr>\n",
       "    <tr>\n",
       "      <th>12718</th>\n",
       "      <td>1</td>\n",
       "      <td>4620</td>\n",
       "      <td>38</td>\n",
       "      <td>среднее</td>\n",
       "      <td>гражданский брак</td>\n",
       "      <td>F</td>\n",
       "      <td>сотрудник</td>\n",
       "      <td>0</td>\n",
       "      <td>146072</td>\n",
       "      <td>операции с недвижимостью</td>\n",
       "      <td>дети есть</td>\n",
       "      <td>C</td>\n",
       "    </tr>\n",
       "    <tr>\n",
       "      <th>18060</th>\n",
       "      <td>0</td>\n",
       "      <td>839</td>\n",
       "      <td>25</td>\n",
       "      <td>высшее</td>\n",
       "      <td>гражданский брак</td>\n",
       "      <td>F</td>\n",
       "      <td>компаньон</td>\n",
       "      <td>0</td>\n",
       "      <td>121571</td>\n",
       "      <td>проведение свадьбы</td>\n",
       "      <td>детей нет</td>\n",
       "      <td>C</td>\n",
       "    </tr>\n",
       "    <tr>\n",
       "      <th>4150</th>\n",
       "      <td>1</td>\n",
       "      <td>1315</td>\n",
       "      <td>29</td>\n",
       "      <td>высшее</td>\n",
       "      <td>женат / замужем</td>\n",
       "      <td>F</td>\n",
       "      <td>сотрудник</td>\n",
       "      <td>0</td>\n",
       "      <td>142594</td>\n",
       "      <td>операции с недвижимостью</td>\n",
       "      <td>дети есть</td>\n",
       "      <td>C</td>\n",
       "    </tr>\n",
       "  </tbody>\n",
       "</table>\n",
       "</div>"
      ],
      "text/plain": [
       "       children  days_employed  dob_years education     family_status gender  \\\n",
       "17904         0            289         22    высшее  гражданский брак      F   \n",
       "12915         1            435         22   среднее   женат / замужем      F   \n",
       "12718         1           4620         38   среднее  гражданский брак      F   \n",
       "18060         0            839         25    высшее  гражданский брак      F   \n",
       "4150          1           1315         29    высшее   женат / замужем      F   \n",
       "\n",
       "      income_type  debt  total_income          purpose_category  \\\n",
       "17904   компаньон     0        277479     получение образования   \n",
       "12915   сотрудник     0         90522  операции с недвижимостью   \n",
       "12718   сотрудник     0        146072  операции с недвижимостью   \n",
       "18060   компаньон     0        121571        проведение свадьбы   \n",
       "4150    сотрудник     0        142594  операции с недвижимостью   \n",
       "\n",
       "      children_category total_income_category  \n",
       "17904         детей нет                     B  \n",
       "12915         дети есть                     C  \n",
       "12718         дети есть                     C  \n",
       "18060         детей нет                     C  \n",
       "4150          дети есть                     C  "
      ]
     },
     "metadata": {},
     "output_type": "display_data"
    }
   ],
   "source": [
    "# Создадим функцию для категоризации дохода\n",
    "def total_income_categorization(row):\n",
    "    income = row['total_income']\n",
    "    try:\n",
    "        if income >= 1000001:\n",
    "            return 'A'\n",
    "        elif 200001 <= income <= 1000000:\n",
    "            return 'B'\n",
    "        elif 50001 <= income <= 200000:\n",
    "            return 'C'\n",
    "        elif 30001 <= income <= 50000:\n",
    "            return 'D'\n",
    "        elif income <= 30000:\n",
    "            return 'E'\n",
    "    except:\n",
    "        return 'Такого не может быть. Проверь данные в столбце total_income.'\n",
    "# Создадим новый столбец с категорией\n",
    "data['total_income_category'] = data.apply(total_income_categorization, axis=1) \n",
    "display(data.sample(5))"
   ]
  },
  {
   "cell_type": "markdown",
   "id": "b44bc5c3",
   "metadata": {},
   "source": [
    "**Вывод**"
   ]
  },
  {
   "cell_type": "markdown",
   "id": "2c0782a8",
   "metadata": {},
   "source": [
    "Все необходимые столбцы категоризированы. Теперь можем перейти к ответу на вопросы."
   ]
  },
  {
   "cell_type": "markdown",
   "id": "9538c4ba",
   "metadata": {},
   "source": [
    "## Ответы на вопросы"
   ]
  },
  {
   "cell_type": "markdown",
   "id": "47c3dd86",
   "metadata": {},
   "source": [
    "- Есть ли зависимость между наличием детей и возвратом кредита в срок?"
   ]
  },
  {
   "cell_type": "code",
   "execution_count": 69,
   "id": "710fbb08",
   "metadata": {},
   "outputs": [
    {
     "data": {
      "text/html": [
       "<div>\n",
       "<style scoped>\n",
       "    .dataframe tbody tr th:only-of-type {\n",
       "        vertical-align: middle;\n",
       "    }\n",
       "\n",
       "    .dataframe tbody tr th {\n",
       "        vertical-align: top;\n",
       "    }\n",
       "\n",
       "    .dataframe thead th {\n",
       "        text-align: right;\n",
       "    }\n",
       "</style>\n",
       "<table border=\"1\" class=\"dataframe\">\n",
       "  <thead>\n",
       "    <tr style=\"text-align: right;\">\n",
       "      <th></th>\n",
       "      <th>Нет задолженности</th>\n",
       "      <th>Есть задолженность</th>\n",
       "      <th>Доля должников, в %</th>\n",
       "    </tr>\n",
       "    <tr>\n",
       "      <th>children_category</th>\n",
       "      <th></th>\n",
       "      <th></th>\n",
       "      <th></th>\n",
       "    </tr>\n",
       "  </thead>\n",
       "  <tbody>\n",
       "    <tr>\n",
       "      <th>детей нет</th>\n",
       "      <td>13027</td>\n",
       "      <td>1063</td>\n",
       "      <td>7.54</td>\n",
       "    </tr>\n",
       "    <tr>\n",
       "      <th>дети есть</th>\n",
       "      <td>6685</td>\n",
       "      <td>678</td>\n",
       "      <td>9.21</td>\n",
       "    </tr>\n",
       "  </tbody>\n",
       "</table>\n",
       "</div>"
      ],
      "text/plain": [
       "                   Нет задолженности  Есть задолженность  Доля должников, в %\n",
       "children_category                                                            \n",
       "детей нет                      13027                1063                 7.54\n",
       "дети есть                       6685                 678                 9.21"
      ]
     },
     "execution_count": 69,
     "metadata": {},
     "output_type": "execute_result"
    }
   ],
   "source": [
    "# Сведем все полученные результат в одну таблицу\n",
    "pivot_table_children = data.pivot_table(index='children_category', columns= 'debt', values='days_employed', aggfunc='count')\n",
    "# Скорректируем отображаемое наименование столбцов\n",
    "pivot_table_children.columns = ['Нет задолженности', 'Есть задолженность']\n",
    "# Добавим новый столбец\n",
    "pivot_table_children['Доля должников, в %'] = round(pivot_table_children['Есть задолженность'] / (pivot_table_children['Нет задолженности'] + pivot_table_children['Есть задолженность']) * 100, 2)\n",
    "# Выведем итоговую таблицу\n",
    "pivot_table_children"
   ]
  },
  {
   "cell_type": "markdown",
   "id": "a277d269",
   "metadata": {},
   "source": [
    "На основании таблицы можно сделать вывод, что клиенты без детей на 18% реже имеют задолженности по возврату кредита, чем клиенты с детьми.  "
   ]
  },
  {
   "cell_type": "markdown",
   "id": "f4378fd1",
   "metadata": {},
   "source": [
    "- Есть ли зависимость между семейным положением и возвратом кредита в срок?"
   ]
  },
  {
   "cell_type": "code",
   "execution_count": 70,
   "id": "d94fc912",
   "metadata": {},
   "outputs": [
    {
     "data": {
      "text/html": [
       "<div>\n",
       "<style scoped>\n",
       "    .dataframe tbody tr th:only-of-type {\n",
       "        vertical-align: middle;\n",
       "    }\n",
       "\n",
       "    .dataframe tbody tr th {\n",
       "        vertical-align: top;\n",
       "    }\n",
       "\n",
       "    .dataframe thead th {\n",
       "        text-align: right;\n",
       "    }\n",
       "</style>\n",
       "<table border=\"1\" class=\"dataframe\">\n",
       "  <thead>\n",
       "    <tr style=\"text-align: right;\">\n",
       "      <th></th>\n",
       "      <th>Нет задолженности</th>\n",
       "      <th>Есть задолженность</th>\n",
       "      <th>Доля должников, в %</th>\n",
       "    </tr>\n",
       "    <tr>\n",
       "      <th>family_status</th>\n",
       "      <th></th>\n",
       "      <th></th>\n",
       "      <th></th>\n",
       "    </tr>\n",
       "  </thead>\n",
       "  <tbody>\n",
       "    <tr>\n",
       "      <th>в разводе</th>\n",
       "      <td>1110</td>\n",
       "      <td>85</td>\n",
       "      <td>7.11</td>\n",
       "    </tr>\n",
       "    <tr>\n",
       "      <th>вдовец / вдова</th>\n",
       "      <td>896</td>\n",
       "      <td>63</td>\n",
       "      <td>6.57</td>\n",
       "    </tr>\n",
       "    <tr>\n",
       "      <th>гражданский брак</th>\n",
       "      <td>3762</td>\n",
       "      <td>388</td>\n",
       "      <td>9.35</td>\n",
       "    </tr>\n",
       "    <tr>\n",
       "      <th>женат / замужем</th>\n",
       "      <td>11408</td>\n",
       "      <td>931</td>\n",
       "      <td>7.55</td>\n",
       "    </tr>\n",
       "    <tr>\n",
       "      <th>не женат / не замужем</th>\n",
       "      <td>2536</td>\n",
       "      <td>274</td>\n",
       "      <td>9.75</td>\n",
       "    </tr>\n",
       "  </tbody>\n",
       "</table>\n",
       "</div>"
      ],
      "text/plain": [
       "                       Нет задолженности  Есть задолженность  \\\n",
       "family_status                                                  \n",
       "в разводе                           1110                  85   \n",
       "вдовец / вдова                       896                  63   \n",
       "гражданский брак                    3762                 388   \n",
       "женат / замужем                    11408                 931   \n",
       "не женат / не замужем               2536                 274   \n",
       "\n",
       "                       Доля должников, в %  \n",
       "family_status                               \n",
       "в разводе                             7.11  \n",
       "вдовец / вдова                        6.57  \n",
       "гражданский брак                      9.35  \n",
       "женат / замужем                       7.55  \n",
       "не женат / не замужем                 9.75  "
      ]
     },
     "execution_count": 70,
     "metadata": {},
     "output_type": "execute_result"
    }
   ],
   "source": [
    "# Сведем все полученные результат в одну таблицу\n",
    "pivot_table_family_status = data.pivot_table(index='family_status', columns= 'debt', values='days_employed', aggfunc='count')\n",
    "# Скорректируем отображаемое наименование столбцов\n",
    "pivot_table_family_status.columns = ['Нет задолженности', 'Есть задолженность']\n",
    "# Добавим новый столбец\n",
    "pivot_table_family_status['Доля должников, в %'] = round(pivot_table_family_status['Есть задолженность'] / (pivot_table_family_status['Есть задолженность'] + pivot_table_family_status['Нет задолженности']) * 100, 2)\n",
    "# Выведем итоговую таблицу\n",
    "pivot_table_family_status"
   ]
  },
  {
   "cell_type": "markdown",
   "id": "0edd2a75",
   "metadata": {},
   "source": [
    "**Вывод**"
   ]
  },
  {
   "cell_type": "markdown",
   "id": "9435cd97",
   "metadata": {},
   "source": [
    "Семейное положение оказывает сильное влияние на наличие задолженности. Например, у вдовцов на 32 % меньше задолженностей по кредитах, чем у не женатых."
   ]
  },
  {
   "cell_type": "markdown",
   "id": "a1053e4b",
   "metadata": {},
   "source": [
    "- Есть ли зависимость между уровнем дохода и возвратом кредита в срок?"
   ]
  },
  {
   "cell_type": "code",
   "execution_count": 71,
   "id": "71dc7cb4",
   "metadata": {},
   "outputs": [
    {
     "data": {
      "text/html": [
       "<div>\n",
       "<style scoped>\n",
       "    .dataframe tbody tr th:only-of-type {\n",
       "        vertical-align: middle;\n",
       "    }\n",
       "\n",
       "    .dataframe tbody tr th {\n",
       "        vertical-align: top;\n",
       "    }\n",
       "\n",
       "    .dataframe thead th {\n",
       "        text-align: right;\n",
       "    }\n",
       "</style>\n",
       "<table border=\"1\" class=\"dataframe\">\n",
       "  <thead>\n",
       "    <tr style=\"text-align: right;\">\n",
       "      <th></th>\n",
       "      <th>Нет задолженности</th>\n",
       "      <th>Есть задолженность</th>\n",
       "      <th>Доля должников, в %</th>\n",
       "    </tr>\n",
       "    <tr>\n",
       "      <th>total_income_category</th>\n",
       "      <th></th>\n",
       "      <th></th>\n",
       "      <th></th>\n",
       "    </tr>\n",
       "  </thead>\n",
       "  <tbody>\n",
       "    <tr>\n",
       "      <th>A</th>\n",
       "      <td>23</td>\n",
       "      <td>2</td>\n",
       "      <td>8.00</td>\n",
       "    </tr>\n",
       "    <tr>\n",
       "      <th>B</th>\n",
       "      <td>4685</td>\n",
       "      <td>356</td>\n",
       "      <td>7.06</td>\n",
       "    </tr>\n",
       "    <tr>\n",
       "      <th>C</th>\n",
       "      <td>14655</td>\n",
       "      <td>1360</td>\n",
       "      <td>8.49</td>\n",
       "    </tr>\n",
       "    <tr>\n",
       "      <th>D</th>\n",
       "      <td>329</td>\n",
       "      <td>21</td>\n",
       "      <td>6.00</td>\n",
       "    </tr>\n",
       "    <tr>\n",
       "      <th>E</th>\n",
       "      <td>20</td>\n",
       "      <td>2</td>\n",
       "      <td>9.09</td>\n",
       "    </tr>\n",
       "  </tbody>\n",
       "</table>\n",
       "</div>"
      ],
      "text/plain": [
       "                       Нет задолженности  Есть задолженность  \\\n",
       "total_income_category                                          \n",
       "A                                     23                   2   \n",
       "B                                   4685                 356   \n",
       "C                                  14655                1360   \n",
       "D                                    329                  21   \n",
       "E                                     20                   2   \n",
       "\n",
       "                       Доля должников, в %  \n",
       "total_income_category                       \n",
       "A                                     8.00  \n",
       "B                                     7.06  \n",
       "C                                     8.49  \n",
       "D                                     6.00  \n",
       "E                                     9.09  "
      ]
     },
     "execution_count": 71,
     "metadata": {},
     "output_type": "execute_result"
    }
   ],
   "source": [
    "# Сведем все полученные результат в одну таблицу\n",
    "pivot_table_total_income_category = data.pivot_table(index='total_income_category', columns= 'debt', values='days_employed', aggfunc='count')\n",
    "# Скорректируем отображаемое наименование столбцов\n",
    "pivot_table_total_income_category.columns = ['Нет задолженности', 'Есть задолженность']\n",
    "# Добавим новый столбец\n",
    "pivot_table_total_income_category['Доля должников, в %'] = round(pivot_table_total_income_category['Есть задолженность'] / (pivot_table_total_income_category['Есть задолженность'] + pivot_table_total_income_category['Нет задолженности']) * 100, 2)\n",
    "# Выведем итоговую таблицу\n",
    "pivot_table_total_income_category"
   ]
  },
  {
   "cell_type": "markdown",
   "id": "7abd942a",
   "metadata": {},
   "source": [
    "**Вывод**"
   ]
  },
  {
   "cell_type": "markdown",
   "id": "629c38cd",
   "metadata": {},
   "source": [
    "Явной взаимосвязи между доходом и наличием задолженности нет."
   ]
  },
  {
   "cell_type": "markdown",
   "id": "6ca518e4",
   "metadata": {},
   "source": [
    "- Как разные цели кредита влияют на его возврат в срок?"
   ]
  },
  {
   "cell_type": "code",
   "execution_count": 72,
   "id": "316f4603",
   "metadata": {},
   "outputs": [
    {
     "data": {
      "text/html": [
       "<div>\n",
       "<style scoped>\n",
       "    .dataframe tbody tr th:only-of-type {\n",
       "        vertical-align: middle;\n",
       "    }\n",
       "\n",
       "    .dataframe tbody tr th {\n",
       "        vertical-align: top;\n",
       "    }\n",
       "\n",
       "    .dataframe thead th {\n",
       "        text-align: right;\n",
       "    }\n",
       "</style>\n",
       "<table border=\"1\" class=\"dataframe\">\n",
       "  <thead>\n",
       "    <tr style=\"text-align: right;\">\n",
       "      <th></th>\n",
       "      <th>Нет задолженности</th>\n",
       "      <th>Есть задолженность</th>\n",
       "      <th>Доля должников, в %</th>\n",
       "    </tr>\n",
       "    <tr>\n",
       "      <th>purpose_category</th>\n",
       "      <th></th>\n",
       "      <th></th>\n",
       "      <th></th>\n",
       "    </tr>\n",
       "  </thead>\n",
       "  <tbody>\n",
       "    <tr>\n",
       "      <th>операции с автомобилем</th>\n",
       "      <td>3903</td>\n",
       "      <td>403</td>\n",
       "      <td>9.36</td>\n",
       "    </tr>\n",
       "    <tr>\n",
       "      <th>операции с недвижимостью</th>\n",
       "      <td>10028</td>\n",
       "      <td>782</td>\n",
       "      <td>7.23</td>\n",
       "    </tr>\n",
       "    <tr>\n",
       "      <th>получение образования</th>\n",
       "      <td>3643</td>\n",
       "      <td>370</td>\n",
       "      <td>9.22</td>\n",
       "    </tr>\n",
       "    <tr>\n",
       "      <th>проведение свадьбы</th>\n",
       "      <td>2138</td>\n",
       "      <td>186</td>\n",
       "      <td>8.00</td>\n",
       "    </tr>\n",
       "  </tbody>\n",
       "</table>\n",
       "</div>"
      ],
      "text/plain": [
       "                          Нет задолженности  Есть задолженность  \\\n",
       "purpose_category                                                  \n",
       "операции с автомобилем                 3903                 403   \n",
       "операции с недвижимостью              10028                 782   \n",
       "получение образования                  3643                 370   \n",
       "проведение свадьбы                     2138                 186   \n",
       "\n",
       "                          Доля должников, в %  \n",
       "purpose_category                               \n",
       "операции с автомобилем                   9.36  \n",
       "операции с недвижимостью                 7.23  \n",
       "получение образования                    9.22  \n",
       "проведение свадьбы                       8.00  "
      ]
     },
     "execution_count": 72,
     "metadata": {},
     "output_type": "execute_result"
    }
   ],
   "source": [
    "# Сведем все полученные результат в одну таблицу\n",
    "pivot_table_purpose_category = data.pivot_table(index='purpose_category', columns= 'debt', values='days_employed', aggfunc='count')\n",
    "# Скорректируем отображаемое наименование столбцов\n",
    "pivot_table_purpose_category.columns = ['Нет задолженности', 'Есть задолженность']\n",
    "# Добавим новый столбец\n",
    "pivot_table_purpose_category['Доля должников, в %'] = round(pivot_table_purpose_category['Есть задолженность'] / (pivot_table_purpose_category['Есть задолженность'] + pivot_table_purpose_category['Нет задолженности']) * 100, 2)\n",
    "# Выведем итоговую таблицу\n",
    "pivot_table_purpose_category"
   ]
  },
  {
   "cell_type": "markdown",
   "id": "3eae960d",
   "metadata": {},
   "source": [
    "**Вывод**"
   ]
  },
  {
   "cell_type": "markdown",
   "id": "6557f52d",
   "metadata": {},
   "source": [
    "Цель кредитования оказывает влияние на наличие задолженности. Если цель кредита - операции с автомобилем, то вероятность задолженности самая высокая; если цель кредита - операции с недвижимостью, то вероятность задолженности самая низкая."
   ]
  },
  {
   "cell_type": "markdown",
   "id": "598d8e7b",
   "metadata": {},
   "source": [
    "## Общий вывод"
   ]
  },
  {
   "cell_type": "markdown",
   "id": "9f7bf37f",
   "metadata": {},
   "source": [
    "На основании произведенного анализа можно сделать вывод, что:\n",
    "- клиенты без детей на 18% реже имеют задолженности по кредиту;\n",
    "- семейное положение оказывает сильное влияние на наличие задолженности, например, у вдовцов на 32 % меньше задолженностей по кредитах, чем у не женатых;\n",
    "- уровень доходов клиентов не влияет на возврат кредита в срок;\n",
    "- цель кредитования оказывает влияние на наличие задолженности, например, самая высокая вероятность задолженности у кредита связанного с операциями с автомобилем, а самая низкая - у кредита связанного с операциями с недвижимостью.\n",
    "\n",
    "Заказчику рекомендуется ввести фильтрацию вводимых значений для исключения ошибок в данных, а именно:\n",
    "- `children` - не должно быть отрицательных значений, нужно дополнительно спрашивать, что значение введено верно, если оно привышает 5;\n",
    "- `days_employed` - не должно быть отрицательных или нулевых значений; необходимо добавить проверку на реальность данных (days_employed <= dob_years * 365);\n",
    "- `dob_years` - не должно быть нулевых значений и ниже определенного значения (например, 16 лет);\n",
    "- `days_employed`, `total_income` необходимо внести контроль ввода данных;\n",
    "- `education`, `family_status`, `gender`, `purpose` - можно ввести выбор из выпадающего списка, это позволит избежать разнообразия в написании."
   ]
  }
 ],
 "metadata": {
  "ExecuteTimeLog": [
   {
    "duration": 43,
    "start_time": "2022-10-23T18:48:42.643Z"
   },
   {
    "duration": 556,
    "start_time": "2022-10-23T18:48:49.602Z"
   },
   {
    "duration": 6,
    "start_time": "2022-10-23T18:48:56.750Z"
   },
   {
    "duration": 4,
    "start_time": "2022-10-23T18:49:15.755Z"
   },
   {
    "duration": 17,
    "start_time": "2022-10-23T18:52:28.680Z"
   },
   {
    "duration": 16,
    "start_time": "2022-10-23T18:52:51.748Z"
   },
   {
    "duration": 15,
    "start_time": "2022-10-23T18:53:03.214Z"
   },
   {
    "duration": 4,
    "start_time": "2022-10-23T18:53:29.280Z"
   },
   {
    "duration": 5,
    "start_time": "2022-10-23T18:55:24.249Z"
   },
   {
    "duration": 5,
    "start_time": "2022-10-23T18:55:57.449Z"
   },
   {
    "duration": 5,
    "start_time": "2022-10-23T18:57:53.717Z"
   },
   {
    "duration": 5,
    "start_time": "2022-10-23T18:57:58.935Z"
   },
   {
    "duration": 5,
    "start_time": "2022-10-23T18:58:06.488Z"
   },
   {
    "duration": 6,
    "start_time": "2022-10-23T18:59:24.869Z"
   },
   {
    "duration": 2,
    "start_time": "2022-10-23T19:03:41.595Z"
   },
   {
    "duration": 3,
    "start_time": "2022-10-23T19:03:55.062Z"
   },
   {
    "duration": 3,
    "start_time": "2022-10-23T19:04:13.138Z"
   },
   {
    "duration": 5,
    "start_time": "2022-10-23T19:04:14.952Z"
   },
   {
    "duration": 6,
    "start_time": "2022-10-23T19:05:11.437Z"
   },
   {
    "duration": 6,
    "start_time": "2022-10-23T19:06:11.090Z"
   },
   {
    "duration": 7,
    "start_time": "2022-10-23T19:07:33.924Z"
   },
   {
    "duration": 31,
    "start_time": "2022-10-23T19:08:19.032Z"
   },
   {
    "duration": 9,
    "start_time": "2022-10-23T19:08:53.341Z"
   },
   {
    "duration": 9,
    "start_time": "2022-10-23T19:09:52.888Z"
   },
   {
    "duration": 7,
    "start_time": "2022-10-23T19:10:01.976Z"
   },
   {
    "duration": 6,
    "start_time": "2022-10-23T19:10:12.218Z"
   },
   {
    "duration": 5,
    "start_time": "2022-10-23T19:10:45.231Z"
   },
   {
    "duration": 6,
    "start_time": "2022-10-23T19:11:52.503Z"
   },
   {
    "duration": 5,
    "start_time": "2022-10-23T19:12:20.283Z"
   },
   {
    "duration": 56,
    "start_time": "2022-10-23T19:13:08.695Z"
   },
   {
    "duration": 9,
    "start_time": "2022-10-23T19:13:44.093Z"
   },
   {
    "duration": 5,
    "start_time": "2022-10-23T19:15:01.037Z"
   },
   {
    "duration": 5,
    "start_time": "2022-10-23T19:15:44.878Z"
   },
   {
    "duration": 5,
    "start_time": "2022-10-23T19:16:21.383Z"
   },
   {
    "duration": 5,
    "start_time": "2022-10-23T19:17:04.239Z"
   },
   {
    "duration": 6,
    "start_time": "2022-10-23T19:17:38.047Z"
   },
   {
    "duration": 446,
    "start_time": "2022-10-24T11:32:56.702Z"
   },
   {
    "duration": 437,
    "start_time": "2022-10-24T11:33:25.517Z"
   },
   {
    "duration": 44,
    "start_time": "2022-10-24T11:33:43.277Z"
   },
   {
    "duration": 24,
    "start_time": "2022-10-24T11:34:00.051Z"
   },
   {
    "duration": 455,
    "start_time": "2022-10-24T11:34:48.200Z"
   },
   {
    "duration": 24,
    "start_time": "2022-10-24T11:35:31.536Z"
   },
   {
    "duration": 430,
    "start_time": "2022-10-24T11:40:27.532Z"
   },
   {
    "duration": 723,
    "start_time": "2022-10-25T13:44:55.070Z"
   },
   {
    "duration": 36,
    "start_time": "2022-10-25T13:46:05.669Z"
   },
   {
    "duration": 89,
    "start_time": "2022-10-25T13:47:31.164Z"
   },
   {
    "duration": 86,
    "start_time": "2022-10-25T13:47:36.513Z"
   },
   {
    "duration": 32,
    "start_time": "2022-10-25T14:03:22.976Z"
   },
   {
    "duration": 13,
    "start_time": "2022-10-25T14:03:28.916Z"
   },
   {
    "duration": 49,
    "start_time": "2022-10-25T14:07:57.557Z"
   },
   {
    "duration": 69,
    "start_time": "2022-10-25T14:08:34.938Z"
   },
   {
    "duration": 4,
    "start_time": "2022-10-25T14:08:53.118Z"
   },
   {
    "duration": 4,
    "start_time": "2022-10-25T14:09:22.301Z"
   },
   {
    "duration": 770,
    "start_time": "2022-10-25T14:10:49.223Z"
   },
   {
    "duration": 8,
    "start_time": "2022-10-25T14:11:25.583Z"
   },
   {
    "duration": 54,
    "start_time": "2022-10-25T14:17:33.316Z"
   },
   {
    "duration": 22,
    "start_time": "2022-10-25T14:17:37.306Z"
   },
   {
    "duration": 53,
    "start_time": "2022-10-25T14:17:50.315Z"
   },
   {
    "duration": 7,
    "start_time": "2022-10-25T14:22:08.379Z"
   },
   {
    "duration": 8,
    "start_time": "2022-10-25T14:23:11.524Z"
   },
   {
    "duration": 10,
    "start_time": "2022-10-25T14:23:34.890Z"
   },
   {
    "duration": 8,
    "start_time": "2022-10-25T14:23:57.618Z"
   },
   {
    "duration": 10,
    "start_time": "2022-10-25T14:24:22.155Z"
   },
   {
    "duration": 3,
    "start_time": "2022-10-25T14:29:49.625Z"
   },
   {
    "duration": 17,
    "start_time": "2022-10-25T14:30:14.109Z"
   },
   {
    "duration": 6,
    "start_time": "2022-10-25T14:30:30.230Z"
   },
   {
    "duration": 6,
    "start_time": "2022-10-25T14:30:35.912Z"
   },
   {
    "duration": 6,
    "start_time": "2022-10-25T14:31:37.307Z"
   },
   {
    "duration": 8,
    "start_time": "2022-10-25T14:31:43.521Z"
   },
   {
    "duration": 51,
    "start_time": "2022-10-25T14:32:33.565Z"
   },
   {
    "duration": 6,
    "start_time": "2022-10-25T14:33:07.936Z"
   },
   {
    "duration": 6,
    "start_time": "2022-10-25T14:35:09.247Z"
   },
   {
    "duration": 9,
    "start_time": "2022-10-25T14:35:13.197Z"
   },
   {
    "duration": 8,
    "start_time": "2022-10-25T14:35:16.847Z"
   },
   {
    "duration": 12,
    "start_time": "2022-10-25T14:35:29.071Z"
   },
   {
    "duration": 10,
    "start_time": "2022-10-25T14:35:37.547Z"
   },
   {
    "duration": 19,
    "start_time": "2022-10-25T14:35:44.169Z"
   },
   {
    "duration": 7,
    "start_time": "2022-10-25T14:35:59.867Z"
   },
   {
    "duration": 9,
    "start_time": "2022-10-25T14:37:16.848Z"
   },
   {
    "duration": 7,
    "start_time": "2022-10-25T14:40:00.738Z"
   },
   {
    "duration": 13,
    "start_time": "2022-10-25T14:41:09.205Z"
   },
   {
    "duration": 7,
    "start_time": "2022-10-25T14:41:15.291Z"
   },
   {
    "duration": 7,
    "start_time": "2022-10-25T14:42:32.351Z"
   },
   {
    "duration": 8,
    "start_time": "2022-10-25T14:43:35.813Z"
   },
   {
    "duration": 7,
    "start_time": "2022-10-25T14:46:36.735Z"
   },
   {
    "duration": 6,
    "start_time": "2022-10-25T14:47:16.585Z"
   },
   {
    "duration": 6,
    "start_time": "2022-10-25T14:48:02.964Z"
   },
   {
    "duration": 8,
    "start_time": "2022-10-25T14:48:39.432Z"
   },
   {
    "duration": 33,
    "start_time": "2022-10-25T14:56:32.946Z"
   },
   {
    "duration": 44,
    "start_time": "2022-10-25T14:57:27.713Z"
   },
   {
    "duration": 16,
    "start_time": "2022-10-25T14:57:34.517Z"
   },
   {
    "duration": 51,
    "start_time": "2022-10-25T15:05:32.342Z"
   },
   {
    "duration": 513,
    "start_time": "2022-10-25T15:05:46.401Z"
   },
   {
    "duration": 7,
    "start_time": "2022-10-25T15:06:03.521Z"
   },
   {
    "duration": 6,
    "start_time": "2022-10-25T15:06:13.971Z"
   },
   {
    "duration": 8,
    "start_time": "2022-10-25T15:06:33.404Z"
   },
   {
    "duration": 25,
    "start_time": "2022-10-25T15:07:02.629Z"
   },
   {
    "duration": 19,
    "start_time": "2022-10-25T15:07:09.305Z"
   },
   {
    "duration": 4,
    "start_time": "2022-10-25T15:08:52.159Z"
   },
   {
    "duration": 16,
    "start_time": "2022-10-25T15:08:55.836Z"
   },
   {
    "duration": 20,
    "start_time": "2022-10-25T16:04:15.462Z"
   },
   {
    "duration": 27,
    "start_time": "2022-10-25T16:04:24.482Z"
   },
   {
    "duration": 353,
    "start_time": "2022-10-25T16:04:57.173Z"
   },
   {
    "duration": 477,
    "start_time": "2022-10-25T16:06:19.062Z"
   },
   {
    "duration": 18,
    "start_time": "2022-10-25T16:06:27.649Z"
   },
   {
    "duration": 6,
    "start_time": "2022-10-25T16:06:46.286Z"
   },
   {
    "duration": 5,
    "start_time": "2022-10-25T16:08:59.962Z"
   },
   {
    "duration": 27,
    "start_time": "2022-10-25T16:11:50.860Z"
   },
   {
    "duration": 8,
    "start_time": "2022-10-25T16:13:15.661Z"
   },
   {
    "duration": 8,
    "start_time": "2022-10-25T16:13:37.049Z"
   },
   {
    "duration": 8,
    "start_time": "2022-10-25T16:13:45.743Z"
   },
   {
    "duration": 2,
    "start_time": "2022-10-25T16:14:51.894Z"
   },
   {
    "duration": 5374,
    "start_time": "2022-10-25T16:14:54.015Z"
   },
   {
    "duration": 5,
    "start_time": "2022-10-25T16:15:24.148Z"
   },
   {
    "duration": 5539,
    "start_time": "2022-10-25T16:15:59.403Z"
   },
   {
    "duration": 5,
    "start_time": "2022-10-25T16:16:09.064Z"
   },
   {
    "duration": 5486,
    "start_time": "2022-10-25T16:17:20.557Z"
   },
   {
    "duration": 5,
    "start_time": "2022-10-25T16:17:33.357Z"
   },
   {
    "duration": 11,
    "start_time": "2022-10-25T16:18:02.556Z"
   },
   {
    "duration": 544,
    "start_time": "2022-10-25T16:19:31.287Z"
   },
   {
    "duration": 30,
    "start_time": "2022-10-25T16:19:31.833Z"
   },
   {
    "duration": 9,
    "start_time": "2022-10-25T16:19:31.866Z"
   },
   {
    "duration": 3,
    "start_time": "2022-10-25T16:19:31.878Z"
   },
   {
    "duration": 33,
    "start_time": "2022-10-25T16:19:31.882Z"
   },
   {
    "duration": 8,
    "start_time": "2022-10-25T16:19:31.917Z"
   },
   {
    "duration": 8,
    "start_time": "2022-10-25T16:19:31.928Z"
   },
   {
    "duration": 26,
    "start_time": "2022-10-25T16:19:31.937Z"
   },
   {
    "duration": 11,
    "start_time": "2022-10-25T16:19:31.965Z"
   },
   {
    "duration": 30,
    "start_time": "2022-10-25T16:19:31.980Z"
   },
   {
    "duration": 8,
    "start_time": "2022-10-25T16:19:32.012Z"
   },
   {
    "duration": 26,
    "start_time": "2022-10-25T16:19:32.022Z"
   },
   {
    "duration": 11,
    "start_time": "2022-10-25T16:19:32.050Z"
   },
   {
    "duration": 21,
    "start_time": "2022-10-25T16:19:32.062Z"
   },
   {
    "duration": 15,
    "start_time": "2022-10-25T16:19:32.085Z"
   },
   {
    "duration": 15,
    "start_time": "2022-10-25T16:19:32.102Z"
   },
   {
    "duration": 6,
    "start_time": "2022-10-25T16:19:32.118Z"
   },
   {
    "duration": 11,
    "start_time": "2022-10-25T16:19:32.125Z"
   },
   {
    "duration": 8,
    "start_time": "2022-10-25T16:19:32.137Z"
   },
   {
    "duration": 11,
    "start_time": "2022-10-25T16:19:32.146Z"
   },
   {
    "duration": 27,
    "start_time": "2022-10-25T16:19:32.158Z"
   },
   {
    "duration": 3,
    "start_time": "2022-10-25T16:19:32.186Z"
   },
   {
    "duration": 5525,
    "start_time": "2022-10-25T16:19:32.191Z"
   },
   {
    "duration": 8,
    "start_time": "2022-10-25T16:19:37.718Z"
   },
   {
    "duration": 3,
    "start_time": "2022-10-25T16:22:57.710Z"
   },
   {
    "duration": 1713,
    "start_time": "2022-10-25T16:22:59.837Z"
   },
   {
    "duration": 8,
    "start_time": "2022-10-25T16:23:14.941Z"
   },
   {
    "duration": 479,
    "start_time": "2022-10-25T16:23:51.435Z"
   },
   {
    "duration": 28,
    "start_time": "2022-10-25T16:23:51.916Z"
   },
   {
    "duration": 8,
    "start_time": "2022-10-25T16:23:51.945Z"
   },
   {
    "duration": 3,
    "start_time": "2022-10-25T16:23:51.954Z"
   },
   {
    "duration": 7,
    "start_time": "2022-10-25T16:23:51.959Z"
   },
   {
    "duration": 6,
    "start_time": "2022-10-25T16:23:51.967Z"
   },
   {
    "duration": 37,
    "start_time": "2022-10-25T16:23:51.974Z"
   },
   {
    "duration": 11,
    "start_time": "2022-10-25T16:23:52.013Z"
   },
   {
    "duration": 11,
    "start_time": "2022-10-25T16:23:52.026Z"
   },
   {
    "duration": 7,
    "start_time": "2022-10-25T16:23:52.038Z"
   },
   {
    "duration": 7,
    "start_time": "2022-10-25T16:23:52.047Z"
   },
   {
    "duration": 53,
    "start_time": "2022-10-25T16:23:52.056Z"
   },
   {
    "duration": 9,
    "start_time": "2022-10-25T16:23:52.110Z"
   },
   {
    "duration": 7,
    "start_time": "2022-10-25T16:23:52.122Z"
   },
   {
    "duration": 9,
    "start_time": "2022-10-25T16:23:52.130Z"
   },
   {
    "duration": 13,
    "start_time": "2022-10-25T16:23:52.141Z"
   },
   {
    "duration": 10,
    "start_time": "2022-10-25T16:23:52.156Z"
   },
   {
    "duration": 6,
    "start_time": "2022-10-25T16:23:52.168Z"
   },
   {
    "duration": 9,
    "start_time": "2022-10-25T16:23:52.208Z"
   },
   {
    "duration": 2,
    "start_time": "2022-10-25T16:23:52.219Z"
   },
   {
    "duration": 21,
    "start_time": "2022-10-25T16:23:52.223Z"
   },
   {
    "duration": 2,
    "start_time": "2022-10-25T16:23:52.246Z"
   },
   {
    "duration": 5515,
    "start_time": "2022-10-25T16:23:52.250Z"
   },
   {
    "duration": 7,
    "start_time": "2022-10-25T16:23:57.766Z"
   },
   {
    "duration": 25,
    "start_time": "2022-10-25T16:23:57.775Z"
   },
   {
    "duration": 20,
    "start_time": "2022-10-25T16:24:01.257Z"
   },
   {
    "duration": 5,
    "start_time": "2022-10-25T16:24:32.702Z"
   },
   {
    "duration": 6,
    "start_time": "2022-10-25T16:24:42.140Z"
   },
   {
    "duration": 3,
    "start_time": "2022-10-25T16:24:52.249Z"
   },
   {
    "duration": 1651,
    "start_time": "2022-10-25T16:24:54.071Z"
   },
   {
    "duration": 5,
    "start_time": "2022-10-25T16:24:58.257Z"
   },
   {
    "duration": 3,
    "start_time": "2022-10-25T16:25:28.533Z"
   },
   {
    "duration": 498,
    "start_time": "2022-10-25T16:25:38.218Z"
   },
   {
    "duration": 29,
    "start_time": "2022-10-25T16:25:38.718Z"
   },
   {
    "duration": 8,
    "start_time": "2022-10-25T16:25:38.748Z"
   },
   {
    "duration": 5,
    "start_time": "2022-10-25T16:25:38.757Z"
   },
   {
    "duration": 14,
    "start_time": "2022-10-25T16:25:38.764Z"
   },
   {
    "duration": 16,
    "start_time": "2022-10-25T16:25:38.780Z"
   },
   {
    "duration": 17,
    "start_time": "2022-10-25T16:25:38.798Z"
   },
   {
    "duration": 15,
    "start_time": "2022-10-25T16:25:38.817Z"
   },
   {
    "duration": 9,
    "start_time": "2022-10-25T16:25:38.834Z"
   },
   {
    "duration": 9,
    "start_time": "2022-10-25T16:25:38.847Z"
   },
   {
    "duration": 8,
    "start_time": "2022-10-25T16:25:38.857Z"
   },
   {
    "duration": 46,
    "start_time": "2022-10-25T16:25:38.867Z"
   },
   {
    "duration": 10,
    "start_time": "2022-10-25T16:25:38.914Z"
   },
   {
    "duration": 7,
    "start_time": "2022-10-25T16:25:38.926Z"
   },
   {
    "duration": 7,
    "start_time": "2022-10-25T16:25:38.935Z"
   },
   {
    "duration": 6,
    "start_time": "2022-10-25T16:25:38.944Z"
   },
   {
    "duration": 7,
    "start_time": "2022-10-25T16:25:38.951Z"
   },
   {
    "duration": 51,
    "start_time": "2022-10-25T16:25:38.959Z"
   },
   {
    "duration": 9,
    "start_time": "2022-10-25T16:25:39.011Z"
   },
   {
    "duration": 4,
    "start_time": "2022-10-25T16:25:39.021Z"
   },
   {
    "duration": 23,
    "start_time": "2022-10-25T16:25:39.026Z"
   },
   {
    "duration": 3,
    "start_time": "2022-10-25T16:25:39.051Z"
   },
   {
    "duration": 5551,
    "start_time": "2022-10-25T16:25:39.055Z"
   },
   {
    "duration": 8,
    "start_time": "2022-10-25T16:25:44.608Z"
   },
   {
    "duration": 6,
    "start_time": "2022-10-25T16:25:44.618Z"
   },
   {
    "duration": 1677,
    "start_time": "2022-10-25T16:25:44.626Z"
   },
   {
    "duration": 5,
    "start_time": "2022-10-25T16:25:48.055Z"
   },
   {
    "duration": 472,
    "start_time": "2022-10-25T16:25:56.938Z"
   },
   {
    "duration": 28,
    "start_time": "2022-10-25T16:25:57.412Z"
   },
   {
    "duration": 9,
    "start_time": "2022-10-25T16:25:57.441Z"
   },
   {
    "duration": 5,
    "start_time": "2022-10-25T16:25:57.451Z"
   },
   {
    "duration": 9,
    "start_time": "2022-10-25T16:25:57.457Z"
   },
   {
    "duration": 7,
    "start_time": "2022-10-25T16:25:57.468Z"
   },
   {
    "duration": 35,
    "start_time": "2022-10-25T16:25:57.476Z"
   },
   {
    "duration": 11,
    "start_time": "2022-10-25T16:25:57.512Z"
   },
   {
    "duration": 8,
    "start_time": "2022-10-25T16:25:57.525Z"
   },
   {
    "duration": 6,
    "start_time": "2022-10-25T16:25:57.535Z"
   },
   {
    "duration": 6,
    "start_time": "2022-10-25T16:25:57.542Z"
   },
   {
    "duration": 16,
    "start_time": "2022-10-25T16:25:57.549Z"
   },
   {
    "duration": 44,
    "start_time": "2022-10-25T16:25:57.566Z"
   },
   {
    "duration": 6,
    "start_time": "2022-10-25T16:25:57.611Z"
   },
   {
    "duration": 15,
    "start_time": "2022-10-25T16:25:57.618Z"
   },
   {
    "duration": 7,
    "start_time": "2022-10-25T16:25:57.634Z"
   },
   {
    "duration": 7,
    "start_time": "2022-10-25T16:25:57.642Z"
   },
   {
    "duration": 7,
    "start_time": "2022-10-25T16:25:57.650Z"
   },
   {
    "duration": 9,
    "start_time": "2022-10-25T16:25:57.659Z"
   },
   {
    "duration": 3,
    "start_time": "2022-10-25T16:25:57.669Z"
   },
   {
    "duration": 51,
    "start_time": "2022-10-25T16:25:57.674Z"
   },
   {
    "duration": 2,
    "start_time": "2022-10-25T16:25:57.727Z"
   },
   {
    "duration": 5517,
    "start_time": "2022-10-25T16:25:57.730Z"
   },
   {
    "duration": 8,
    "start_time": "2022-10-25T16:26:03.249Z"
   },
   {
    "duration": 7,
    "start_time": "2022-10-25T16:26:03.258Z"
   },
   {
    "duration": 5,
    "start_time": "2022-10-25T16:26:08.494Z"
   },
   {
    "duration": 3,
    "start_time": "2022-10-25T16:26:15.950Z"
   },
   {
    "duration": 514,
    "start_time": "2022-10-25T16:26:28.902Z"
   },
   {
    "duration": 28,
    "start_time": "2022-10-25T16:26:29.418Z"
   },
   {
    "duration": 7,
    "start_time": "2022-10-25T16:26:29.448Z"
   },
   {
    "duration": 3,
    "start_time": "2022-10-25T16:26:29.457Z"
   },
   {
    "duration": 9,
    "start_time": "2022-10-25T16:26:29.461Z"
   },
   {
    "duration": 7,
    "start_time": "2022-10-25T16:26:29.471Z"
   },
   {
    "duration": 30,
    "start_time": "2022-10-25T16:26:29.480Z"
   },
   {
    "duration": 10,
    "start_time": "2022-10-25T16:26:29.512Z"
   },
   {
    "duration": 6,
    "start_time": "2022-10-25T16:26:29.524Z"
   },
   {
    "duration": 5,
    "start_time": "2022-10-25T16:26:29.533Z"
   },
   {
    "duration": 7,
    "start_time": "2022-10-25T16:26:29.540Z"
   },
   {
    "duration": 15,
    "start_time": "2022-10-25T16:26:29.548Z"
   },
   {
    "duration": 6,
    "start_time": "2022-10-25T16:26:29.564Z"
   },
   {
    "duration": 41,
    "start_time": "2022-10-25T16:26:29.572Z"
   },
   {
    "duration": 7,
    "start_time": "2022-10-25T16:26:29.614Z"
   },
   {
    "duration": 12,
    "start_time": "2022-10-25T16:26:29.622Z"
   },
   {
    "duration": 5,
    "start_time": "2022-10-25T16:26:29.635Z"
   },
   {
    "duration": 6,
    "start_time": "2022-10-25T16:26:29.642Z"
   },
   {
    "duration": 8,
    "start_time": "2022-10-25T16:26:29.649Z"
   },
   {
    "duration": 4,
    "start_time": "2022-10-25T16:26:29.658Z"
   },
   {
    "duration": 52,
    "start_time": "2022-10-25T16:26:29.663Z"
   },
   {
    "duration": 3,
    "start_time": "2022-10-25T16:26:29.716Z"
   },
   {
    "duration": 5491,
    "start_time": "2022-10-25T16:26:29.720Z"
   },
   {
    "duration": 7,
    "start_time": "2022-10-25T16:26:35.213Z"
   },
   {
    "duration": 7,
    "start_time": "2022-10-25T16:26:35.222Z"
   },
   {
    "duration": 1646,
    "start_time": "2022-10-25T16:26:35.232Z"
   },
   {
    "duration": 5,
    "start_time": "2022-10-25T16:26:38.454Z"
   },
   {
    "duration": 6,
    "start_time": "2022-10-25T16:27:22.985Z"
   },
   {
    "duration": 459,
    "start_time": "2022-10-25T16:27:29.649Z"
   },
   {
    "duration": 28,
    "start_time": "2022-10-25T16:27:30.110Z"
   },
   {
    "duration": 8,
    "start_time": "2022-10-25T16:27:30.140Z"
   },
   {
    "duration": 21,
    "start_time": "2022-10-25T16:27:30.150Z"
   },
   {
    "duration": 36,
    "start_time": "2022-10-25T16:27:30.172Z"
   },
   {
    "duration": 23,
    "start_time": "2022-10-25T16:27:30.210Z"
   },
   {
    "duration": 37,
    "start_time": "2022-10-25T16:27:30.235Z"
   },
   {
    "duration": 18,
    "start_time": "2022-10-25T16:27:30.273Z"
   },
   {
    "duration": 32,
    "start_time": "2022-10-25T16:27:30.293Z"
   },
   {
    "duration": 23,
    "start_time": "2022-10-25T16:27:30.329Z"
   },
   {
    "duration": 18,
    "start_time": "2022-10-25T16:27:30.354Z"
   },
   {
    "duration": 40,
    "start_time": "2022-10-25T16:27:30.373Z"
   },
   {
    "duration": 33,
    "start_time": "2022-10-25T16:27:30.415Z"
   },
   {
    "duration": 27,
    "start_time": "2022-10-25T16:27:30.450Z"
   },
   {
    "duration": 25,
    "start_time": "2022-10-25T16:27:30.479Z"
   },
   {
    "duration": 26,
    "start_time": "2022-10-25T16:27:30.506Z"
   },
   {
    "duration": 20,
    "start_time": "2022-10-25T16:27:30.533Z"
   },
   {
    "duration": 27,
    "start_time": "2022-10-25T16:27:30.554Z"
   },
   {
    "duration": 21,
    "start_time": "2022-10-25T16:27:30.582Z"
   },
   {
    "duration": 20,
    "start_time": "2022-10-25T16:27:30.605Z"
   },
   {
    "duration": 36,
    "start_time": "2022-10-25T16:27:30.627Z"
   },
   {
    "duration": 18,
    "start_time": "2022-10-25T16:27:30.664Z"
   },
   {
    "duration": 5544,
    "start_time": "2022-10-25T16:27:30.683Z"
   },
   {
    "duration": 8,
    "start_time": "2022-10-25T16:27:36.228Z"
   },
   {
    "duration": 4,
    "start_time": "2022-10-25T16:27:36.238Z"
   },
   {
    "duration": 6,
    "start_time": "2022-10-25T16:27:38.499Z"
   },
   {
    "duration": 4,
    "start_time": "2022-10-25T16:28:25.856Z"
   },
   {
    "duration": 1684,
    "start_time": "2022-10-25T16:28:29.017Z"
   },
   {
    "duration": 6,
    "start_time": "2022-10-25T16:28:38.181Z"
   },
   {
    "duration": 519,
    "start_time": "2022-10-25T16:29:51.390Z"
   },
   {
    "duration": 29,
    "start_time": "2022-10-25T16:29:51.911Z"
   },
   {
    "duration": 8,
    "start_time": "2022-10-25T16:29:51.942Z"
   },
   {
    "duration": 3,
    "start_time": "2022-10-25T16:29:51.952Z"
   },
   {
    "duration": 9,
    "start_time": "2022-10-25T16:29:51.957Z"
   },
   {
    "duration": 19,
    "start_time": "2022-10-25T16:29:51.967Z"
   },
   {
    "duration": 26,
    "start_time": "2022-10-25T16:29:51.987Z"
   },
   {
    "duration": 10,
    "start_time": "2022-10-25T16:29:52.015Z"
   },
   {
    "duration": 25,
    "start_time": "2022-10-25T16:29:52.027Z"
   },
   {
    "duration": 14,
    "start_time": "2022-10-25T16:29:52.054Z"
   },
   {
    "duration": 18,
    "start_time": "2022-10-25T16:29:52.070Z"
   },
   {
    "duration": 18,
    "start_time": "2022-10-25T16:29:52.090Z"
   },
   {
    "duration": 8,
    "start_time": "2022-10-25T16:29:52.110Z"
   },
   {
    "duration": 7,
    "start_time": "2022-10-25T16:29:52.122Z"
   },
   {
    "duration": 12,
    "start_time": "2022-10-25T16:29:52.131Z"
   },
   {
    "duration": 8,
    "start_time": "2022-10-25T16:29:52.145Z"
   },
   {
    "duration": 8,
    "start_time": "2022-10-25T16:29:52.155Z"
   },
   {
    "duration": 7,
    "start_time": "2022-10-25T16:29:52.165Z"
   },
   {
    "duration": 11,
    "start_time": "2022-10-25T16:29:52.208Z"
   },
   {
    "duration": 3,
    "start_time": "2022-10-25T16:29:52.221Z"
   },
   {
    "duration": 17,
    "start_time": "2022-10-25T16:29:52.226Z"
   },
   {
    "duration": 2,
    "start_time": "2022-10-25T16:29:52.245Z"
   },
   {
    "duration": 5549,
    "start_time": "2022-10-25T16:29:52.249Z"
   },
   {
    "duration": 9,
    "start_time": "2022-10-25T16:29:57.800Z"
   },
   {
    "duration": 6,
    "start_time": "2022-10-25T16:29:57.811Z"
   },
   {
    "duration": 6,
    "start_time": "2022-10-25T16:30:00.631Z"
   },
   {
    "duration": 1690,
    "start_time": "2022-10-25T16:30:04.800Z"
   },
   {
    "duration": 5,
    "start_time": "2022-10-25T16:30:09.008Z"
   },
   {
    "duration": 8,
    "start_time": "2022-10-25T16:30:16.476Z"
   },
   {
    "duration": 16,
    "start_time": "2022-10-25T16:34:00.963Z"
   },
   {
    "duration": 4,
    "start_time": "2022-10-25T16:35:03.947Z"
   },
   {
    "duration": 11,
    "start_time": "2022-10-25T16:35:17.569Z"
   },
   {
    "duration": 46,
    "start_time": "2022-10-25T16:35:59.818Z"
   },
   {
    "duration": 19,
    "start_time": "2022-10-25T16:36:03.112Z"
   },
   {
    "duration": 5,
    "start_time": "2022-10-25T16:44:31.975Z"
   },
   {
    "duration": 5,
    "start_time": "2022-10-25T16:44:49.141Z"
   },
   {
    "duration": 4430,
    "start_time": "2022-10-25T16:45:18.793Z"
   },
   {
    "duration": 6,
    "start_time": "2022-10-25T16:45:26.446Z"
   },
   {
    "duration": 5,
    "start_time": "2022-10-25T16:45:35.270Z"
   },
   {
    "duration": 23,
    "start_time": "2022-10-25T16:47:01.733Z"
   },
   {
    "duration": 29,
    "start_time": "2022-10-25T17:02:26.158Z"
   },
   {
    "duration": 15,
    "start_time": "2022-10-25T17:02:32.763Z"
   },
   {
    "duration": 3,
    "start_time": "2022-10-25T17:11:51.063Z"
   },
   {
    "duration": 6,
    "start_time": "2022-10-25T17:12:16.656Z"
   },
   {
    "duration": 736,
    "start_time": "2022-10-26T09:19:03.893Z"
   },
   {
    "duration": 3,
    "start_time": "2022-10-26T09:19:19.469Z"
   },
   {
    "duration": 105,
    "start_time": "2022-10-26T09:19:25.649Z"
   },
   {
    "duration": 360,
    "start_time": "2022-10-26T09:19:29.995Z"
   },
   {
    "duration": 98,
    "start_time": "2022-10-26T09:19:31.884Z"
   },
   {
    "duration": 29,
    "start_time": "2022-10-26T09:19:35.545Z"
   },
   {
    "duration": 9,
    "start_time": "2022-10-26T09:19:40.307Z"
   },
   {
    "duration": 3,
    "start_time": "2022-10-26T09:20:18.141Z"
   },
   {
    "duration": 7,
    "start_time": "2022-10-26T09:20:20.043Z"
   },
   {
    "duration": 6,
    "start_time": "2022-10-26T09:20:23.452Z"
   },
   {
    "duration": 8,
    "start_time": "2022-10-26T09:20:29.277Z"
   },
   {
    "duration": 11,
    "start_time": "2022-10-26T09:20:36.385Z"
   },
   {
    "duration": 8,
    "start_time": "2022-10-26T09:20:43.089Z"
   },
   {
    "duration": 6,
    "start_time": "2022-10-26T09:20:56.594Z"
   },
   {
    "duration": 7,
    "start_time": "2022-10-26T09:21:03.548Z"
   },
   {
    "duration": 12,
    "start_time": "2022-10-26T09:21:08.636Z"
   },
   {
    "duration": 7,
    "start_time": "2022-10-26T09:21:11.011Z"
   },
   {
    "duration": 7,
    "start_time": "2022-10-26T09:21:15.384Z"
   },
   {
    "duration": 7,
    "start_time": "2022-10-26T09:21:27.008Z"
   },
   {
    "duration": 8,
    "start_time": "2022-10-26T09:21:32.443Z"
   },
   {
    "duration": 8,
    "start_time": "2022-10-26T09:21:36.149Z"
   },
   {
    "duration": 30,
    "start_time": "2022-10-26T09:23:51.205Z"
   },
   {
    "duration": 3,
    "start_time": "2022-10-26T09:24:01.541Z"
   },
   {
    "duration": 19,
    "start_time": "2022-10-26T09:24:05.790Z"
   },
   {
    "duration": 3,
    "start_time": "2022-10-26T09:24:31.405Z"
   },
   {
    "duration": 5711,
    "start_time": "2022-10-26T09:24:33.735Z"
   },
   {
    "duration": 9,
    "start_time": "2022-10-26T09:24:41.934Z"
   },
   {
    "duration": 3,
    "start_time": "2022-10-26T09:25:06.798Z"
   },
   {
    "duration": 2049,
    "start_time": "2022-10-26T09:25:08.790Z"
   },
   {
    "duration": 9,
    "start_time": "2022-10-26T09:25:13.637Z"
   },
   {
    "duration": 16,
    "start_time": "2022-10-26T09:25:17.286Z"
   },
   {
    "duration": 4892,
    "start_time": "2022-10-26T09:25:32.549Z"
   },
   {
    "duration": 48,
    "start_time": "2022-10-26T09:26:04.537Z"
   },
   {
    "duration": 16,
    "start_time": "2022-10-26T09:26:09.303Z"
   },
   {
    "duration": 10,
    "start_time": "2022-10-26T09:26:16.573Z"
   },
   {
    "duration": 15,
    "start_time": "2022-10-26T09:26:28.896Z"
   },
   {
    "duration": 20,
    "start_time": "2022-10-26T09:27:42.234Z"
   },
   {
    "duration": 9,
    "start_time": "2022-10-26T09:28:07.734Z"
   },
   {
    "duration": 25,
    "start_time": "2022-10-26T09:28:34.741Z"
   },
   {
    "duration": 38,
    "start_time": "2022-10-26T09:31:31.269Z"
   },
   {
    "duration": 11,
    "start_time": "2022-10-26T09:31:55.264Z"
   },
   {
    "duration": 13,
    "start_time": "2022-10-26T09:32:07.492Z"
   },
   {
    "duration": 411,
    "start_time": "2022-10-26T09:35:19.091Z"
   },
   {
    "duration": 106,
    "start_time": "2022-10-26T09:35:19.503Z"
   },
   {
    "duration": 35,
    "start_time": "2022-10-26T09:35:19.611Z"
   },
   {
    "duration": 9,
    "start_time": "2022-10-26T09:35:19.648Z"
   },
   {
    "duration": 32,
    "start_time": "2022-10-26T09:35:19.658Z"
   },
   {
    "duration": 63,
    "start_time": "2022-10-26T09:35:19.692Z"
   },
   {
    "duration": 16,
    "start_time": "2022-10-26T09:35:19.756Z"
   },
   {
    "duration": 31,
    "start_time": "2022-10-26T09:35:19.774Z"
   },
   {
    "duration": 36,
    "start_time": "2022-10-26T09:35:19.806Z"
   },
   {
    "duration": 26,
    "start_time": "2022-10-26T09:35:19.844Z"
   },
   {
    "duration": 27,
    "start_time": "2022-10-26T09:35:19.871Z"
   },
   {
    "duration": 27,
    "start_time": "2022-10-26T09:35:19.899Z"
   },
   {
    "duration": 26,
    "start_time": "2022-10-26T09:35:19.927Z"
   },
   {
    "duration": 30,
    "start_time": "2022-10-26T09:35:19.955Z"
   },
   {
    "duration": 15,
    "start_time": "2022-10-26T09:35:19.987Z"
   },
   {
    "duration": 15,
    "start_time": "2022-10-26T09:35:20.004Z"
   },
   {
    "duration": 36,
    "start_time": "2022-10-26T09:35:20.021Z"
   },
   {
    "duration": 22,
    "start_time": "2022-10-26T09:35:20.058Z"
   },
   {
    "duration": 15,
    "start_time": "2022-10-26T09:35:20.082Z"
   },
   {
    "duration": 27,
    "start_time": "2022-10-26T09:35:20.098Z"
   },
   {
    "duration": 23,
    "start_time": "2022-10-26T09:35:20.132Z"
   },
   {
    "duration": 29,
    "start_time": "2022-10-26T09:35:20.156Z"
   },
   {
    "duration": 9,
    "start_time": "2022-10-26T09:35:20.186Z"
   },
   {
    "duration": 5687,
    "start_time": "2022-10-26T09:35:20.196Z"
   },
   {
    "duration": 7,
    "start_time": "2022-10-26T09:35:25.885Z"
   },
   {
    "duration": 7,
    "start_time": "2022-10-26T09:35:25.893Z"
   },
   {
    "duration": 1987,
    "start_time": "2022-10-26T09:35:25.901Z"
   },
   {
    "duration": 7,
    "start_time": "2022-10-26T09:35:27.891Z"
   },
   {
    "duration": 28,
    "start_time": "2022-10-26T09:35:27.899Z"
   },
   {
    "duration": 5020,
    "start_time": "2022-10-26T09:35:27.928Z"
   },
   {
    "duration": 370,
    "start_time": "2022-10-26T09:36:27.866Z"
   },
   {
    "duration": 110,
    "start_time": "2022-10-26T09:36:28.238Z"
   },
   {
    "duration": 29,
    "start_time": "2022-10-26T09:36:28.349Z"
   },
   {
    "duration": 8,
    "start_time": "2022-10-26T09:36:28.380Z"
   },
   {
    "duration": 14,
    "start_time": "2022-10-26T09:36:28.390Z"
   },
   {
    "duration": 41,
    "start_time": "2022-10-26T09:36:28.405Z"
   },
   {
    "duration": 13,
    "start_time": "2022-10-26T09:36:28.448Z"
   },
   {
    "duration": 13,
    "start_time": "2022-10-26T09:36:28.463Z"
   },
   {
    "duration": 22,
    "start_time": "2022-10-26T09:36:28.477Z"
   },
   {
    "duration": 14,
    "start_time": "2022-10-26T09:36:28.502Z"
   },
   {
    "duration": 26,
    "start_time": "2022-10-26T09:36:28.517Z"
   },
   {
    "duration": 23,
    "start_time": "2022-10-26T09:36:28.545Z"
   },
   {
    "duration": 27,
    "start_time": "2022-10-26T09:36:28.570Z"
   },
   {
    "duration": 16,
    "start_time": "2022-10-26T09:36:28.600Z"
   },
   {
    "duration": 32,
    "start_time": "2022-10-26T09:36:28.618Z"
   },
   {
    "duration": 15,
    "start_time": "2022-10-26T09:36:28.651Z"
   },
   {
    "duration": 13,
    "start_time": "2022-10-26T09:36:28.668Z"
   },
   {
    "duration": 17,
    "start_time": "2022-10-26T09:36:28.683Z"
   },
   {
    "duration": 17,
    "start_time": "2022-10-26T09:36:28.702Z"
   },
   {
    "duration": 31,
    "start_time": "2022-10-26T09:36:28.721Z"
   },
   {
    "duration": 12,
    "start_time": "2022-10-26T09:36:28.754Z"
   },
   {
    "duration": 32,
    "start_time": "2022-10-26T09:36:28.768Z"
   },
   {
    "duration": 5,
    "start_time": "2022-10-26T09:36:28.802Z"
   },
   {
    "duration": 5796,
    "start_time": "2022-10-26T09:36:28.809Z"
   },
   {
    "duration": 7,
    "start_time": "2022-10-26T09:36:34.607Z"
   },
   {
    "duration": 15,
    "start_time": "2022-10-26T09:36:34.626Z"
   },
   {
    "duration": 2041,
    "start_time": "2022-10-26T09:36:34.643Z"
   },
   {
    "duration": 8,
    "start_time": "2022-10-26T09:36:36.687Z"
   },
   {
    "duration": 42,
    "start_time": "2022-10-26T09:36:36.696Z"
   },
   {
    "duration": 4872,
    "start_time": "2022-10-26T09:36:36.740Z"
   },
   {
    "duration": 67,
    "start_time": "2022-10-26T09:37:47.441Z"
   },
   {
    "duration": 411,
    "start_time": "2022-10-26T09:37:55.136Z"
   },
   {
    "duration": 113,
    "start_time": "2022-10-26T09:37:55.549Z"
   },
   {
    "duration": 33,
    "start_time": "2022-10-26T09:37:55.664Z"
   },
   {
    "duration": 44,
    "start_time": "2022-10-26T09:37:55.699Z"
   },
   {
    "duration": 51,
    "start_time": "2022-10-26T09:37:55.746Z"
   },
   {
    "duration": 30,
    "start_time": "2022-10-26T09:37:55.799Z"
   },
   {
    "duration": 27,
    "start_time": "2022-10-26T09:37:55.831Z"
   },
   {
    "duration": 29,
    "start_time": "2022-10-26T09:37:55.860Z"
   },
   {
    "duration": 22,
    "start_time": "2022-10-26T09:37:55.891Z"
   },
   {
    "duration": 34,
    "start_time": "2022-10-26T09:37:55.914Z"
   },
   {
    "duration": 19,
    "start_time": "2022-10-26T09:37:55.950Z"
   },
   {
    "duration": 41,
    "start_time": "2022-10-26T09:37:55.970Z"
   },
   {
    "duration": 36,
    "start_time": "2022-10-26T09:37:56.013Z"
   },
   {
    "duration": 15,
    "start_time": "2022-10-26T09:37:56.052Z"
   },
   {
    "duration": 9,
    "start_time": "2022-10-26T09:37:56.068Z"
   },
   {
    "duration": 10,
    "start_time": "2022-10-26T09:37:56.079Z"
   },
   {
    "duration": 17,
    "start_time": "2022-10-26T09:37:56.090Z"
   },
   {
    "duration": 8,
    "start_time": "2022-10-26T09:37:56.109Z"
   },
   {
    "duration": 49,
    "start_time": "2022-10-26T09:37:56.119Z"
   },
   {
    "duration": 36,
    "start_time": "2022-10-26T09:37:56.170Z"
   },
   {
    "duration": 28,
    "start_time": "2022-10-26T09:37:56.208Z"
   },
   {
    "duration": 55,
    "start_time": "2022-10-26T09:37:56.237Z"
   },
   {
    "duration": 20,
    "start_time": "2022-10-26T09:37:56.293Z"
   },
   {
    "duration": 5881,
    "start_time": "2022-10-26T09:37:56.314Z"
   },
   {
    "duration": 7,
    "start_time": "2022-10-26T09:38:02.197Z"
   },
   {
    "duration": 13,
    "start_time": "2022-10-26T09:38:02.206Z"
   },
   {
    "duration": 2032,
    "start_time": "2022-10-26T09:38:02.220Z"
   },
   {
    "duration": 10,
    "start_time": "2022-10-26T09:38:04.254Z"
   },
   {
    "duration": 27,
    "start_time": "2022-10-26T09:38:04.265Z"
   },
   {
    "duration": 5010,
    "start_time": "2022-10-26T09:38:04.294Z"
   },
   {
    "duration": 422,
    "start_time": "2022-10-26T09:39:04.056Z"
   },
   {
    "duration": 105,
    "start_time": "2022-10-26T09:39:04.480Z"
   },
   {
    "duration": 50,
    "start_time": "2022-10-26T09:39:04.588Z"
   },
   {
    "duration": 11,
    "start_time": "2022-10-26T09:39:04.640Z"
   },
   {
    "duration": 4,
    "start_time": "2022-10-26T09:39:04.653Z"
   },
   {
    "duration": 11,
    "start_time": "2022-10-26T09:39:04.659Z"
   },
   {
    "duration": 9,
    "start_time": "2022-10-26T09:39:04.672Z"
   },
   {
    "duration": 9,
    "start_time": "2022-10-26T09:39:04.683Z"
   },
   {
    "duration": 37,
    "start_time": "2022-10-26T09:39:04.694Z"
   },
   {
    "duration": 10,
    "start_time": "2022-10-26T09:39:04.733Z"
   },
   {
    "duration": 13,
    "start_time": "2022-10-26T09:39:04.745Z"
   },
   {
    "duration": 8,
    "start_time": "2022-10-26T09:39:04.760Z"
   },
   {
    "duration": 12,
    "start_time": "2022-10-26T09:39:04.770Z"
   },
   {
    "duration": 10,
    "start_time": "2022-10-26T09:39:04.786Z"
   },
   {
    "duration": 35,
    "start_time": "2022-10-26T09:39:04.798Z"
   },
   {
    "duration": 16,
    "start_time": "2022-10-26T09:39:04.836Z"
   },
   {
    "duration": 12,
    "start_time": "2022-10-26T09:39:04.854Z"
   },
   {
    "duration": 8,
    "start_time": "2022-10-26T09:39:04.868Z"
   },
   {
    "duration": 9,
    "start_time": "2022-10-26T09:39:04.878Z"
   },
   {
    "duration": 39,
    "start_time": "2022-10-26T09:39:04.889Z"
   },
   {
    "duration": 5,
    "start_time": "2022-10-26T09:39:04.929Z"
   },
   {
    "duration": 23,
    "start_time": "2022-10-26T09:39:04.939Z"
   },
   {
    "duration": 3,
    "start_time": "2022-10-26T09:39:04.963Z"
   },
   {
    "duration": 5817,
    "start_time": "2022-10-26T09:39:04.967Z"
   },
   {
    "duration": 7,
    "start_time": "2022-10-26T09:39:10.786Z"
   },
   {
    "duration": 14,
    "start_time": "2022-10-26T09:39:10.795Z"
   },
   {
    "duration": 2059,
    "start_time": "2022-10-26T09:39:10.810Z"
   },
   {
    "duration": 7,
    "start_time": "2022-10-26T09:39:12.871Z"
   },
   {
    "duration": 22,
    "start_time": "2022-10-26T09:39:12.879Z"
   },
   {
    "duration": 4937,
    "start_time": "2022-10-26T09:39:12.902Z"
   },
   {
    "duration": 12,
    "start_time": "2022-10-26T09:40:05.282Z"
   },
   {
    "duration": 28,
    "start_time": "2022-10-26T09:41:32.931Z"
   },
   {
    "duration": 393,
    "start_time": "2022-10-26T09:41:54.238Z"
   },
   {
    "duration": 104,
    "start_time": "2022-10-26T09:41:54.637Z"
   },
   {
    "duration": 31,
    "start_time": "2022-10-26T09:41:54.742Z"
   },
   {
    "duration": 9,
    "start_time": "2022-10-26T09:41:54.775Z"
   },
   {
    "duration": 5,
    "start_time": "2022-10-26T09:41:54.786Z"
   },
   {
    "duration": 9,
    "start_time": "2022-10-26T09:41:54.793Z"
   },
   {
    "duration": 11,
    "start_time": "2022-10-26T09:41:54.824Z"
   },
   {
    "duration": 12,
    "start_time": "2022-10-26T09:41:54.837Z"
   },
   {
    "duration": 14,
    "start_time": "2022-10-26T09:41:54.850Z"
   },
   {
    "duration": 9,
    "start_time": "2022-10-26T09:41:54.865Z"
   },
   {
    "duration": 7,
    "start_time": "2022-10-26T09:41:54.875Z"
   },
   {
    "duration": 7,
    "start_time": "2022-10-26T09:41:54.884Z"
   },
   {
    "duration": 41,
    "start_time": "2022-10-26T09:41:54.892Z"
   },
   {
    "duration": 7,
    "start_time": "2022-10-26T09:41:54.938Z"
   },
   {
    "duration": 15,
    "start_time": "2022-10-26T09:41:54.946Z"
   },
   {
    "duration": 13,
    "start_time": "2022-10-26T09:41:54.963Z"
   },
   {
    "duration": 14,
    "start_time": "2022-10-26T09:41:54.977Z"
   },
   {
    "duration": 7,
    "start_time": "2022-10-26T09:41:54.993Z"
   },
   {
    "duration": 22,
    "start_time": "2022-10-26T09:41:55.001Z"
   },
   {
    "duration": 18,
    "start_time": "2022-10-26T09:41:55.024Z"
   },
   {
    "duration": 4,
    "start_time": "2022-10-26T09:41:55.043Z"
   },
   {
    "duration": 33,
    "start_time": "2022-10-26T09:41:55.048Z"
   },
   {
    "duration": 5,
    "start_time": "2022-10-26T09:41:55.083Z"
   },
   {
    "duration": 6472,
    "start_time": "2022-10-26T09:41:55.089Z"
   },
   {
    "duration": 8,
    "start_time": "2022-10-26T09:42:01.563Z"
   },
   {
    "duration": 7,
    "start_time": "2022-10-26T09:42:01.573Z"
   },
   {
    "duration": 2093,
    "start_time": "2022-10-26T09:42:01.582Z"
   },
   {
    "duration": 9,
    "start_time": "2022-10-26T09:42:03.677Z"
   },
   {
    "duration": 18,
    "start_time": "2022-10-26T09:42:03.687Z"
   },
   {
    "duration": 23,
    "start_time": "2022-10-26T09:42:09.583Z"
   },
   {
    "duration": 22,
    "start_time": "2022-10-26T09:44:42.266Z"
   },
   {
    "duration": 21,
    "start_time": "2022-10-26T09:47:58.057Z"
   },
   {
    "duration": 389,
    "start_time": "2022-10-26T09:51:43.833Z"
   },
   {
    "duration": 112,
    "start_time": "2022-10-26T09:51:44.224Z"
   },
   {
    "duration": 29,
    "start_time": "2022-10-26T09:51:44.338Z"
   },
   {
    "duration": 8,
    "start_time": "2022-10-26T09:51:44.368Z"
   },
   {
    "duration": 3,
    "start_time": "2022-10-26T09:51:44.378Z"
   },
   {
    "duration": 9,
    "start_time": "2022-10-26T09:51:44.382Z"
   },
   {
    "duration": 11,
    "start_time": "2022-10-26T09:51:44.393Z"
   },
   {
    "duration": 12,
    "start_time": "2022-10-26T09:51:44.425Z"
   },
   {
    "duration": 17,
    "start_time": "2022-10-26T09:51:44.439Z"
   },
   {
    "duration": 7,
    "start_time": "2022-10-26T09:51:44.458Z"
   },
   {
    "duration": 9,
    "start_time": "2022-10-26T09:51:44.467Z"
   },
   {
    "duration": 19,
    "start_time": "2022-10-26T09:51:44.478Z"
   },
   {
    "duration": 29,
    "start_time": "2022-10-26T09:51:44.498Z"
   },
   {
    "duration": 14,
    "start_time": "2022-10-26T09:51:44.530Z"
   },
   {
    "duration": 7,
    "start_time": "2022-10-26T09:51:44.545Z"
   },
   {
    "duration": 7,
    "start_time": "2022-10-26T09:51:44.554Z"
   },
   {
    "duration": 7,
    "start_time": "2022-10-26T09:51:44.563Z"
   },
   {
    "duration": 9,
    "start_time": "2022-10-26T09:51:44.571Z"
   },
   {
    "duration": 6,
    "start_time": "2022-10-26T09:51:44.582Z"
   },
   {
    "duration": 41,
    "start_time": "2022-10-26T09:51:44.590Z"
   },
   {
    "duration": 4,
    "start_time": "2022-10-26T09:51:44.633Z"
   },
   {
    "duration": 21,
    "start_time": "2022-10-26T09:51:44.638Z"
   },
   {
    "duration": 2,
    "start_time": "2022-10-26T09:51:44.661Z"
   },
   {
    "duration": 5753,
    "start_time": "2022-10-26T09:51:44.665Z"
   },
   {
    "duration": 10,
    "start_time": "2022-10-26T09:51:50.420Z"
   },
   {
    "duration": 14,
    "start_time": "2022-10-26T09:51:50.431Z"
   },
   {
    "duration": 1940,
    "start_time": "2022-10-26T09:51:50.446Z"
   },
   {
    "duration": 7,
    "start_time": "2022-10-26T09:51:52.388Z"
   },
   {
    "duration": 41,
    "start_time": "2022-10-26T09:51:52.396Z"
   },
   {
    "duration": 1311,
    "start_time": "2022-10-26T09:51:52.438Z"
   },
   {
    "duration": 11,
    "start_time": "2022-10-26T09:51:59.403Z"
   },
   {
    "duration": 29,
    "start_time": "2022-10-26T09:52:32.038Z"
   },
   {
    "duration": 21,
    "start_time": "2022-10-26T09:53:11.953Z"
   },
   {
    "duration": 356,
    "start_time": "2022-10-26T09:58:47.767Z"
   },
   {
    "duration": 106,
    "start_time": "2022-10-26T09:58:48.127Z"
   },
   {
    "duration": 35,
    "start_time": "2022-10-26T09:58:48.234Z"
   },
   {
    "duration": 8,
    "start_time": "2022-10-26T09:58:48.271Z"
   },
   {
    "duration": 16,
    "start_time": "2022-10-26T09:58:48.281Z"
   },
   {
    "duration": 36,
    "start_time": "2022-10-26T09:58:48.298Z"
   },
   {
    "duration": 28,
    "start_time": "2022-10-26T09:58:48.336Z"
   },
   {
    "duration": 10,
    "start_time": "2022-10-26T09:58:48.365Z"
   },
   {
    "duration": 19,
    "start_time": "2022-10-26T09:58:48.377Z"
   },
   {
    "duration": 10,
    "start_time": "2022-10-26T09:58:48.399Z"
   },
   {
    "duration": 6,
    "start_time": "2022-10-26T09:58:48.411Z"
   },
   {
    "duration": 27,
    "start_time": "2022-10-26T09:58:48.418Z"
   },
   {
    "duration": 19,
    "start_time": "2022-10-26T09:58:48.446Z"
   },
   {
    "duration": 17,
    "start_time": "2022-10-26T09:58:48.466Z"
   },
   {
    "duration": 25,
    "start_time": "2022-10-26T09:58:48.485Z"
   },
   {
    "duration": 25,
    "start_time": "2022-10-26T09:58:48.511Z"
   },
   {
    "duration": 11,
    "start_time": "2022-10-26T09:58:48.540Z"
   },
   {
    "duration": 23,
    "start_time": "2022-10-26T09:58:48.553Z"
   },
   {
    "duration": 15,
    "start_time": "2022-10-26T09:58:48.577Z"
   },
   {
    "duration": 19,
    "start_time": "2022-10-26T09:58:48.594Z"
   },
   {
    "duration": 20,
    "start_time": "2022-10-26T09:58:48.614Z"
   },
   {
    "duration": 19,
    "start_time": "2022-10-26T09:58:48.639Z"
   },
   {
    "duration": 3,
    "start_time": "2022-10-26T09:58:48.660Z"
   },
   {
    "duration": 5742,
    "start_time": "2022-10-26T09:58:48.665Z"
   },
   {
    "duration": 14,
    "start_time": "2022-10-26T09:58:54.408Z"
   },
   {
    "duration": 4,
    "start_time": "2022-10-26T09:58:54.426Z"
   },
   {
    "duration": 1974,
    "start_time": "2022-10-26T09:58:54.432Z"
   },
   {
    "duration": 7,
    "start_time": "2022-10-26T09:58:56.408Z"
   },
   {
    "duration": 23,
    "start_time": "2022-10-26T09:58:56.422Z"
   },
   {
    "duration": 1320,
    "start_time": "2022-10-26T09:58:56.447Z"
   },
   {
    "duration": 12,
    "start_time": "2022-10-26T09:58:57.768Z"
   },
   {
    "duration": 3,
    "start_time": "2022-10-26T10:00:32.080Z"
   },
   {
    "duration": 6,
    "start_time": "2022-10-26T10:00:34.576Z"
   },
   {
    "duration": 22,
    "start_time": "2022-10-26T10:02:15.035Z"
   },
   {
    "duration": 5,
    "start_time": "2022-10-26T10:03:32.242Z"
   },
   {
    "duration": 7,
    "start_time": "2022-10-26T10:03:36.437Z"
   },
   {
    "duration": 465,
    "start_time": "2022-10-26T10:03:43.858Z"
   },
   {
    "duration": 139,
    "start_time": "2022-10-26T10:03:44.331Z"
   },
   {
    "duration": 34,
    "start_time": "2022-10-26T10:03:44.472Z"
   },
   {
    "duration": 35,
    "start_time": "2022-10-26T10:03:44.508Z"
   },
   {
    "duration": 17,
    "start_time": "2022-10-26T10:03:44.546Z"
   },
   {
    "duration": 24,
    "start_time": "2022-10-26T10:03:44.565Z"
   },
   {
    "duration": 25,
    "start_time": "2022-10-26T10:03:44.591Z"
   },
   {
    "duration": 15,
    "start_time": "2022-10-26T10:03:44.617Z"
   },
   {
    "duration": 37,
    "start_time": "2022-10-26T10:03:44.634Z"
   },
   {
    "duration": 10,
    "start_time": "2022-10-26T10:03:44.673Z"
   },
   {
    "duration": 7,
    "start_time": "2022-10-26T10:03:44.685Z"
   },
   {
    "duration": 16,
    "start_time": "2022-10-26T10:03:44.694Z"
   },
   {
    "duration": 27,
    "start_time": "2022-10-26T10:03:44.712Z"
   },
   {
    "duration": 14,
    "start_time": "2022-10-26T10:03:44.747Z"
   },
   {
    "duration": 10,
    "start_time": "2022-10-26T10:03:44.763Z"
   },
   {
    "duration": 14,
    "start_time": "2022-10-26T10:03:44.776Z"
   },
   {
    "duration": 20,
    "start_time": "2022-10-26T10:03:44.793Z"
   },
   {
    "duration": 52,
    "start_time": "2022-10-26T10:03:44.815Z"
   },
   {
    "duration": 38,
    "start_time": "2022-10-26T10:03:44.872Z"
   },
   {
    "duration": 15,
    "start_time": "2022-10-26T10:03:44.911Z"
   },
   {
    "duration": 28,
    "start_time": "2022-10-26T10:03:44.927Z"
   },
   {
    "duration": 46,
    "start_time": "2022-10-26T10:03:44.957Z"
   },
   {
    "duration": 3,
    "start_time": "2022-10-26T10:03:45.005Z"
   },
   {
    "duration": 6605,
    "start_time": "2022-10-26T10:03:45.010Z"
   },
   {
    "duration": 24,
    "start_time": "2022-10-26T10:03:51.616Z"
   },
   {
    "duration": 21,
    "start_time": "2022-10-26T10:03:51.641Z"
   },
   {
    "duration": 2135,
    "start_time": "2022-10-26T10:03:51.663Z"
   },
   {
    "duration": 9,
    "start_time": "2022-10-26T10:03:53.799Z"
   },
   {
    "duration": 45,
    "start_time": "2022-10-26T10:03:53.810Z"
   },
   {
    "duration": 1380,
    "start_time": "2022-10-26T10:03:53.857Z"
   },
   {
    "duration": 13,
    "start_time": "2022-10-26T10:03:55.238Z"
   },
   {
    "duration": 8,
    "start_time": "2022-10-26T10:03:55.253Z"
   },
   {
    "duration": 27,
    "start_time": "2022-10-26T10:03:55.263Z"
   },
   {
    "duration": 5,
    "start_time": "2022-10-26T10:04:09.569Z"
   },
   {
    "duration": 6,
    "start_time": "2022-10-26T10:04:12.254Z"
   },
   {
    "duration": 375,
    "start_time": "2022-10-26T10:04:44.776Z"
   },
   {
    "duration": 110,
    "start_time": "2022-10-26T10:04:45.153Z"
   },
   {
    "duration": 29,
    "start_time": "2022-10-26T10:04:45.265Z"
   },
   {
    "duration": 8,
    "start_time": "2022-10-26T10:04:45.295Z"
   },
   {
    "duration": 3,
    "start_time": "2022-10-26T10:04:45.325Z"
   },
   {
    "duration": 14,
    "start_time": "2022-10-26T10:04:45.333Z"
   },
   {
    "duration": 12,
    "start_time": "2022-10-26T10:04:45.348Z"
   },
   {
    "duration": 7,
    "start_time": "2022-10-26T10:04:45.361Z"
   },
   {
    "duration": 12,
    "start_time": "2022-10-26T10:04:45.369Z"
   },
   {
    "duration": 9,
    "start_time": "2022-10-26T10:04:45.383Z"
   },
   {
    "duration": 10,
    "start_time": "2022-10-26T10:04:45.394Z"
   },
   {
    "duration": 16,
    "start_time": "2022-10-26T10:04:45.422Z"
   },
   {
    "duration": 13,
    "start_time": "2022-10-26T10:04:45.440Z"
   },
   {
    "duration": 8,
    "start_time": "2022-10-26T10:04:45.456Z"
   },
   {
    "duration": 7,
    "start_time": "2022-10-26T10:04:45.466Z"
   },
   {
    "duration": 6,
    "start_time": "2022-10-26T10:04:45.475Z"
   },
   {
    "duration": 7,
    "start_time": "2022-10-26T10:04:45.483Z"
   },
   {
    "duration": 41,
    "start_time": "2022-10-26T10:04:45.491Z"
   },
   {
    "duration": 7,
    "start_time": "2022-10-26T10:04:45.537Z"
   },
   {
    "duration": 10,
    "start_time": "2022-10-26T10:04:45.545Z"
   },
   {
    "duration": 3,
    "start_time": "2022-10-26T10:04:45.556Z"
   },
   {
    "duration": 20,
    "start_time": "2022-10-26T10:04:45.560Z"
   },
   {
    "duration": 3,
    "start_time": "2022-10-26T10:04:45.581Z"
   },
   {
    "duration": 5867,
    "start_time": "2022-10-26T10:04:45.585Z"
   },
   {
    "duration": 7,
    "start_time": "2022-10-26T10:04:51.454Z"
   },
   {
    "duration": 7,
    "start_time": "2022-10-26T10:04:51.462Z"
   },
   {
    "duration": 2028,
    "start_time": "2022-10-26T10:04:51.470Z"
   },
   {
    "duration": 8,
    "start_time": "2022-10-26T10:04:53.500Z"
   },
   {
    "duration": 37,
    "start_time": "2022-10-26T10:04:53.509Z"
   },
   {
    "duration": 1311,
    "start_time": "2022-10-26T10:04:53.548Z"
   },
   {
    "duration": 12,
    "start_time": "2022-10-26T10:04:54.861Z"
   },
   {
    "duration": 15,
    "start_time": "2022-10-26T10:04:54.874Z"
   },
   {
    "duration": 19,
    "start_time": "2022-10-26T10:04:54.891Z"
   },
   {
    "duration": 30,
    "start_time": "2022-10-26T10:04:54.912Z"
   },
   {
    "duration": 6,
    "start_time": "2022-10-26T10:05:10.097Z"
   },
   {
    "duration": 13,
    "start_time": "2022-10-26T10:05:45.938Z"
   },
   {
    "duration": 9,
    "start_time": "2022-10-26T10:06:17.037Z"
   },
   {
    "duration": 6,
    "start_time": "2022-10-26T10:06:30.497Z"
   },
   {
    "duration": 12,
    "start_time": "2022-10-26T10:08:19.806Z"
   },
   {
    "duration": 20,
    "start_time": "2022-10-26T10:09:40.293Z"
   },
   {
    "duration": 8,
    "start_time": "2022-10-26T10:13:42.736Z"
   },
   {
    "duration": 16,
    "start_time": "2022-10-26T10:14:43.879Z"
   },
   {
    "duration": 7,
    "start_time": "2022-10-26T10:15:01.280Z"
   },
   {
    "duration": 7,
    "start_time": "2022-10-26T10:15:13.137Z"
   },
   {
    "duration": 8,
    "start_time": "2022-10-26T10:15:29.478Z"
   },
   {
    "duration": 7,
    "start_time": "2022-10-26T10:15:37.885Z"
   },
   {
    "duration": 7,
    "start_time": "2022-10-26T10:15:48.339Z"
   },
   {
    "duration": 9,
    "start_time": "2022-10-26T10:15:56.527Z"
   },
   {
    "duration": 7,
    "start_time": "2022-10-26T10:16:07.185Z"
   },
   {
    "duration": 9,
    "start_time": "2022-10-26T10:16:16.351Z"
   },
   {
    "duration": 7,
    "start_time": "2022-10-26T10:16:41.238Z"
   },
   {
    "duration": 6,
    "start_time": "2022-10-26T10:16:47.968Z"
   },
   {
    "duration": 5,
    "start_time": "2022-10-26T10:16:58.774Z"
   },
   {
    "duration": 6,
    "start_time": "2022-10-26T10:17:57.173Z"
   },
   {
    "duration": 8,
    "start_time": "2022-10-26T10:18:24.198Z"
   },
   {
    "duration": 6,
    "start_time": "2022-10-26T10:19:10.701Z"
   },
   {
    "duration": 8,
    "start_time": "2022-10-26T10:19:38.787Z"
   },
   {
    "duration": 7,
    "start_time": "2022-10-26T10:20:07.557Z"
   },
   {
    "duration": 7,
    "start_time": "2022-10-26T10:20:22.475Z"
   },
   {
    "duration": 6,
    "start_time": "2022-10-26T10:20:41.042Z"
   },
   {
    "duration": 6,
    "start_time": "2022-10-26T10:21:03.807Z"
   },
   {
    "duration": 7,
    "start_time": "2022-10-26T10:21:30.403Z"
   },
   {
    "duration": 8,
    "start_time": "2022-10-26T10:22:01.243Z"
   },
   {
    "duration": 11,
    "start_time": "2022-10-26T10:22:59.841Z"
   },
   {
    "duration": 10,
    "start_time": "2022-10-26T10:23:21.204Z"
   },
   {
    "duration": 11,
    "start_time": "2022-10-26T10:23:27.736Z"
   },
   {
    "duration": 7,
    "start_time": "2022-10-26T10:23:40.465Z"
   },
   {
    "duration": 4,
    "start_time": "2022-10-26T10:28:30.985Z"
   },
   {
    "duration": 25,
    "start_time": "2022-10-26T10:28:39.313Z"
   },
   {
    "duration": 14,
    "start_time": "2022-10-26T10:30:37.837Z"
   },
   {
    "duration": 16,
    "start_time": "2022-10-26T10:30:52.492Z"
   },
   {
    "duration": 25,
    "start_time": "2022-10-26T10:31:16.336Z"
   },
   {
    "duration": 3,
    "start_time": "2022-10-26T10:33:16.346Z"
   },
   {
    "duration": 6,
    "start_time": "2022-10-26T10:33:19.872Z"
   },
   {
    "duration": 32,
    "start_time": "2022-10-26T10:33:27.414Z"
   },
   {
    "duration": 289,
    "start_time": "2022-10-26T10:37:47.746Z"
   },
   {
    "duration": 18,
    "start_time": "2022-10-26T10:37:51.180Z"
   },
   {
    "duration": 22,
    "start_time": "2022-10-26T10:38:09.907Z"
   },
   {
    "duration": 6,
    "start_time": "2022-10-26T10:38:25.663Z"
   },
   {
    "duration": 92,
    "start_time": "2022-10-26T10:38:40.060Z"
   },
   {
    "duration": 5,
    "start_time": "2022-10-26T10:38:42.343Z"
   },
   {
    "duration": 78,
    "start_time": "2022-10-26T10:38:49.768Z"
   },
   {
    "duration": 9,
    "start_time": "2022-10-26T10:38:51.730Z"
   },
   {
    "duration": 16,
    "start_time": "2022-10-26T10:39:29.465Z"
   },
   {
    "duration": 14,
    "start_time": "2022-10-26T10:42:56.368Z"
   },
   {
    "duration": 11,
    "start_time": "2022-10-26T10:43:03.699Z"
   },
   {
    "duration": 53,
    "start_time": "2022-10-26T10:43:43.471Z"
   },
   {
    "duration": 7,
    "start_time": "2022-10-26T10:43:59.983Z"
   },
   {
    "duration": 9,
    "start_time": "2022-10-26T10:47:11.064Z"
   },
   {
    "duration": 6,
    "start_time": "2022-10-26T10:47:40.967Z"
   },
   {
    "duration": 91,
    "start_time": "2022-10-26T10:48:01.476Z"
   },
   {
    "duration": 7,
    "start_time": "2022-10-26T10:48:23.686Z"
   },
   {
    "duration": 12,
    "start_time": "2022-10-26T10:50:26.039Z"
   },
   {
    "duration": 79,
    "start_time": "2022-10-26T10:54:11.505Z"
   },
   {
    "duration": 5,
    "start_time": "2022-10-26T10:54:46.077Z"
   },
   {
    "duration": 8,
    "start_time": "2022-10-26T10:54:51.373Z"
   },
   {
    "duration": 7,
    "start_time": "2022-10-26T10:55:50.663Z"
   },
   {
    "duration": 7,
    "start_time": "2022-10-26T10:56:18.770Z"
   },
   {
    "duration": 5,
    "start_time": "2022-10-26T10:58:04.735Z"
   },
   {
    "duration": 55,
    "start_time": "2022-10-26T11:02:19.451Z"
   },
   {
    "duration": 13,
    "start_time": "2022-10-26T11:03:33.336Z"
   },
   {
    "duration": 47,
    "start_time": "2022-10-26T11:07:04.866Z"
   },
   {
    "duration": 7,
    "start_time": "2022-10-26T11:07:17.942Z"
   },
   {
    "duration": 16,
    "start_time": "2022-10-26T11:07:21.619Z"
   },
   {
    "duration": 41,
    "start_time": "2022-10-26T11:08:57.861Z"
   },
   {
    "duration": 51,
    "start_time": "2022-10-26T11:09:26.688Z"
   },
   {
    "duration": 10,
    "start_time": "2022-10-26T11:10:16.760Z"
   },
   {
    "duration": 35,
    "start_time": "2022-10-26T11:10:27.902Z"
   },
   {
    "duration": 17,
    "start_time": "2022-10-26T11:12:04.401Z"
   },
   {
    "duration": 31,
    "start_time": "2022-10-26T11:12:15.275Z"
   },
   {
    "duration": 20,
    "start_time": "2022-10-26T11:12:58.194Z"
   },
   {
    "duration": 29,
    "start_time": "2022-10-26T11:13:16.219Z"
   },
   {
    "duration": 19,
    "start_time": "2022-10-26T11:13:22.658Z"
   },
   {
    "duration": 40,
    "start_time": "2022-10-26T11:14:31.009Z"
   },
   {
    "duration": 371,
    "start_time": "2022-10-26T11:14:59.075Z"
   },
   {
    "duration": 103,
    "start_time": "2022-10-26T11:14:59.447Z"
   },
   {
    "duration": 28,
    "start_time": "2022-10-26T11:14:59.551Z"
   },
   {
    "duration": 8,
    "start_time": "2022-10-26T11:14:59.581Z"
   },
   {
    "duration": 10,
    "start_time": "2022-10-26T11:14:59.590Z"
   },
   {
    "duration": 29,
    "start_time": "2022-10-26T11:14:59.602Z"
   },
   {
    "duration": 17,
    "start_time": "2022-10-26T11:14:59.632Z"
   },
   {
    "duration": 16,
    "start_time": "2022-10-26T11:14:59.650Z"
   },
   {
    "duration": 18,
    "start_time": "2022-10-26T11:14:59.668Z"
   },
   {
    "duration": 10,
    "start_time": "2022-10-26T11:14:59.688Z"
   },
   {
    "duration": 32,
    "start_time": "2022-10-26T11:14:59.700Z"
   },
   {
    "duration": 16,
    "start_time": "2022-10-26T11:14:59.737Z"
   },
   {
    "duration": 12,
    "start_time": "2022-10-26T11:14:59.755Z"
   },
   {
    "duration": 14,
    "start_time": "2022-10-26T11:14:59.769Z"
   },
   {
    "duration": 7,
    "start_time": "2022-10-26T11:14:59.784Z"
   },
   {
    "duration": 19,
    "start_time": "2022-10-26T11:14:59.793Z"
   },
   {
    "duration": 17,
    "start_time": "2022-10-26T11:14:59.814Z"
   },
   {
    "duration": 16,
    "start_time": "2022-10-26T11:14:59.832Z"
   },
   {
    "duration": 8,
    "start_time": "2022-10-26T11:14:59.850Z"
   },
   {
    "duration": 8,
    "start_time": "2022-10-26T11:14:59.860Z"
   },
   {
    "duration": 6,
    "start_time": "2022-10-26T11:14:59.869Z"
   },
   {
    "duration": 25,
    "start_time": "2022-10-26T11:14:59.876Z"
   },
   {
    "duration": 3,
    "start_time": "2022-10-26T11:14:59.903Z"
   },
   {
    "duration": 6089,
    "start_time": "2022-10-26T11:14:59.907Z"
   },
   {
    "duration": 8,
    "start_time": "2022-10-26T11:15:05.997Z"
   },
   {
    "duration": 15,
    "start_time": "2022-10-26T11:15:06.006Z"
   },
   {
    "duration": 2065,
    "start_time": "2022-10-26T11:15:06.022Z"
   },
   {
    "duration": 7,
    "start_time": "2022-10-26T11:15:08.090Z"
   },
   {
    "duration": 36,
    "start_time": "2022-10-26T11:15:08.099Z"
   },
   {
    "duration": 1362,
    "start_time": "2022-10-26T11:15:08.137Z"
   },
   {
    "duration": 11,
    "start_time": "2022-10-26T11:15:09.500Z"
   },
   {
    "duration": 23,
    "start_time": "2022-10-26T11:15:09.513Z"
   },
   {
    "duration": 12,
    "start_time": "2022-10-26T11:15:09.538Z"
   },
   {
    "duration": 7,
    "start_time": "2022-10-26T11:15:09.552Z"
   },
   {
    "duration": 5,
    "start_time": "2022-10-26T11:15:09.561Z"
   },
   {
    "duration": 6,
    "start_time": "2022-10-26T11:15:09.568Z"
   },
   {
    "duration": 6,
    "start_time": "2022-10-26T11:15:09.575Z"
   },
   {
    "duration": 7,
    "start_time": "2022-10-26T11:15:09.582Z"
   },
   {
    "duration": 6,
    "start_time": "2022-10-26T11:15:09.590Z"
   },
   {
    "duration": 34,
    "start_time": "2022-10-26T11:15:09.597Z"
   },
   {
    "duration": 11,
    "start_time": "2022-10-26T11:15:09.634Z"
   },
   {
    "duration": 8,
    "start_time": "2022-10-26T11:15:09.647Z"
   },
   {
    "duration": 8,
    "start_time": "2022-10-26T11:15:09.657Z"
   },
   {
    "duration": 14,
    "start_time": "2022-10-26T11:15:09.666Z"
   },
   {
    "duration": 6,
    "start_time": "2022-10-26T11:15:09.682Z"
   },
   {
    "duration": 13,
    "start_time": "2022-10-26T11:15:09.689Z"
   },
   {
    "duration": 28,
    "start_time": "2022-10-26T11:15:09.703Z"
   },
   {
    "duration": 9,
    "start_time": "2022-10-26T11:15:09.733Z"
   },
   {
    "duration": 7,
    "start_time": "2022-10-26T11:15:09.743Z"
   },
   {
    "duration": 11,
    "start_time": "2022-10-26T11:15:09.751Z"
   },
   {
    "duration": 11,
    "start_time": "2022-10-26T11:15:09.764Z"
   },
   {
    "duration": 7,
    "start_time": "2022-10-26T11:15:09.776Z"
   },
   {
    "duration": 14,
    "start_time": "2022-10-26T11:15:09.785Z"
   },
   {
    "duration": 22,
    "start_time": "2022-10-26T11:15:09.801Z"
   },
   {
    "duration": 21,
    "start_time": "2022-10-26T11:15:09.828Z"
   },
   {
    "duration": 8,
    "start_time": "2022-10-26T11:15:09.850Z"
   },
   {
    "duration": 44,
    "start_time": "2022-10-26T11:15:15.262Z"
   },
   {
    "duration": 150,
    "start_time": "2022-10-26T11:17:20.719Z"
   },
   {
    "duration": 185,
    "start_time": "2022-10-26T11:17:40.119Z"
   },
   {
    "duration": 13,
    "start_time": "2022-10-26T11:21:45.122Z"
   },
   {
    "duration": 11,
    "start_time": "2022-10-26T11:21:56.832Z"
   },
   {
    "duration": 415,
    "start_time": "2022-10-26T11:22:13.213Z"
   },
   {
    "duration": 105,
    "start_time": "2022-10-26T11:22:13.633Z"
   },
   {
    "duration": 29,
    "start_time": "2022-10-26T11:22:13.740Z"
   },
   {
    "duration": 8,
    "start_time": "2022-10-26T11:22:13.772Z"
   },
   {
    "duration": 3,
    "start_time": "2022-10-26T11:22:13.781Z"
   },
   {
    "duration": 7,
    "start_time": "2022-10-26T11:22:13.785Z"
   },
   {
    "duration": 37,
    "start_time": "2022-10-26T11:22:13.794Z"
   },
   {
    "duration": 7,
    "start_time": "2022-10-26T11:22:13.833Z"
   },
   {
    "duration": 12,
    "start_time": "2022-10-26T11:22:13.842Z"
   },
   {
    "duration": 6,
    "start_time": "2022-10-26T11:22:13.857Z"
   },
   {
    "duration": 6,
    "start_time": "2022-10-26T11:22:13.864Z"
   },
   {
    "duration": 6,
    "start_time": "2022-10-26T11:22:13.872Z"
   },
   {
    "duration": 12,
    "start_time": "2022-10-26T11:22:13.879Z"
   },
   {
    "duration": 40,
    "start_time": "2022-10-26T11:22:13.893Z"
   },
   {
    "duration": 16,
    "start_time": "2022-10-26T11:22:13.935Z"
   },
   {
    "duration": 9,
    "start_time": "2022-10-26T11:22:13.952Z"
   },
   {
    "duration": 9,
    "start_time": "2022-10-26T11:22:13.962Z"
   },
   {
    "duration": 6,
    "start_time": "2022-10-26T11:22:13.973Z"
   },
   {
    "duration": 6,
    "start_time": "2022-10-26T11:22:13.981Z"
   },
   {
    "duration": 42,
    "start_time": "2022-10-26T11:22:13.989Z"
   },
   {
    "duration": 3,
    "start_time": "2022-10-26T11:22:14.033Z"
   },
   {
    "duration": 24,
    "start_time": "2022-10-26T11:22:14.038Z"
   },
   {
    "duration": 3,
    "start_time": "2022-10-26T11:22:14.063Z"
   },
   {
    "duration": 5894,
    "start_time": "2022-10-26T11:22:14.067Z"
   },
   {
    "duration": 7,
    "start_time": "2022-10-26T11:22:19.963Z"
   },
   {
    "duration": 24,
    "start_time": "2022-10-26T11:22:19.971Z"
   },
   {
    "duration": 2073,
    "start_time": "2022-10-26T11:22:19.996Z"
   },
   {
    "duration": 7,
    "start_time": "2022-10-26T11:22:22.072Z"
   },
   {
    "duration": 25,
    "start_time": "2022-10-26T11:22:22.080Z"
   },
   {
    "duration": 1314,
    "start_time": "2022-10-26T11:22:22.106Z"
   },
   {
    "duration": 18,
    "start_time": "2022-10-26T11:22:23.424Z"
   },
   {
    "duration": 15,
    "start_time": "2022-10-26T11:22:23.443Z"
   },
   {
    "duration": 33,
    "start_time": "2022-10-26T11:22:23.459Z"
   },
   {
    "duration": 16,
    "start_time": "2022-10-26T11:22:23.493Z"
   },
   {
    "duration": 30,
    "start_time": "2022-10-26T11:22:23.510Z"
   },
   {
    "duration": 28,
    "start_time": "2022-10-26T11:22:23.542Z"
   },
   {
    "duration": 12,
    "start_time": "2022-10-26T11:22:23.571Z"
   },
   {
    "duration": 11,
    "start_time": "2022-10-26T11:22:23.584Z"
   },
   {
    "duration": 12,
    "start_time": "2022-10-26T11:22:23.596Z"
   },
   {
    "duration": 8,
    "start_time": "2022-10-26T11:22:23.610Z"
   },
   {
    "duration": 21,
    "start_time": "2022-10-26T11:22:23.620Z"
   },
   {
    "duration": 15,
    "start_time": "2022-10-26T11:22:23.643Z"
   },
   {
    "duration": 9,
    "start_time": "2022-10-26T11:22:23.659Z"
   },
   {
    "duration": 18,
    "start_time": "2022-10-26T11:22:23.669Z"
   },
   {
    "duration": 6,
    "start_time": "2022-10-26T11:22:23.688Z"
   },
   {
    "duration": 7,
    "start_time": "2022-10-26T11:22:23.696Z"
   },
   {
    "duration": 9,
    "start_time": "2022-10-26T11:22:23.705Z"
   },
   {
    "duration": 18,
    "start_time": "2022-10-26T11:22:23.715Z"
   },
   {
    "duration": 14,
    "start_time": "2022-10-26T11:22:23.734Z"
   },
   {
    "duration": 8,
    "start_time": "2022-10-26T11:22:23.750Z"
   },
   {
    "duration": 13,
    "start_time": "2022-10-26T11:22:23.759Z"
   },
   {
    "duration": 12,
    "start_time": "2022-10-26T11:22:23.773Z"
   },
   {
    "duration": 7,
    "start_time": "2022-10-26T11:22:23.787Z"
   },
   {
    "duration": 7,
    "start_time": "2022-10-26T11:22:23.796Z"
   },
   {
    "duration": 32,
    "start_time": "2022-10-26T11:22:23.804Z"
   },
   {
    "duration": 6,
    "start_time": "2022-10-26T11:22:23.838Z"
   },
   {
    "duration": 9,
    "start_time": "2022-10-26T11:22:23.846Z"
   },
   {
    "duration": 26,
    "start_time": "2022-10-26T11:43:46.100Z"
   },
   {
    "duration": 23,
    "start_time": "2022-10-26T11:44:06.337Z"
   },
   {
    "duration": 15,
    "start_time": "2022-10-26T11:44:49.972Z"
   },
   {
    "duration": 44,
    "start_time": "2022-10-26T11:48:22.175Z"
   },
   {
    "duration": 52,
    "start_time": "2022-10-26T11:48:36.901Z"
   },
   {
    "duration": 40,
    "start_time": "2022-10-26T11:48:56.838Z"
   },
   {
    "duration": 88,
    "start_time": "2022-10-26T11:51:51.152Z"
   },
   {
    "duration": 31,
    "start_time": "2022-10-26T11:52:00.440Z"
   },
   {
    "duration": 61,
    "start_time": "2022-10-26T11:52:13.636Z"
   },
   {
    "duration": 36,
    "start_time": "2022-10-26T11:52:17.082Z"
   },
   {
    "duration": 48,
    "start_time": "2022-10-26T11:52:51.293Z"
   },
   {
    "duration": 20,
    "start_time": "2022-10-26T11:53:23.036Z"
   },
   {
    "duration": 404,
    "start_time": "2022-10-26T11:54:39.801Z"
   },
   {
    "duration": 106,
    "start_time": "2022-10-26T11:54:40.206Z"
   },
   {
    "duration": 31,
    "start_time": "2022-10-26T11:54:40.313Z"
   },
   {
    "duration": 38,
    "start_time": "2022-10-26T11:54:40.346Z"
   },
   {
    "duration": 25,
    "start_time": "2022-10-26T11:54:40.386Z"
   },
   {
    "duration": 46,
    "start_time": "2022-10-26T11:54:40.412Z"
   },
   {
    "duration": 16,
    "start_time": "2022-10-26T11:54:40.459Z"
   },
   {
    "duration": 27,
    "start_time": "2022-10-26T11:54:40.476Z"
   },
   {
    "duration": 35,
    "start_time": "2022-10-26T11:54:40.505Z"
   },
   {
    "duration": 37,
    "start_time": "2022-10-26T11:54:40.542Z"
   },
   {
    "duration": 26,
    "start_time": "2022-10-26T11:54:40.581Z"
   },
   {
    "duration": 24,
    "start_time": "2022-10-26T11:54:40.608Z"
   },
   {
    "duration": 37,
    "start_time": "2022-10-26T11:54:40.633Z"
   },
   {
    "duration": 32,
    "start_time": "2022-10-26T11:54:40.673Z"
   },
   {
    "duration": 31,
    "start_time": "2022-10-26T11:54:40.706Z"
   },
   {
    "duration": 38,
    "start_time": "2022-10-26T11:54:40.743Z"
   },
   {
    "duration": 27,
    "start_time": "2022-10-26T11:54:40.782Z"
   },
   {
    "duration": 36,
    "start_time": "2022-10-26T11:54:40.810Z"
   },
   {
    "duration": 35,
    "start_time": "2022-10-26T11:54:40.848Z"
   },
   {
    "duration": 44,
    "start_time": "2022-10-26T11:54:40.884Z"
   },
   {
    "duration": 24,
    "start_time": "2022-10-26T11:54:40.930Z"
   },
   {
    "duration": 38,
    "start_time": "2022-10-26T11:54:40.955Z"
   },
   {
    "duration": 12,
    "start_time": "2022-10-26T11:54:40.995Z"
   },
   {
    "duration": 5651,
    "start_time": "2022-10-26T11:54:41.008Z"
   },
   {
    "duration": 7,
    "start_time": "2022-10-26T11:54:46.660Z"
   },
   {
    "duration": 32,
    "start_time": "2022-10-26T11:54:46.668Z"
   },
   {
    "duration": 2013,
    "start_time": "2022-10-26T11:54:46.701Z"
   },
   {
    "duration": 17,
    "start_time": "2022-10-26T11:54:48.716Z"
   },
   {
    "duration": 32,
    "start_time": "2022-10-26T11:54:48.735Z"
   },
   {
    "duration": 1349,
    "start_time": "2022-10-26T11:54:48.769Z"
   },
   {
    "duration": 15,
    "start_time": "2022-10-26T11:54:50.122Z"
   },
   {
    "duration": 10,
    "start_time": "2022-10-26T11:54:50.138Z"
   },
   {
    "duration": 8,
    "start_time": "2022-10-26T11:54:50.150Z"
   },
   {
    "duration": 7,
    "start_time": "2022-10-26T11:54:50.159Z"
   },
   {
    "duration": 19,
    "start_time": "2022-10-26T11:54:50.167Z"
   },
   {
    "duration": 19,
    "start_time": "2022-10-26T11:54:50.188Z"
   },
   {
    "duration": 9,
    "start_time": "2022-10-26T11:54:50.209Z"
   },
   {
    "duration": 58,
    "start_time": "2022-10-26T11:54:50.219Z"
   },
   {
    "duration": 18,
    "start_time": "2022-10-26T11:54:50.279Z"
   },
   {
    "duration": 33,
    "start_time": "2022-10-26T11:54:50.299Z"
   },
   {
    "duration": 9,
    "start_time": "2022-10-26T11:54:50.336Z"
   },
   {
    "duration": 16,
    "start_time": "2022-10-26T11:54:50.346Z"
   },
   {
    "duration": 11,
    "start_time": "2022-10-26T11:54:50.364Z"
   },
   {
    "duration": 16,
    "start_time": "2022-10-26T11:54:50.376Z"
   },
   {
    "duration": 6,
    "start_time": "2022-10-26T11:54:50.394Z"
   },
   {
    "duration": 17,
    "start_time": "2022-10-26T11:54:50.401Z"
   },
   {
    "duration": 23,
    "start_time": "2022-10-26T11:54:50.421Z"
   },
   {
    "duration": 16,
    "start_time": "2022-10-26T11:54:50.446Z"
   },
   {
    "duration": 14,
    "start_time": "2022-10-26T11:54:50.464Z"
   },
   {
    "duration": 15,
    "start_time": "2022-10-26T11:54:50.480Z"
   },
   {
    "duration": 49,
    "start_time": "2022-10-26T11:54:50.497Z"
   },
   {
    "duration": 9,
    "start_time": "2022-10-26T11:54:50.547Z"
   },
   {
    "duration": 14,
    "start_time": "2022-10-26T11:54:50.558Z"
   },
   {
    "duration": 14,
    "start_time": "2022-10-26T11:54:50.574Z"
   },
   {
    "duration": 21,
    "start_time": "2022-10-26T11:54:50.589Z"
   },
   {
    "duration": 16,
    "start_time": "2022-10-26T11:54:50.612Z"
   },
   {
    "duration": 50,
    "start_time": "2022-10-26T11:54:50.633Z"
   },
   {
    "duration": 65,
    "start_time": "2022-10-26T11:54:50.684Z"
   },
   {
    "duration": 18,
    "start_time": "2022-10-26T11:55:17.521Z"
   },
   {
    "duration": 7,
    "start_time": "2022-10-26T11:55:29.558Z"
   },
   {
    "duration": 8,
    "start_time": "2022-10-26T11:55:49.105Z"
   },
   {
    "duration": 65,
    "start_time": "2022-10-26T11:55:57.905Z"
   },
   {
    "duration": 26,
    "start_time": "2022-10-26T11:56:15.508Z"
   },
   {
    "duration": 28,
    "start_time": "2022-10-26T12:01:37.713Z"
   },
   {
    "duration": 19,
    "start_time": "2022-10-26T12:03:30.216Z"
   },
   {
    "duration": 6,
    "start_time": "2022-10-26T12:06:04.630Z"
   },
   {
    "duration": 23,
    "start_time": "2022-10-26T12:06:17.633Z"
   },
   {
    "duration": 21,
    "start_time": "2022-10-26T12:06:36.444Z"
   },
   {
    "duration": 22,
    "start_time": "2022-10-26T12:06:40.838Z"
   },
   {
    "duration": 3535,
    "start_time": "2022-10-26T12:08:52.617Z"
   },
   {
    "duration": 3513,
    "start_time": "2022-10-26T12:10:39.164Z"
   },
   {
    "duration": 362,
    "start_time": "2022-10-26T12:11:10.479Z"
   },
   {
    "duration": 103,
    "start_time": "2022-10-26T12:11:10.845Z"
   },
   {
    "duration": 30,
    "start_time": "2022-10-26T12:11:10.950Z"
   },
   {
    "duration": 8,
    "start_time": "2022-10-26T12:11:10.982Z"
   },
   {
    "duration": 3,
    "start_time": "2022-10-26T12:11:10.993Z"
   },
   {
    "duration": 32,
    "start_time": "2022-10-26T12:11:10.999Z"
   },
   {
    "duration": 18,
    "start_time": "2022-10-26T12:11:11.032Z"
   },
   {
    "duration": 9,
    "start_time": "2022-10-26T12:11:11.051Z"
   },
   {
    "duration": 12,
    "start_time": "2022-10-26T12:11:11.061Z"
   },
   {
    "duration": 13,
    "start_time": "2022-10-26T12:11:11.075Z"
   },
   {
    "duration": 23,
    "start_time": "2022-10-26T12:11:11.089Z"
   },
   {
    "duration": 14,
    "start_time": "2022-10-26T12:11:11.114Z"
   },
   {
    "duration": 21,
    "start_time": "2022-10-26T12:11:11.129Z"
   },
   {
    "duration": 6,
    "start_time": "2022-10-26T12:11:11.152Z"
   },
   {
    "duration": 16,
    "start_time": "2022-10-26T12:11:11.160Z"
   },
   {
    "duration": 8,
    "start_time": "2022-10-26T12:11:11.178Z"
   },
   {
    "duration": 10,
    "start_time": "2022-10-26T12:11:11.188Z"
   },
   {
    "duration": 29,
    "start_time": "2022-10-26T12:11:11.200Z"
   },
   {
    "duration": 9,
    "start_time": "2022-10-26T12:11:11.235Z"
   },
   {
    "duration": 9,
    "start_time": "2022-10-26T12:11:11.245Z"
   },
   {
    "duration": 3,
    "start_time": "2022-10-26T12:11:11.256Z"
   },
   {
    "duration": 22,
    "start_time": "2022-10-26T12:11:11.260Z"
   },
   {
    "duration": 3,
    "start_time": "2022-10-26T12:11:11.283Z"
   },
   {
    "duration": 5883,
    "start_time": "2022-10-26T12:11:11.288Z"
   },
   {
    "duration": 8,
    "start_time": "2022-10-26T12:11:17.173Z"
   },
   {
    "duration": 19,
    "start_time": "2022-10-26T12:11:17.182Z"
   },
   {
    "duration": 2210,
    "start_time": "2022-10-26T12:11:17.203Z"
   },
   {
    "duration": 16,
    "start_time": "2022-10-26T12:11:19.417Z"
   },
   {
    "duration": 26,
    "start_time": "2022-10-26T12:11:19.435Z"
   },
   {
    "duration": 1309,
    "start_time": "2022-10-26T12:11:19.463Z"
   },
   {
    "duration": 12,
    "start_time": "2022-10-26T12:11:20.773Z"
   },
   {
    "duration": 6,
    "start_time": "2022-10-26T12:11:20.786Z"
   },
   {
    "duration": 12,
    "start_time": "2022-10-26T12:11:20.793Z"
   },
   {
    "duration": 24,
    "start_time": "2022-10-26T12:11:20.807Z"
   },
   {
    "duration": 17,
    "start_time": "2022-10-26T12:11:20.835Z"
   },
   {
    "duration": 9,
    "start_time": "2022-10-26T12:11:20.853Z"
   },
   {
    "duration": 9,
    "start_time": "2022-10-26T12:11:20.864Z"
   },
   {
    "duration": 16,
    "start_time": "2022-10-26T12:11:20.875Z"
   },
   {
    "duration": 11,
    "start_time": "2022-10-26T12:11:20.893Z"
   },
   {
    "duration": 8,
    "start_time": "2022-10-26T12:11:20.905Z"
   },
   {
    "duration": 12,
    "start_time": "2022-10-26T12:11:20.914Z"
   },
   {
    "duration": 11,
    "start_time": "2022-10-26T12:11:20.937Z"
   },
   {
    "duration": 8,
    "start_time": "2022-10-26T12:11:20.949Z"
   },
   {
    "duration": 16,
    "start_time": "2022-10-26T12:11:20.958Z"
   },
   {
    "duration": 6,
    "start_time": "2022-10-26T12:11:20.975Z"
   },
   {
    "duration": 13,
    "start_time": "2022-10-26T12:11:20.982Z"
   },
   {
    "duration": 8,
    "start_time": "2022-10-26T12:11:20.996Z"
   },
   {
    "duration": 10,
    "start_time": "2022-10-26T12:11:21.005Z"
   },
   {
    "duration": 9,
    "start_time": "2022-10-26T12:11:21.024Z"
   },
   {
    "duration": 21,
    "start_time": "2022-10-26T12:11:21.034Z"
   },
   {
    "duration": 15,
    "start_time": "2022-10-26T12:11:21.056Z"
   },
   {
    "duration": 12,
    "start_time": "2022-10-26T12:11:21.072Z"
   },
   {
    "duration": 16,
    "start_time": "2022-10-26T12:11:21.085Z"
   },
   {
    "duration": 9,
    "start_time": "2022-10-26T12:11:21.103Z"
   },
   {
    "duration": 24,
    "start_time": "2022-10-26T12:11:21.114Z"
   },
   {
    "duration": 17,
    "start_time": "2022-10-26T12:11:21.140Z"
   },
   {
    "duration": 68,
    "start_time": "2022-10-26T12:11:21.158Z"
   },
   {
    "duration": 25,
    "start_time": "2022-10-26T12:11:21.228Z"
   },
   {
    "duration": 14,
    "start_time": "2022-10-26T12:11:21.254Z"
   },
   {
    "duration": 5,
    "start_time": "2022-10-26T12:11:21.269Z"
   },
   {
    "duration": 24,
    "start_time": "2022-10-26T12:11:21.275Z"
   },
   {
    "duration": 3526,
    "start_time": "2022-10-26T12:11:21.301Z"
   },
   {
    "duration": 3642,
    "start_time": "2022-10-26T12:11:24.832Z"
   },
   {
    "duration": 7,
    "start_time": "2022-10-26T12:16:15.864Z"
   },
   {
    "duration": 80,
    "start_time": "2022-10-26T12:20:35.668Z"
   },
   {
    "duration": 14,
    "start_time": "2022-10-26T12:20:45.358Z"
   },
   {
    "duration": 11,
    "start_time": "2022-10-26T12:22:29.345Z"
   },
   {
    "duration": 11,
    "start_time": "2022-10-26T12:22:37.347Z"
   },
   {
    "duration": 11,
    "start_time": "2022-10-26T12:22:59.542Z"
   },
   {
    "duration": 10,
    "start_time": "2022-10-26T12:28:36.252Z"
   },
   {
    "duration": 7,
    "start_time": "2022-10-26T12:29:04.423Z"
   },
   {
    "duration": 10,
    "start_time": "2022-10-26T12:29:44.271Z"
   },
   {
    "duration": 20,
    "start_time": "2022-10-26T12:29:58.320Z"
   },
   {
    "duration": 406,
    "start_time": "2022-10-26T12:30:19.946Z"
   },
   {
    "duration": 101,
    "start_time": "2022-10-26T12:30:20.354Z"
   },
   {
    "duration": 28,
    "start_time": "2022-10-26T12:30:20.457Z"
   },
   {
    "duration": 9,
    "start_time": "2022-10-26T12:30:20.486Z"
   },
   {
    "duration": 10,
    "start_time": "2022-10-26T12:30:20.496Z"
   },
   {
    "duration": 28,
    "start_time": "2022-10-26T12:30:20.507Z"
   },
   {
    "duration": 18,
    "start_time": "2022-10-26T12:30:20.537Z"
   },
   {
    "duration": 10,
    "start_time": "2022-10-26T12:30:20.556Z"
   },
   {
    "duration": 14,
    "start_time": "2022-10-26T12:30:20.567Z"
   },
   {
    "duration": 10,
    "start_time": "2022-10-26T12:30:20.582Z"
   },
   {
    "duration": 7,
    "start_time": "2022-10-26T12:30:20.593Z"
   },
   {
    "duration": 8,
    "start_time": "2022-10-26T12:30:20.601Z"
   },
   {
    "duration": 18,
    "start_time": "2022-10-26T12:30:20.611Z"
   },
   {
    "duration": 10,
    "start_time": "2022-10-26T12:30:20.636Z"
   },
   {
    "duration": 9,
    "start_time": "2022-10-26T12:30:20.647Z"
   },
   {
    "duration": 11,
    "start_time": "2022-10-26T12:30:20.658Z"
   },
   {
    "duration": 7,
    "start_time": "2022-10-26T12:30:20.670Z"
   },
   {
    "duration": 7,
    "start_time": "2022-10-26T12:30:20.678Z"
   },
   {
    "duration": 6,
    "start_time": "2022-10-26T12:30:20.686Z"
   },
   {
    "duration": 42,
    "start_time": "2022-10-26T12:30:20.694Z"
   },
   {
    "duration": 3,
    "start_time": "2022-10-26T12:30:20.737Z"
   },
   {
    "duration": 28,
    "start_time": "2022-10-26T12:30:20.742Z"
   },
   {
    "duration": 3,
    "start_time": "2022-10-26T12:30:20.771Z"
   },
   {
    "duration": 5627,
    "start_time": "2022-10-26T12:30:20.775Z"
   },
   {
    "duration": 7,
    "start_time": "2022-10-26T12:30:26.404Z"
   },
   {
    "duration": 10,
    "start_time": "2022-10-26T12:30:26.412Z"
   },
   {
    "duration": 2020,
    "start_time": "2022-10-26T12:30:26.426Z"
   },
   {
    "duration": 8,
    "start_time": "2022-10-26T12:30:28.448Z"
   },
   {
    "duration": 20,
    "start_time": "2022-10-26T12:30:28.457Z"
   },
   {
    "duration": 1375,
    "start_time": "2022-10-26T12:30:28.479Z"
   },
   {
    "duration": 12,
    "start_time": "2022-10-26T12:30:29.855Z"
   },
   {
    "duration": 3,
    "start_time": "2022-10-26T12:30:29.869Z"
   },
   {
    "duration": 13,
    "start_time": "2022-10-26T12:30:29.873Z"
   },
   {
    "duration": 10,
    "start_time": "2022-10-26T12:30:29.888Z"
   },
   {
    "duration": 26,
    "start_time": "2022-10-26T12:30:29.900Z"
   },
   {
    "duration": 10,
    "start_time": "2022-10-26T12:30:29.927Z"
   },
   {
    "duration": 15,
    "start_time": "2022-10-26T12:30:29.939Z"
   },
   {
    "duration": 10,
    "start_time": "2022-10-26T12:30:29.955Z"
   },
   {
    "duration": 11,
    "start_time": "2022-10-26T12:30:29.966Z"
   },
   {
    "duration": 10,
    "start_time": "2022-10-26T12:30:29.979Z"
   },
   {
    "duration": 12,
    "start_time": "2022-10-26T12:30:29.993Z"
   },
   {
    "duration": 33,
    "start_time": "2022-10-26T12:30:30.007Z"
   },
   {
    "duration": 18,
    "start_time": "2022-10-26T12:30:30.041Z"
   },
   {
    "duration": 27,
    "start_time": "2022-10-26T12:30:30.061Z"
   },
   {
    "duration": 15,
    "start_time": "2022-10-26T12:30:30.089Z"
   },
   {
    "duration": 15,
    "start_time": "2022-10-26T12:30:30.106Z"
   },
   {
    "duration": 17,
    "start_time": "2022-10-26T12:30:30.132Z"
   },
   {
    "duration": 20,
    "start_time": "2022-10-26T12:30:30.150Z"
   },
   {
    "duration": 15,
    "start_time": "2022-10-26T12:30:30.172Z"
   },
   {
    "duration": 10,
    "start_time": "2022-10-26T12:30:30.188Z"
   },
   {
    "duration": 35,
    "start_time": "2022-10-26T12:30:30.200Z"
   },
   {
    "duration": 9,
    "start_time": "2022-10-26T12:30:30.237Z"
   },
   {
    "duration": 11,
    "start_time": "2022-10-26T12:30:30.247Z"
   },
   {
    "duration": 12,
    "start_time": "2022-10-26T12:30:30.259Z"
   },
   {
    "duration": 23,
    "start_time": "2022-10-26T12:30:30.272Z"
   },
   {
    "duration": 12,
    "start_time": "2022-10-26T12:30:30.297Z"
   },
   {
    "duration": 54,
    "start_time": "2022-10-26T12:30:30.311Z"
   },
   {
    "duration": 20,
    "start_time": "2022-10-26T12:30:30.366Z"
   },
   {
    "duration": 14,
    "start_time": "2022-10-26T12:30:30.388Z"
   },
   {
    "duration": 32,
    "start_time": "2022-10-26T12:30:30.404Z"
   },
   {
    "duration": 31,
    "start_time": "2022-10-26T12:30:30.437Z"
   },
   {
    "duration": 3209,
    "start_time": "2022-10-26T12:30:30.470Z"
   },
   {
    "duration": 2970,
    "start_time": "2022-10-26T12:30:33.681Z"
   },
   {
    "duration": 9,
    "start_time": "2022-10-26T12:30:36.652Z"
   },
   {
    "duration": 16,
    "start_time": "2022-10-26T12:30:47.081Z"
   },
   {
    "duration": 5,
    "start_time": "2022-10-26T12:32:23.596Z"
   },
   {
    "duration": 68,
    "start_time": "2022-10-26T12:32:49.187Z"
   },
   {
    "duration": 135,
    "start_time": "2022-10-26T12:34:43.360Z"
   },
   {
    "duration": 148,
    "start_time": "2022-10-26T12:35:58.465Z"
   },
   {
    "duration": 47,
    "start_time": "2022-10-26T12:40:16.438Z"
   },
   {
    "duration": 52,
    "start_time": "2022-10-26T12:43:25.700Z"
   },
   {
    "duration": 415,
    "start_time": "2022-10-26T12:43:51.921Z"
   },
   {
    "duration": 103,
    "start_time": "2022-10-26T12:43:52.338Z"
   },
   {
    "duration": 28,
    "start_time": "2022-10-26T12:43:52.442Z"
   },
   {
    "duration": 7,
    "start_time": "2022-10-26T12:43:52.472Z"
   },
   {
    "duration": 4,
    "start_time": "2022-10-26T12:43:52.480Z"
   },
   {
    "duration": 17,
    "start_time": "2022-10-26T12:43:52.485Z"
   },
   {
    "duration": 31,
    "start_time": "2022-10-26T12:43:52.503Z"
   },
   {
    "duration": 7,
    "start_time": "2022-10-26T12:43:52.536Z"
   },
   {
    "duration": 13,
    "start_time": "2022-10-26T12:43:52.545Z"
   },
   {
    "duration": 6,
    "start_time": "2022-10-26T12:43:52.560Z"
   },
   {
    "duration": 9,
    "start_time": "2022-10-26T12:43:52.568Z"
   },
   {
    "duration": 16,
    "start_time": "2022-10-26T12:43:52.579Z"
   },
   {
    "duration": 11,
    "start_time": "2022-10-26T12:43:52.597Z"
   },
   {
    "duration": 18,
    "start_time": "2022-10-26T12:43:52.621Z"
   },
   {
    "duration": 8,
    "start_time": "2022-10-26T12:43:52.641Z"
   },
   {
    "duration": 7,
    "start_time": "2022-10-26T12:43:52.650Z"
   },
   {
    "duration": 6,
    "start_time": "2022-10-26T12:43:52.658Z"
   },
   {
    "duration": 6,
    "start_time": "2022-10-26T12:43:52.665Z"
   },
   {
    "duration": 14,
    "start_time": "2022-10-26T12:43:52.672Z"
   },
   {
    "duration": 10,
    "start_time": "2022-10-26T12:43:52.687Z"
   },
   {
    "duration": 33,
    "start_time": "2022-10-26T12:43:52.698Z"
   },
   {
    "duration": 24,
    "start_time": "2022-10-26T12:43:52.733Z"
   },
   {
    "duration": 3,
    "start_time": "2022-10-26T12:43:52.758Z"
   },
   {
    "duration": 5673,
    "start_time": "2022-10-26T12:43:52.763Z"
   },
   {
    "duration": 7,
    "start_time": "2022-10-26T12:43:58.438Z"
   },
   {
    "duration": 7,
    "start_time": "2022-10-26T12:43:58.447Z"
   },
   {
    "duration": 1997,
    "start_time": "2022-10-26T12:43:58.455Z"
   },
   {
    "duration": 7,
    "start_time": "2022-10-26T12:44:00.455Z"
   },
   {
    "duration": 36,
    "start_time": "2022-10-26T12:44:00.464Z"
   },
   {
    "duration": 1495,
    "start_time": "2022-10-26T12:44:00.501Z"
   },
   {
    "duration": 33,
    "start_time": "2022-10-26T12:44:01.998Z"
   },
   {
    "duration": 3,
    "start_time": "2022-10-26T12:44:02.037Z"
   },
   {
    "duration": 32,
    "start_time": "2022-10-26T12:44:02.041Z"
   },
   {
    "duration": 23,
    "start_time": "2022-10-26T12:44:02.075Z"
   },
   {
    "duration": 18,
    "start_time": "2022-10-26T12:44:02.099Z"
   },
   {
    "duration": 20,
    "start_time": "2022-10-26T12:44:02.119Z"
   },
   {
    "duration": 16,
    "start_time": "2022-10-26T12:44:02.140Z"
   },
   {
    "duration": 15,
    "start_time": "2022-10-26T12:44:02.158Z"
   },
   {
    "duration": 16,
    "start_time": "2022-10-26T12:44:02.175Z"
   },
   {
    "duration": 18,
    "start_time": "2022-10-26T12:44:02.193Z"
   },
   {
    "duration": 19,
    "start_time": "2022-10-26T12:44:02.212Z"
   },
   {
    "duration": 14,
    "start_time": "2022-10-26T12:44:02.233Z"
   },
   {
    "duration": 17,
    "start_time": "2022-10-26T12:44:02.248Z"
   },
   {
    "duration": 12,
    "start_time": "2022-10-26T12:44:02.267Z"
   },
   {
    "duration": 17,
    "start_time": "2022-10-26T12:44:02.280Z"
   },
   {
    "duration": 17,
    "start_time": "2022-10-26T12:44:02.298Z"
   },
   {
    "duration": 26,
    "start_time": "2022-10-26T12:44:02.317Z"
   },
   {
    "duration": 12,
    "start_time": "2022-10-26T12:44:02.344Z"
   },
   {
    "duration": 6,
    "start_time": "2022-10-26T12:44:02.358Z"
   },
   {
    "duration": 7,
    "start_time": "2022-10-26T12:44:02.366Z"
   },
   {
    "duration": 12,
    "start_time": "2022-10-26T12:44:02.374Z"
   },
   {
    "duration": 6,
    "start_time": "2022-10-26T12:44:02.387Z"
   },
   {
    "duration": 9,
    "start_time": "2022-10-26T12:44:02.395Z"
   },
   {
    "duration": 32,
    "start_time": "2022-10-26T12:44:02.405Z"
   },
   {
    "duration": 13,
    "start_time": "2022-10-26T12:44:02.439Z"
   },
   {
    "duration": 6,
    "start_time": "2022-10-26T12:44:02.454Z"
   },
   {
    "duration": 46,
    "start_time": "2022-10-26T12:44:02.462Z"
   },
   {
    "duration": 34,
    "start_time": "2022-10-26T12:44:02.510Z"
   },
   {
    "duration": 14,
    "start_time": "2022-10-26T12:44:02.546Z"
   },
   {
    "duration": 5,
    "start_time": "2022-10-26T12:44:02.561Z"
   },
   {
    "duration": 22,
    "start_time": "2022-10-26T12:44:02.568Z"
   },
   {
    "duration": 3456,
    "start_time": "2022-10-26T12:44:02.621Z"
   },
   {
    "duration": 3109,
    "start_time": "2022-10-26T12:44:06.079Z"
   },
   {
    "duration": 9,
    "start_time": "2022-10-26T12:44:09.190Z"
   },
   {
    "duration": 32,
    "start_time": "2022-10-26T12:44:09.200Z"
   },
   {
    "duration": 23,
    "start_time": "2022-10-26T12:44:09.233Z"
   },
   {
    "duration": 164,
    "start_time": "2022-10-26T12:44:09.257Z"
   },
   {
    "duration": 434,
    "start_time": "2022-10-26T12:51:04.909Z"
   },
   {
    "duration": 104,
    "start_time": "2022-10-26T12:51:05.345Z"
   },
   {
    "duration": 30,
    "start_time": "2022-10-26T12:51:05.450Z"
   },
   {
    "duration": 9,
    "start_time": "2022-10-26T12:51:05.482Z"
   },
   {
    "duration": 14,
    "start_time": "2022-10-26T12:51:05.492Z"
   },
   {
    "duration": 27,
    "start_time": "2022-10-26T12:51:05.507Z"
   },
   {
    "duration": 17,
    "start_time": "2022-10-26T12:51:05.535Z"
   },
   {
    "duration": 16,
    "start_time": "2022-10-26T12:51:05.553Z"
   },
   {
    "duration": 21,
    "start_time": "2022-10-26T12:51:05.570Z"
   },
   {
    "duration": 18,
    "start_time": "2022-10-26T12:51:05.594Z"
   },
   {
    "duration": 29,
    "start_time": "2022-10-26T12:51:05.613Z"
   },
   {
    "duration": 17,
    "start_time": "2022-10-26T12:51:05.644Z"
   },
   {
    "duration": 23,
    "start_time": "2022-10-26T12:51:05.662Z"
   },
   {
    "duration": 49,
    "start_time": "2022-10-26T12:51:05.687Z"
   },
   {
    "duration": 28,
    "start_time": "2022-10-26T12:51:05.738Z"
   },
   {
    "duration": 19,
    "start_time": "2022-10-26T12:51:05.767Z"
   },
   {
    "duration": 31,
    "start_time": "2022-10-26T12:51:05.788Z"
   },
   {
    "duration": 17,
    "start_time": "2022-10-26T12:51:05.820Z"
   },
   {
    "duration": 22,
    "start_time": "2022-10-26T12:51:05.838Z"
   },
   {
    "duration": 32,
    "start_time": "2022-10-26T12:51:05.861Z"
   },
   {
    "duration": 9,
    "start_time": "2022-10-26T12:51:05.894Z"
   },
   {
    "duration": 48,
    "start_time": "2022-10-26T12:51:05.904Z"
   },
   {
    "duration": 16,
    "start_time": "2022-10-26T12:51:05.953Z"
   },
   {
    "duration": 5878,
    "start_time": "2022-10-26T12:51:05.971Z"
   },
   {
    "duration": 8,
    "start_time": "2022-10-26T12:51:11.850Z"
   },
   {
    "duration": 30,
    "start_time": "2022-10-26T12:51:11.859Z"
   },
   {
    "duration": 2012,
    "start_time": "2022-10-26T12:51:11.891Z"
   },
   {
    "duration": 7,
    "start_time": "2022-10-26T12:51:13.906Z"
   },
   {
    "duration": 38,
    "start_time": "2022-10-26T12:51:13.915Z"
   },
   {
    "duration": 1311,
    "start_time": "2022-10-26T12:51:13.955Z"
   },
   {
    "duration": 12,
    "start_time": "2022-10-26T12:51:15.267Z"
   },
   {
    "duration": 2,
    "start_time": "2022-10-26T12:51:15.281Z"
   },
   {
    "duration": 9,
    "start_time": "2022-10-26T12:51:15.285Z"
   },
   {
    "duration": 7,
    "start_time": "2022-10-26T12:51:15.295Z"
   },
   {
    "duration": 17,
    "start_time": "2022-10-26T12:51:15.321Z"
   },
   {
    "duration": 10,
    "start_time": "2022-10-26T12:51:15.339Z"
   },
   {
    "duration": 8,
    "start_time": "2022-10-26T12:51:15.350Z"
   },
   {
    "duration": 13,
    "start_time": "2022-10-26T12:51:15.359Z"
   },
   {
    "duration": 7,
    "start_time": "2022-10-26T12:51:15.374Z"
   },
   {
    "duration": 8,
    "start_time": "2022-10-26T12:51:15.383Z"
   },
   {
    "duration": 11,
    "start_time": "2022-10-26T12:51:15.392Z"
   },
   {
    "duration": 10,
    "start_time": "2022-10-26T12:51:15.404Z"
   },
   {
    "duration": 22,
    "start_time": "2022-10-26T12:51:15.416Z"
   },
   {
    "duration": 11,
    "start_time": "2022-10-26T12:51:15.440Z"
   },
   {
    "duration": 6,
    "start_time": "2022-10-26T12:51:15.452Z"
   },
   {
    "duration": 13,
    "start_time": "2022-10-26T12:51:15.459Z"
   },
   {
    "duration": 10,
    "start_time": "2022-10-26T12:51:15.473Z"
   },
   {
    "duration": 11,
    "start_time": "2022-10-26T12:51:15.484Z"
   },
   {
    "duration": 7,
    "start_time": "2022-10-26T12:51:15.496Z"
   },
   {
    "duration": 30,
    "start_time": "2022-10-26T12:51:15.505Z"
   },
   {
    "duration": 14,
    "start_time": "2022-10-26T12:51:15.537Z"
   },
   {
    "duration": 7,
    "start_time": "2022-10-26T12:51:15.553Z"
   },
   {
    "duration": 16,
    "start_time": "2022-10-26T12:51:15.562Z"
   },
   {
    "duration": 11,
    "start_time": "2022-10-26T12:51:15.579Z"
   },
   {
    "duration": 16,
    "start_time": "2022-10-26T12:51:15.592Z"
   },
   {
    "duration": 17,
    "start_time": "2022-10-26T12:51:15.610Z"
   },
   {
    "duration": 70,
    "start_time": "2022-10-26T12:51:15.628Z"
   },
   {
    "duration": 23,
    "start_time": "2022-10-26T12:51:15.699Z"
   },
   {
    "duration": 32,
    "start_time": "2022-10-26T12:51:15.723Z"
   },
   {
    "duration": 19,
    "start_time": "2022-10-26T12:51:15.757Z"
   },
   {
    "duration": 27,
    "start_time": "2022-10-26T12:51:15.778Z"
   },
   {
    "duration": 3354,
    "start_time": "2022-10-26T12:51:15.807Z"
   },
   {
    "duration": 3102,
    "start_time": "2022-10-26T12:51:19.163Z"
   },
   {
    "duration": 8,
    "start_time": "2022-10-26T12:51:22.267Z"
   },
   {
    "duration": 10,
    "start_time": "2022-10-26T12:51:22.276Z"
   },
   {
    "duration": 7,
    "start_time": "2022-10-26T12:51:22.288Z"
   },
   {
    "duration": 159,
    "start_time": "2022-10-26T12:51:22.296Z"
   },
   {
    "duration": 170,
    "start_time": "2022-10-26T12:53:57.835Z"
   },
   {
    "duration": 139,
    "start_time": "2022-10-26T12:54:20.162Z"
   },
   {
    "duration": 139,
    "start_time": "2022-10-26T12:54:26.438Z"
   },
   {
    "duration": 134,
    "start_time": "2022-10-26T12:54:31.453Z"
   },
   {
    "duration": 150,
    "start_time": "2022-10-26T12:54:35.386Z"
   },
   {
    "duration": 160,
    "start_time": "2022-10-26T12:54:39.323Z"
   },
   {
    "duration": 144,
    "start_time": "2022-10-26T12:54:42.722Z"
   },
   {
    "duration": 29,
    "start_time": "2022-10-26T12:55:19.228Z"
   },
   {
    "duration": 15,
    "start_time": "2022-10-26T12:55:43.138Z"
   },
   {
    "duration": 649,
    "start_time": "2022-10-26T12:56:48.332Z"
   },
   {
    "duration": 16,
    "start_time": "2022-10-26T12:57:30.163Z"
   },
   {
    "duration": 4,
    "start_time": "2022-10-26T12:57:57.333Z"
   },
   {
    "duration": 627,
    "start_time": "2022-10-26T12:59:06.335Z"
   },
   {
    "duration": 5,
    "start_time": "2022-10-26T12:59:20.133Z"
   },
   {
    "duration": 7,
    "start_time": "2022-10-26T12:59:33.377Z"
   },
   {
    "duration": 17,
    "start_time": "2022-10-26T13:01:28.075Z"
   },
   {
    "duration": 5,
    "start_time": "2022-10-26T13:01:45.563Z"
   },
   {
    "duration": 17,
    "start_time": "2022-10-26T13:02:27.870Z"
   },
   {
    "duration": 54,
    "start_time": "2022-10-26T13:03:11.381Z"
   },
   {
    "duration": 50,
    "start_time": "2022-10-26T13:03:28.734Z"
   },
   {
    "duration": 47,
    "start_time": "2022-10-26T13:04:01.956Z"
   },
   {
    "duration": 71,
    "start_time": "2022-10-26T13:04:25.695Z"
   },
   {
    "duration": 17,
    "start_time": "2022-10-26T13:04:37.171Z"
   },
   {
    "duration": 18,
    "start_time": "2022-10-26T13:06:48.544Z"
   },
   {
    "duration": 230,
    "start_time": "2022-10-26T13:12:31.751Z"
   },
   {
    "duration": 20,
    "start_time": "2022-10-26T13:12:59.081Z"
   },
   {
    "duration": 266,
    "start_time": "2022-10-26T13:13:22.693Z"
   },
   {
    "duration": 22,
    "start_time": "2022-10-26T13:14:01.983Z"
   },
   {
    "duration": 19,
    "start_time": "2022-10-26T13:14:26.148Z"
   },
   {
    "duration": 22,
    "start_time": "2022-10-26T13:15:00.927Z"
   },
   {
    "duration": 18,
    "start_time": "2022-10-26T13:18:06.183Z"
   },
   {
    "duration": 35,
    "start_time": "2022-10-26T13:18:35.725Z"
   },
   {
    "duration": 18,
    "start_time": "2022-10-26T13:18:55.984Z"
   },
   {
    "duration": 27,
    "start_time": "2022-10-26T13:21:34.142Z"
   },
   {
    "duration": 25,
    "start_time": "2022-10-26T13:22:00.110Z"
   },
   {
    "duration": 19,
    "start_time": "2022-10-26T13:22:19.573Z"
   },
   {
    "duration": 21,
    "start_time": "2022-10-26T13:22:37.328Z"
   },
   {
    "duration": 28,
    "start_time": "2022-10-26T13:22:48.897Z"
   },
   {
    "duration": 18,
    "start_time": "2022-10-26T13:37:22.400Z"
   },
   {
    "duration": 438,
    "start_time": "2022-10-26T13:42:27.745Z"
   },
   {
    "duration": 121,
    "start_time": "2022-10-26T13:42:28.185Z"
   },
   {
    "duration": 35,
    "start_time": "2022-10-26T13:42:28.309Z"
   },
   {
    "duration": 9,
    "start_time": "2022-10-26T13:42:28.346Z"
   },
   {
    "duration": 10,
    "start_time": "2022-10-26T13:42:28.356Z"
   },
   {
    "duration": 15,
    "start_time": "2022-10-26T13:42:28.368Z"
   },
   {
    "duration": 12,
    "start_time": "2022-10-26T13:42:28.384Z"
   },
   {
    "duration": 27,
    "start_time": "2022-10-26T13:42:28.398Z"
   },
   {
    "duration": 18,
    "start_time": "2022-10-26T13:42:28.427Z"
   },
   {
    "duration": 8,
    "start_time": "2022-10-26T13:42:28.449Z"
   },
   {
    "duration": 7,
    "start_time": "2022-10-26T13:42:28.459Z"
   },
   {
    "duration": 11,
    "start_time": "2022-10-26T13:42:28.469Z"
   },
   {
    "duration": 57,
    "start_time": "2022-10-26T13:42:28.482Z"
   },
   {
    "duration": 12,
    "start_time": "2022-10-26T13:42:28.542Z"
   },
   {
    "duration": 9,
    "start_time": "2022-10-26T13:42:28.555Z"
   },
   {
    "duration": 9,
    "start_time": "2022-10-26T13:42:28.566Z"
   },
   {
    "duration": 8,
    "start_time": "2022-10-26T13:42:28.576Z"
   },
   {
    "duration": 8,
    "start_time": "2022-10-26T13:42:28.586Z"
   },
   {
    "duration": 43,
    "start_time": "2022-10-26T13:42:28.595Z"
   },
   {
    "duration": 15,
    "start_time": "2022-10-26T13:42:28.640Z"
   },
   {
    "duration": 4,
    "start_time": "2022-10-26T13:42:28.657Z"
   },
   {
    "duration": 20,
    "start_time": "2022-10-26T13:42:28.662Z"
   },
   {
    "duration": 4,
    "start_time": "2022-10-26T13:42:28.684Z"
   },
   {
    "duration": 7424,
    "start_time": "2022-10-26T13:42:28.690Z"
   },
   {
    "duration": 13,
    "start_time": "2022-10-26T13:42:36.115Z"
   },
   {
    "duration": 35,
    "start_time": "2022-10-26T13:42:36.129Z"
   },
   {
    "duration": 2245,
    "start_time": "2022-10-26T13:42:36.166Z"
   },
   {
    "duration": 17,
    "start_time": "2022-10-26T13:42:38.415Z"
   },
   {
    "duration": 29,
    "start_time": "2022-10-26T13:42:38.433Z"
   },
   {
    "duration": 1443,
    "start_time": "2022-10-26T13:42:38.464Z"
   },
   {
    "duration": 30,
    "start_time": "2022-10-26T13:42:39.909Z"
   },
   {
    "duration": 4,
    "start_time": "2022-10-26T13:42:39.940Z"
   },
   {
    "duration": 13,
    "start_time": "2022-10-26T13:42:39.945Z"
   },
   {
    "duration": 5,
    "start_time": "2022-10-26T13:42:39.959Z"
   },
   {
    "duration": 8,
    "start_time": "2022-10-26T13:42:39.966Z"
   },
   {
    "duration": 5,
    "start_time": "2022-10-26T13:42:39.976Z"
   },
   {
    "duration": 6,
    "start_time": "2022-10-26T13:42:39.983Z"
   },
   {
    "duration": 9,
    "start_time": "2022-10-26T13:42:39.990Z"
   },
   {
    "duration": 37,
    "start_time": "2022-10-26T13:42:40.000Z"
   },
   {
    "duration": 14,
    "start_time": "2022-10-26T13:42:40.040Z"
   },
   {
    "duration": 14,
    "start_time": "2022-10-26T13:42:40.056Z"
   },
   {
    "duration": 8,
    "start_time": "2022-10-26T13:42:40.072Z"
   },
   {
    "duration": 9,
    "start_time": "2022-10-26T13:42:40.081Z"
   },
   {
    "duration": 32,
    "start_time": "2022-10-26T13:42:40.091Z"
   },
   {
    "duration": 14,
    "start_time": "2022-10-26T13:42:40.125Z"
   },
   {
    "duration": 12,
    "start_time": "2022-10-26T13:42:40.141Z"
   },
   {
    "duration": 9,
    "start_time": "2022-10-26T13:42:40.155Z"
   },
   {
    "duration": 12,
    "start_time": "2022-10-26T13:42:40.166Z"
   },
   {
    "duration": 10,
    "start_time": "2022-10-26T13:42:40.180Z"
   },
   {
    "duration": 37,
    "start_time": "2022-10-26T13:42:40.192Z"
   },
   {
    "duration": 23,
    "start_time": "2022-10-26T13:42:40.231Z"
   },
   {
    "duration": 7,
    "start_time": "2022-10-26T13:42:40.255Z"
   },
   {
    "duration": 8,
    "start_time": "2022-10-26T13:42:40.263Z"
   },
   {
    "duration": 8,
    "start_time": "2022-10-26T13:42:40.272Z"
   },
   {
    "duration": 53,
    "start_time": "2022-10-26T13:42:40.281Z"
   },
   {
    "duration": 10,
    "start_time": "2022-10-26T13:42:40.337Z"
   },
   {
    "duration": 85,
    "start_time": "2022-10-26T13:42:40.350Z"
   },
   {
    "duration": 22,
    "start_time": "2022-10-26T13:42:40.438Z"
   },
   {
    "duration": 15,
    "start_time": "2022-10-26T13:42:40.462Z"
   },
   {
    "duration": 4,
    "start_time": "2022-10-26T13:42:40.479Z"
   },
   {
    "duration": 52,
    "start_time": "2022-10-26T13:42:40.485Z"
   },
   {
    "duration": 3854,
    "start_time": "2022-10-26T13:42:40.539Z"
   },
   {
    "duration": 3466,
    "start_time": "2022-10-26T13:42:44.396Z"
   },
   {
    "duration": 10,
    "start_time": "2022-10-26T13:42:47.864Z"
   },
   {
    "duration": 12,
    "start_time": "2022-10-26T13:42:47.875Z"
   },
   {
    "duration": 11,
    "start_time": "2022-10-26T13:42:47.888Z"
   },
   {
    "duration": 161,
    "start_time": "2022-10-26T13:42:47.900Z"
   },
   {
    "duration": 151,
    "start_time": "2022-10-26T13:42:48.063Z"
   },
   {
    "duration": 33,
    "start_time": "2022-10-26T13:42:48.215Z"
   },
   {
    "duration": 21,
    "start_time": "2022-10-26T13:42:48.250Z"
   },
   {
    "duration": 17,
    "start_time": "2022-10-26T13:42:48.273Z"
   },
   {
    "duration": 44,
    "start_time": "2022-10-26T13:42:48.292Z"
   }
  ],
  "kernelspec": {
   "display_name": "Python 3 (ipykernel)",
   "language": "python",
   "name": "python3"
  },
  "language_info": {
   "codemirror_mode": {
    "name": "ipython",
    "version": 3
   },
   "file_extension": ".py",
   "mimetype": "text/x-python",
   "name": "python",
   "nbconvert_exporter": "python",
   "pygments_lexer": "ipython3",
   "version": "3.9.5"
  },
  "toc": {
   "base_numbering": 1,
   "nav_menu": {},
   "number_sections": true,
   "sideBar": true,
   "skip_h1_title": true,
   "title_cell": "Table of Contents",
   "title_sidebar": "Contents",
   "toc_cell": false,
   "toc_position": {},
   "toc_section_display": true,
   "toc_window_display": true
  }
 },
 "nbformat": 4,
 "nbformat_minor": 5
}
